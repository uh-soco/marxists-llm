{
 "cells": [
  {
   "cell_type": "code",
   "execution_count": 62,
   "metadata": {},
   "outputs": [],
   "source": [
    "import random\n",
    "import torch\n",
    "import pickle\n",
    "\n",
    "import re\n",
    "\n",
    "import pandas\n",
    "pandas.set_option('display.max_rows', None)\n",
    "\n",
    "from sentence_transformers import SentenceTransformer, models\n",
    "from bertopic import BERTopic"
   ]
  },
  {
   "cell_type": "markdown",
   "metadata": {},
   "source": [
    "## Data importing and cleaning\n",
    "\n",
    "* Remove links, images, @usernames and RTs indicating re-tweeting.\n",
    "* Remove all content which is empyt after this"
   ]
  },
  {
   "cell_type": "code",
   "execution_count": 63,
   "metadata": {},
   "outputs": [
    {
     "data": {
      "text/html": [
       "<div>\n",
       "<style scoped>\n",
       "    .dataframe tbody tr th:only-of-type {\n",
       "        vertical-align: middle;\n",
       "    }\n",
       "\n",
       "    .dataframe tbody tr th {\n",
       "        vertical-align: top;\n",
       "    }\n",
       "\n",
       "    .dataframe thead th {\n",
       "        text-align: right;\n",
       "    }\n",
       "</style>\n",
       "<table border=\"1\" class=\"dataframe\">\n",
       "  <thead>\n",
       "    <tr style=\"text-align: right;\">\n",
       "      <th></th>\n",
       "      <th>Unnamed: 0</th>\n",
       "      <th>ID</th>\n",
       "      <th>Time</th>\n",
       "      <th>Tweet.URL</th>\n",
       "      <th>Tweet.Text</th>\n",
       "    </tr>\n",
       "  </thead>\n",
       "  <tbody>\n",
       "    <tr>\n",
       "      <th>0</th>\n",
       "      <td>1</td>\n",
       "      <td>@realDonaldTrump</td>\n",
       "      <td>2017-01-20 06:31</td>\n",
       "      <td>https://twitter.com/realDonaldTrump/status/82...</td>\n",
       "      <td>It all begins today! I will see you at 11:00 A...</td>\n",
       "    </tr>\n",
       "    <tr>\n",
       "      <th>1</th>\n",
       "      <td>2</td>\n",
       "      <td>@realDonaldTrump</td>\n",
       "      <td>2017-01-20 11:51</td>\n",
       "      <td>https://twitter.com/realDonaldTrump/status/82...</td>\n",
       "      <td>Today we are not merely transferring power fro...</td>\n",
       "    </tr>\n",
       "    <tr>\n",
       "      <th>2</th>\n",
       "      <td>3</td>\n",
       "      <td>@realDonaldTrump</td>\n",
       "      <td>2017-01-20 11:51</td>\n",
       "      <td>https://twitter.com/realDonaldTrump/status/82...</td>\n",
       "      <td>power from Washington, D.C. and giving it back...</td>\n",
       "    </tr>\n",
       "    <tr>\n",
       "      <th>3</th>\n",
       "      <td>4</td>\n",
       "      <td>@realDonaldTrump</td>\n",
       "      <td>2017-01-20 11:52</td>\n",
       "      <td>https://twitter.com/realDonaldTrump/status/82...</td>\n",
       "      <td>What truly matters is not which party controls...</td>\n",
       "    </tr>\n",
       "    <tr>\n",
       "      <th>4</th>\n",
       "      <td>5</td>\n",
       "      <td>@realDonaldTrump</td>\n",
       "      <td>2017-01-20 11:53</td>\n",
       "      <td>https://twitter.com/realDonaldTrump/status/82...</td>\n",
       "      <td>January 20th 2017, will be remembered as the d...</td>\n",
       "    </tr>\n",
       "  </tbody>\n",
       "</table>\n",
       "</div>"
      ],
      "text/plain": [
       "   Unnamed: 0                ID               Time  \\\n",
       "0           1  @realDonaldTrump   2017-01-20 06:31   \n",
       "1           2  @realDonaldTrump   2017-01-20 11:51   \n",
       "2           3  @realDonaldTrump   2017-01-20 11:51   \n",
       "3           4  @realDonaldTrump   2017-01-20 11:52   \n",
       "4           5  @realDonaldTrump   2017-01-20 11:53   \n",
       "\n",
       "                                           Tweet.URL  \\\n",
       "0   https://twitter.com/realDonaldTrump/status/82...   \n",
       "1   https://twitter.com/realDonaldTrump/status/82...   \n",
       "2   https://twitter.com/realDonaldTrump/status/82...   \n",
       "3   https://twitter.com/realDonaldTrump/status/82...   \n",
       "4   https://twitter.com/realDonaldTrump/status/82...   \n",
       "\n",
       "                                          Tweet.Text  \n",
       "0  It all begins today! I will see you at 11:00 A...  \n",
       "1  Today we are not merely transferring power fro...  \n",
       "2  power from Washington, D.C. and giving it back...  \n",
       "3  What truly matters is not which party controls...  \n",
       "4  January 20th 2017, will be remembered as the d...  "
      ]
     },
     "execution_count": 63,
     "metadata": {},
     "output_type": "execute_result"
    }
   ],
   "source": [
    "data = pandas.read_csv(\"realDonaldTrump_in_office.csv\")\n",
    "\n",
    "## remove links and images\n",
    "data['Tweet.Text'] = data['Tweet.Text'].replace(r'http\\S+', '', regex=True).replace(r'www\\S+', '', regex=True)\n",
    "data['Tweet.Text'] = data['Tweet.Text'].replace(r'pic.twitter.com\\S+', '', regex=True)\n",
    "\n",
    "## remove usernames\n",
    "data['Tweet.Text'] = data['Tweet.Text'].replace(r'@\\S+', '', regex=True)\n",
    "\n",
    "## remove RTs\n",
    "data['Tweet.Text'] = data['Tweet.Text'].replace(r'RT', '', regex=True)\n",
    "\n",
    "data['Tweet.Text'] = data['Tweet.Text'].str.strip()\n",
    "\n",
    "## remove items which have no remaining content after cleaning it\n",
    "data = data.drop( data[ data['Tweet.Text'] == '' ].index )\n",
    "\n",
    "data.head()"
   ]
  },
  {
   "cell_type": "markdown",
   "metadata": {},
   "source": [
    "## BERTopics created\n",
    "\n",
    "* Resetting seeds for each model, extracting the word embeddings and then running the analysis with as close to default settings as possible"
   ]
  },
  {
   "cell_type": "code",
   "execution_count": 64,
   "metadata": {},
   "outputs": [],
   "source": [
    "def create_model( model_name ):\n",
    "\n",
    "    torch.manual_seed(0)\n",
    "    random.seed(0)\n",
    "\n",
    "    word_embedding_model = models.Transformer(model_name, max_seq_length=256)\n",
    "    pooling_model = models.Pooling(word_embedding_model.get_word_embedding_dimension())\n",
    "\n",
    "    transformer_model = SentenceTransformer(modules=[word_embedding_model, pooling_model])\n",
    "\n",
    "    topic_model = BERTopic(embedding_model=transformer_model )\n",
    "    topic_model.fit_transform(data['Tweet.Text'])\n",
    "\n",
    "    reduced_topics = topic_model.reduce_topics(data['Tweet.Text'], nr_topics=\"auto\")\n",
    "    \n",
    "    pickle.dump( ( reduced_topics, topic_model, transformer_model ) , file = open( f\"{model_name.replace('/', '_').replace('..', '')}\", \"wb\") )\n",
    "    return reduced_topics, topic_model, transformer_model"
   ]
  },
  {
   "cell_type": "code",
   "execution_count": 65,
   "metadata": {},
   "outputs": [
    {
     "name": "stderr",
     "output_type": "stream",
     "text": [
      "huggingface/tokenizers: The current process just got forked, after parallelism has already been used. Disabling parallelism to avoid deadlocks...\n",
      "huggingface/tokenizers: The current process just got forked, after parallelism has already been used. Disabling parallelism to avoid deadlocks...\n",
      "To disable this warning, you can either:\n",
      "\t- Avoid using `tokenizers` before the fork if possible\n",
      "\t- Explicitly set the environment variable huggingface/tokenizers: The current process just got forked, after parallelism has already been used. Disabling parallelism to avoid deadlocks...\n",
      "TOKENIZERS_PARALLELISMTo disable this warning, you can either:\n",
      "To disable this warning, you can either:\n",
      "\t- Avoid using `tokenizers` before the fork if possible\n",
      "\t- Explicitly set the environment variable \t- Avoid using `tokenizers` before the fork if possible\n",
      "\t- Explicitly set the environment variable TOKENIZERS_PARALLELISMhuggingface/tokenizers: The current process just got forked, after parallelism has already been used. Disabling parallelism to avoid deadlocks...\n",
      "=(true | false)\n",
      "To disable this warning, you can either:\n",
      "\t- Avoid using `tokenizers` before the fork if possible\n",
      "\t- Explicitly set the environment variable TOKENIZERS_PARALLELISM=(true | false)\n",
      "TOKENIZERS_PARALLELISM=(true | false)\n",
      "=(true | false)\n"
     ]
    }
   ],
   "source": [
    "capitalist, capitalist_full, capitalist_transformer = create_model(\"microsoft/deberta-v3-base\")\n",
    "marxist, marxist_full, marxist_transformer = create_model(\"../models/microsoft_deberta-v3-base-finetuned-masked-model\")"
   ]
  },
  {
   "cell_type": "markdown",
   "metadata": {},
   "source": [
    "## Basic summaries"
   ]
  },
  {
   "cell_type": "code",
   "execution_count": 67,
   "metadata": {},
   "outputs": [
    {
     "data": {
      "text/html": [
       "<div>\n",
       "<style scoped>\n",
       "    .dataframe tbody tr th:only-of-type {\n",
       "        vertical-align: middle;\n",
       "    }\n",
       "\n",
       "    .dataframe tbody tr th {\n",
       "        vertical-align: top;\n",
       "    }\n",
       "\n",
       "    .dataframe thead th {\n",
       "        text-align: right;\n",
       "    }\n",
       "</style>\n",
       "<table border=\"1\" class=\"dataframe\">\n",
       "  <thead>\n",
       "    <tr style=\"text-align: right;\">\n",
       "      <th></th>\n",
       "      <th>Topic</th>\n",
       "      <th>Count</th>\n",
       "      <th>Name</th>\n",
       "      <th>Representation</th>\n",
       "      <th>Representative_Docs</th>\n",
       "    </tr>\n",
       "  </thead>\n",
       "  <tbody>\n",
       "    <tr>\n",
       "      <th>0</th>\n",
       "      <td>-1</td>\n",
       "      <td>19428</td>\n",
       "      <td>-1_the_to_and_of</td>\n",
       "      <td>[the, to, and, of, in, is, for, that, on, are]</td>\n",
       "      <td>[It is amazing that I became President of the ...</td>\n",
       "    </tr>\n",
       "    <tr>\n",
       "      <th>1</th>\n",
       "      <td>0</td>\n",
       "      <td>205</td>\n",
       "      <td>0_great_true_wow_thanks</td>\n",
       "      <td>[great, true, wow, thanks, job, book, amazing,...</td>\n",
       "      <td>[Great!, Great!, Great!]</td>\n",
       "    </tr>\n",
       "    <tr>\n",
       "      <th>2</th>\n",
       "      <td>1</td>\n",
       "      <td>127</td>\n",
       "      <td>1_thank_you_great_nice</td>\n",
       "      <td>[thank, you, great, nice, honor, job, keep, wo...</td>\n",
       "      <td>[THANK YOU  GREAT JOB!!, Great news, thank you...</td>\n",
       "    </tr>\n",
       "    <tr>\n",
       "      <th>3</th>\n",
       "      <td>2</td>\n",
       "      <td>97</td>\n",
       "      <td>2_live_delivers_remarks_potus</td>\n",
       "      <td>[live, delivers, remarks, potus, president, sa...</td>\n",
       "      <td>[LIVE: President  delivers remarks on testing,...</td>\n",
       "    </tr>\n",
       "    <tr>\n",
       "      <th>4</th>\n",
       "      <td>3</td>\n",
       "      <td>85</td>\n",
       "      <td>3_again_make_america_great</td>\n",
       "      <td>[again, make, america, great, watcher, volunte...</td>\n",
       "      <td>[MAKE AMERICA GREAT AGAIN!, MAKE AMERICA GREAT...</td>\n",
       "    </tr>\n",
       "    <tr>\n",
       "      <th>5</th>\n",
       "      <td>4</td>\n",
       "      <td>84</td>\n",
       "      <td>4_thank_you_000_matt</td>\n",
       "      <td>[thank, you, 000, matt, payrolls, adp, 219, es...</td>\n",
       "      <td>[Thank you Mark!, Thank you John!, THANK YOU B...</td>\n",
       "    </tr>\n",
       "    <tr>\n",
       "      <th>6</th>\n",
       "      <td>5</td>\n",
       "      <td>78</td>\n",
       "      <td>5_interviewed_00_enjoy_tonight</td>\n",
       "      <td>[interviewed, 00, enjoy, tonight, at, eastern,...</td>\n",
       "      <td>[I will be interviewed by  tonight at 9:00 P.M...</td>\n",
       "    </tr>\n",
       "    <tr>\n",
       "      <th>7</th>\n",
       "      <td>6</td>\n",
       "      <td>77</td>\n",
       "      <td>6_great_usa_job_agree</td>\n",
       "      <td>[great, usa, job, agree, wow, dirty, congratul...</td>\n",
       "      <td>[WOW, they got caught. End the Witch Hunt now!...</td>\n",
       "    </tr>\n",
       "    <tr>\n",
       "      <th>8</th>\n",
       "      <td>7</td>\n",
       "      <td>77</td>\n",
       "      <td>7_true_watch_enjoy_now</td>\n",
       "      <td>[true, watch, enjoy, now, address, on, weekly,...</td>\n",
       "      <td>[Thanks  - TRUE!, Watch  on  NOW. Enjoy!, Than...</td>\n",
       "    </tr>\n",
       "    <tr>\n",
       "      <th>9</th>\n",
       "      <td>8</td>\n",
       "      <td>75</td>\n",
       "      <td>8_pleased_announce_secretary_united</td>\n",
       "      <td>[pleased, announce, secretary, united, of, am,...</td>\n",
       "      <td>[We are pleased to announce that Matthew G. Wh...</td>\n",
       "    </tr>\n",
       "    <tr>\n",
       "      <th>10</th>\n",
       "      <td>9</td>\n",
       "      <td>57</td>\n",
       "      <td>9_draining_swamp_jobsnotmobs_newhoaxsameswamp</td>\n",
       "      <td>[draining, swamp, jobsnotmobs, newhoaxsameswam...</td>\n",
       "      <td>[I AM DRAINING THE SWAMP!, I AM DRAINING THE S...</td>\n",
       "    </tr>\n",
       "    <tr>\n",
       "      <th>11</th>\n",
       "      <td>10</td>\n",
       "      <td>55</td>\n",
       "      <td>10_he_is_and_repeal</td>\n",
       "      <td>[he, is, and, repeal, the, fired, replace, was...</td>\n",
       "      <td>[James Comey is a proven LEAKER &amp;amp; LIAR. Vi...</td>\n",
       "    </tr>\n",
       "    <tr>\n",
       "      <th>12</th>\n",
       "      <td>11</td>\n",
       "      <td>53</td>\n",
       "      <td>11_thank_you_much_so</td>\n",
       "      <td>[thank, you, much, so, very, , , , , ]</td>\n",
       "      <td>[Thank you!, Thank you!, Thank you!]</td>\n",
       "    </tr>\n",
       "    <tr>\n",
       "      <th>13</th>\n",
       "      <td>12</td>\n",
       "      <td>51</td>\n",
       "      <td>12_trump_burisma_theory_biden</td>\n",
       "      <td>[trump, burisma, theory, biden, ignorance, ukr...</td>\n",
       "      <td>[New Poll Shows Dem’s Impeachment Hopes are Do...</td>\n",
       "    </tr>\n",
       "    <tr>\n",
       "      <th>14</th>\n",
       "      <td>13</td>\n",
       "      <td>47</td>\n",
       "      <td>13_thank_maga_you_kag2020</td>\n",
       "      <td>[thank, maga, you, kag2020, maga2020, sotu, fl...</td>\n",
       "      <td>[Thank you Florida! #MAGA, THANK YOU FLORIDA! ...</td>\n",
       "    </tr>\n",
       "    <tr>\n",
       "      <th>15</th>\n",
       "      <td>14</td>\n",
       "      <td>44</td>\n",
       "      <td>14_soon_see_state_maga</td>\n",
       "      <td>[soon, see, state, maga, way, you, great, toni...</td>\n",
       "      <td>[On my way to the Great State of South Carolin...</td>\n",
       "    </tr>\n",
       "    <tr>\n",
       "      <th>16</th>\n",
       "      <td>15</td>\n",
       "      <td>42</td>\n",
       "      <td>15_neverforget_september11th_usa_makeamericagr...</td>\n",
       "      <td>[neverforget, september11th, usa, makeamericag...</td>\n",
       "      <td>[#NeverForget #September11th, #NeverForget  #S...</td>\n",
       "    </tr>\n",
       "    <tr>\n",
       "      <th>17</th>\n",
       "      <td>16</td>\n",
       "      <td>40</td>\n",
       "      <td>16_scandal_says_trump_mcgowan</td>\n",
       "      <td>[scandal, says, trump, mcgowan, hits, via, gen...</td>\n",
       "      <td>[ABC, NBC, And CBS Pretty Much Bury IT Scandal...</td>\n",
       "    </tr>\n",
       "    <tr>\n",
       "      <th>18</th>\n",
       "      <td>17</td>\n",
       "      <td>37</td>\n",
       "      <td>17_thank_you_much_so</td>\n",
       "      <td>[thank, you, much, so, , , , , , ]</td>\n",
       "      <td>[Thank you, Thank you, Thank you]</td>\n",
       "    </tr>\n",
       "    <tr>\n",
       "      <th>19</th>\n",
       "      <td>18</td>\n",
       "      <td>36</td>\n",
       "      <td>18_appeal_grack_diary_knocked</td>\n",
       "      <td>[appeal, grack, diary, knocked, convenient, ag...</td>\n",
       "      <td>[....WILL APPEAL!, ....WILL APPEAL!!!, ....pas...</td>\n",
       "    </tr>\n",
       "    <tr>\n",
       "      <th>20</th>\n",
       "      <td>19</td>\n",
       "      <td>35</td>\n",
       "      <td>19_kag2020_thank_you_lesm</td>\n",
       "      <td>[kag2020, thank, you, lesm, tdswarning, sbagal...</td>\n",
       "      <td>[THANK YOU FLORIDA! #KAG2020, THANK YOU WASHIN...</td>\n",
       "    </tr>\n",
       "    <tr>\n",
       "      <th>21</th>\n",
       "      <td>20</td>\n",
       "      <td>31</td>\n",
       "      <td>20_task_briefing_force_press</td>\n",
       "      <td>[task, briefing, force, press, live, coronavir...</td>\n",
       "      <td>[LIVE: Press Briefing with Coronavirus Task Fo...</td>\n",
       "    </tr>\n",
       "    <tr>\n",
       "      <th>22</th>\n",
       "      <td>21</td>\n",
       "      <td>30</td>\n",
       "      <td>21_prime_minister_united_leader</td>\n",
       "      <td>[prime, minister, united, leader, states, bila...</td>\n",
       "      <td>[I am pleased to announce that a deal has been...</td>\n",
       "    </tr>\n",
       "    <tr>\n",
       "      <th>23</th>\n",
       "      <td>22</td>\n",
       "      <td>30</td>\n",
       "      <td>22_enjoy_interviewed_tonight_at</td>\n",
       "      <td>[enjoy, interviewed, tonight, at, 9pme, 00, by...</td>\n",
       "      <td>[Will be interviewed at the Border by  on  ton...</td>\n",
       "    </tr>\n",
       "    <tr>\n",
       "      <th>24</th>\n",
       "      <td>23</td>\n",
       "      <td>27</td>\n",
       "      <td>23_withheld_zelensky_unemployment_trump</td>\n",
       "      <td>[withheld, zelensky, unemployment, trump, rals...</td>\n",
       "      <td>[The Obama Administration strategically withhe...</td>\n",
       "    </tr>\n",
       "    <tr>\n",
       "      <th>25</th>\n",
       "      <td>24</td>\n",
       "      <td>27</td>\n",
       "      <td>24_happy_thanksgiving_merry_hunt</td>\n",
       "      <td>[happy, thanksgiving, merry, hunt, witch, chri...</td>\n",
       "      <td>[HAPPY THANKSGIVING!, HAPPY THANKSGIVING!, HAP...</td>\n",
       "    </tr>\n",
       "    <tr>\n",
       "      <th>26</th>\n",
       "      <td>25</td>\n",
       "      <td>27</td>\n",
       "      <td>25_button_and_lebron_no</td>\n",
       "      <td>[button, and, lebron, no, his, tariffs, word, ...</td>\n",
       "      <td>[Based on Justin’s false statements at his new...</td>\n",
       "    </tr>\n",
       "    <tr>\n",
       "      <th>27</th>\n",
       "      <td>26</td>\n",
       "      <td>27</td>\n",
       "      <td>26_thank_michigan_you_pennsylvania</td>\n",
       "      <td>[thank, michigan, you, pennsylvania, wisconsin...</td>\n",
       "      <td>[THANK YOU MICHIGAN!, THANK YOU MICHIGAN!, THA...</td>\n",
       "    </tr>\n",
       "    <tr>\n",
       "      <th>28</th>\n",
       "      <td>27</td>\n",
       "      <td>26</td>\n",
       "      <td>27_fake_news_birthday_order</td>\n",
       "      <td>[fake, news, birthday, order, hunt, witch, lun...</td>\n",
       "      <td>[Fake News!, FAKE NEWS!, Fake News!]</td>\n",
       "    </tr>\n",
       "    <tr>\n",
       "      <th>29</th>\n",
       "      <td>28</td>\n",
       "      <td>26</td>\n",
       "      <td>28_night_sarasota_yikes_big</td>\n",
       "      <td>[night, sarasota, yikes, big, rally, jupiter, ...</td>\n",
       "      <td>[MASSIVE line for Ivanka’s event in Sarasota!!...</td>\n",
       "    </tr>\n",
       "    <tr>\n",
       "      <th>30</th>\n",
       "      <td>29</td>\n",
       "      <td>26</td>\n",
       "      <td>29_holds_conference_live_news</td>\n",
       "      <td>[holds, conference, live, news, president, pre...</td>\n",
       "      <td>[LIVE: President  holds a news conference, LIV...</td>\n",
       "    </tr>\n",
       "    <tr>\n",
       "      <th>31</th>\n",
       "      <td>30</td>\n",
       "      <td>25</td>\n",
       "      <td>30_congratulations_haha_karma_thanks</td>\n",
       "      <td>[congratulations, haha, karma, thanks, thx, co...</td>\n",
       "      <td>[Congratulations, Congratulations, CONGRATULAT...</td>\n",
       "    </tr>\n",
       "    <tr>\n",
       "      <th>32</th>\n",
       "      <td>31</td>\n",
       "      <td>25</td>\n",
       "      <td>31_maga_thank_you_rep</td>\n",
       "      <td>[maga, thank, you, rep, let, hosting, morning,...</td>\n",
       "      <td>[THANK YOU! #MAGA, THANK YOU! #MAGA, THANK YOU...</td>\n",
       "    </tr>\n",
       "    <tr>\n",
       "      <th>33</th>\n",
       "      <td>32</td>\n",
       "      <td>24</td>\n",
       "      <td>32_harassment_presidential_distancing_warrantless</td>\n",
       "      <td>[harassment, presidential, distancing, warrant...</td>\n",
       "      <td>[PRESIDENTIAL HARASSMENT!, PRESIDENTIAL HARASS...</td>\n",
       "    </tr>\n",
       "    <tr>\n",
       "      <th>34</th>\n",
       "      <td>33</td>\n",
       "      <td>23</td>\n",
       "      <td>33_tickets_join_00pm_me</td>\n",
       "      <td>[tickets, join, 00pm, me, center, at, saturday...</td>\n",
       "      <td>[Join me in Washington, Michigan on Saturday, ...</td>\n",
       "    </tr>\n",
       "    <tr>\n",
       "      <th>35</th>\n",
       "      <td>34</td>\n",
       "      <td>23</td>\n",
       "      <td>34_conference_eastern_white_30</td>\n",
       "      <td>[conference, eastern, white, 30, house, at, ne...</td>\n",
       "      <td>[White House news conference at 5:30 P.M. East...</td>\n",
       "    </tr>\n",
       "    <tr>\n",
       "      <th>36</th>\n",
       "      <td>35</td>\n",
       "      <td>23</td>\n",
       "      <td>35_order_law_amp_thank</td>\n",
       "      <td>[order, law, amp, thank, you, and, to, , , ]</td>\n",
       "      <td>[LAW &amp;amp; ORDER!, LAW &amp;amp; ORDER!!!, LAW &amp;am...</td>\n",
       "    </tr>\n",
       "    <tr>\n",
       "      <th>37</th>\n",
       "      <td>36</td>\n",
       "      <td>22</td>\n",
       "      <td>36_thank_you_mike_narendramodi</td>\n",
       "      <td>[thank, you, mike, narendramodi, kirstie, ritc...</td>\n",
       "      <td>[Thank you! ‚Ä¶, Thank you! ‚Ä¶, Thank you! ‚Ä¶]</td>\n",
       "    </tr>\n",
       "    <tr>\n",
       "      <th>38</th>\n",
       "      <td>37</td>\n",
       "      <td>21</td>\n",
       "      <td>37_together_again_america_making</td>\n",
       "      <td>[together, again, america, making, great, than...</td>\n",
       "      <td>[Together, we are MAKING AMERICA GREAT AGAIN!,...</td>\n",
       "    </tr>\n",
       "    <tr>\n",
       "      <th>39</th>\n",
       "      <td>38</td>\n",
       "      <td>21</td>\n",
       "      <td>38_every_we_amp_our</td>\n",
       "      <td>[every, we, amp, our, dream, innovators, of, e...</td>\n",
       "      <td>[Republicans are fighting for citizens from ev...</td>\n",
       "    </tr>\n",
       "    <tr>\n",
       "      <th>40</th>\n",
       "      <td>39</td>\n",
       "      <td>20</td>\n",
       "      <td>39_vows_trump_83_cbo</td>\n",
       "      <td>[vows, trump, 83, cbo, foxnews, blasts, associ...</td>\n",
       "      <td>[Trump vows coronavirus-ravaged economy will '...</td>\n",
       "    </tr>\n",
       "    <tr>\n",
       "      <th>41</th>\n",
       "      <td>40</td>\n",
       "      <td>19</td>\n",
       "      <td>40_noh_lyin_shifty_carolina</td>\n",
       "      <td>[noh, lyin, shifty, carolina, williams, msdnc,...</td>\n",
       "      <td>[THANK YOU NOH CAROLINA!, THANK YOU NOH CAROLI...</td>\n",
       "    </tr>\n",
       "    <tr>\n",
       "      <th>42</th>\n",
       "      <td>41</td>\n",
       "      <td>19</td>\n",
       "      <td>41_courage_viewpoints_amazing_guy</td>\n",
       "      <td>[courage, viewpoints, amazing, guy, happened, ...</td>\n",
       "      <td>[An amazing guy. Burgess is what we need in Wa...</td>\n",
       "    </tr>\n",
       "    <tr>\n",
       "      <th>43</th>\n",
       "      <td>42</td>\n",
       "      <td>18</td>\n",
       "      <td>42_love_you_thank_minnesota</td>\n",
       "      <td>[love, you, thank, minnesota, west, virginia, ...</td>\n",
       "      <td>[Thank you. I love you Ohio!, Thank you Florid...</td>\n",
       "    </tr>\n",
       "    <tr>\n",
       "      <th>44</th>\n",
       "      <td>43</td>\n",
       "      <td>18</td>\n",
       "      <td>43_brilliant_giancarlo_great_big</td>\n",
       "      <td>[brilliant, giancarlo, great, big, win, beauti...</td>\n",
       "      <td>[A big and beautiful day today!, Incredible yo...</td>\n",
       "    </tr>\n",
       "    <tr>\n",
       "      <th>45</th>\n",
       "      <td>44</td>\n",
       "      <td>18</td>\n",
       "      <td>44_jobs_ÿπÿñÿäÿá_ÿåÿä_ÿöÿü</td>\n",
       "      <td>[jobs, ÿπÿñÿäÿá, ÿåÿä, ÿöÿü, ÿøÿà, ÿöÿß, ÿñÿäÿ...</td>\n",
       "      <td>[Just leaving. Incredible Complex. JOBS! JOBS!...</td>\n",
       "    </tr>\n",
       "    <tr>\n",
       "      <th>46</th>\n",
       "      <td>45</td>\n",
       "      <td>17</td>\n",
       "      <td>45_happy_day_birthday_70th</td>\n",
       "      <td>[happy, day, birthday, 70th, columbus, nationa...</td>\n",
       "      <td>[HAPPY COLUMBUS DAY TO ALL!, Happy National Fa...</td>\n",
       "    </tr>\n",
       "    <tr>\n",
       "      <th>47</th>\n",
       "      <td>46</td>\n",
       "      <td>17</td>\n",
       "      <td>46_thank_you_photograph_florida</td>\n",
       "      <td>[thank, you, photograph, florida, pennsylvania...</td>\n",
       "      <td>[THANK YOU TAMPA, FLORIDA!, THANK YOU ORLANDO,...</td>\n",
       "    </tr>\n",
       "    <tr>\n",
       "      <th>48</th>\n",
       "      <td>47</td>\n",
       "      <td>17</td>\n",
       "      <td>47_true_so_thanks_nice</td>\n",
       "      <td>[true, so, thanks, nice, no, , , , , ]</td>\n",
       "      <td>[So true!, So true!, So true]</td>\n",
       "    </tr>\n",
       "    <tr>\n",
       "      <th>49</th>\n",
       "      <td>48</td>\n",
       "      <td>17</td>\n",
       "      <td>48_makeamericagreatagain_throwbackthursdays_ma...</td>\n",
       "      <td>[makeamericagreatagain, throwbackthursdays, ma...</td>\n",
       "      <td>[#MakeAmericaGreatAgain!!! 🇺🇸🇺🇸, #MakeAmericaG...</td>\n",
       "    </tr>\n",
       "    <tr>\n",
       "      <th>50</th>\n",
       "      <td>49</td>\n",
       "      <td>17</td>\n",
       "      <td>49_jobs_vote_winning_usa</td>\n",
       "      <td>[jobs, vote, winning, usa, , , , , , ]</td>\n",
       "      <td>[JOBS, JOBS, JOBS!, JOBS, JOBS, JOBS!, JOBS! J...</td>\n",
       "    </tr>\n",
       "    <tr>\n",
       "      <th>51</th>\n",
       "      <td>50</td>\n",
       "      <td>16</td>\n",
       "      <td>50_de_la_potusinjapan_en</td>\n",
       "      <td>[de, la, potusinjapan, en, día, トランプ大統領, del, ...</td>\n",
       "      <td>[#Florence sigue causando inundaciones repenti...</td>\n",
       "    </tr>\n",
       "    <tr>\n",
       "      <th>52</th>\n",
       "      <td>51</td>\n",
       "      <td>15</td>\n",
       "      <td>51_bless_god_maga_exoneration</td>\n",
       "      <td>[bless, god, maga, exoneration, usa, hsien, lo...</td>\n",
       "      <td>[GOD BLESS THE U.S.A.!, GOD BLESS THE U.S.A.! ...</td>\n",
       "    </tr>\n",
       "    <tr>\n",
       "      <th>53</th>\n",
       "      <td>52</td>\n",
       "      <td>15</td>\n",
       "      <td>52_به_ایران_را_और</td>\n",
       "      <td>[به, ایران, را, और, است, रत, می, हम, در, که]</td>\n",
       "      <td>[خطاب به رهبران ايران: معترضان خود را نكشيد. ه...</td>\n",
       "    </tr>\n",
       "    <tr>\n",
       "      <th>54</th>\n",
       "      <td>53</td>\n",
       "      <td>14</td>\n",
       "      <td>53_harassment_first_presidential_america</td>\n",
       "      <td>[harassment, first, presidential, america, jou...</td>\n",
       "      <td>[Presidential Harassment!, Presidential Harass...</td>\n",
       "    </tr>\n",
       "    <tr>\n",
       "      <th>55</th>\n",
       "      <td>54</td>\n",
       "      <td>14</td>\n",
       "      <td>54_weeklyaddress_weekly_address_usstatevisit</td>\n",
       "      <td>[weeklyaddress, weekly, address, usstatevisit,...</td>\n",
       "      <td>[#WeeklyAddress🇺🇸, #WeeklyAddress🇺🇸 ➡️, #Weekl...</td>\n",
       "    </tr>\n",
       "    <tr>\n",
       "      <th>56</th>\n",
       "      <td>55</td>\n",
       "      <td>14</td>\n",
       "      <td>55_obamagate_wave_red_revoke</td>\n",
       "      <td>[obamagate, wave, red, revoke, ctwisdom, pppwo...</td>\n",
       "      <td>[OBAMAGATE!, OBAMAGATE!, OBAMAGATE!]</td>\n",
       "    </tr>\n",
       "    <tr>\n",
       "      <th>57</th>\n",
       "      <td>56</td>\n",
       "      <td>14</td>\n",
       "      <td>56_party_american_high_blatant</td>\n",
       "      <td>[party, american, high, blatant, abortion, dre...</td>\n",
       "      <td>[Democrats are now the party of high taxes, hi...</td>\n",
       "    </tr>\n",
       "    <tr>\n",
       "      <th>58</th>\n",
       "      <td>57</td>\n",
       "      <td>14</td>\n",
       "      <td>57_read_transcripts_transcript_sanity</td>\n",
       "      <td>[read, transcripts, transcript, sanity, februa...</td>\n",
       "      <td>[Read the Transcripts!, READ THE TRANSCRIPTS!,...</td>\n",
       "    </tr>\n",
       "    <tr>\n",
       "      <th>59</th>\n",
       "      <td>58</td>\n",
       "      <td>12</td>\n",
       "      <td>58_see_soon_heading_way</td>\n",
       "      <td>[see, soon, heading, way, you, my, arizona, ge...</td>\n",
       "      <td>[On my way, see you soon!, On my way, see you ...</td>\n",
       "    </tr>\n",
       "    <tr>\n",
       "      <th>60</th>\n",
       "      <td>59</td>\n",
       "      <td>12</td>\n",
       "      <td>59_äù_bretbaier_äúthe_closed</td>\n",
       "      <td>[äù, bretbaier, äúthe, closed, brithume, äúcli...</td>\n",
       "      <td>[‚ÄúYou don‚Äôt see a direct quid pro quo in t...</td>\n",
       "    </tr>\n",
       "    <tr>\n",
       "      <th>61</th>\n",
       "      <td>60</td>\n",
       "      <td>11</td>\n",
       "      <td>60_enemy_assault_atrocious_fake</td>\n",
       "      <td>[enemy, assault, atrocious, fake, pay, an, peo...</td>\n",
       "      <td>[FAKE NEWS IS THE ENEMY OF THE PEOPLE!, SUCH A...</td>\n",
       "    </tr>\n",
       "    <tr>\n",
       "      <th>62</th>\n",
       "      <td>61</td>\n",
       "      <td>11</td>\n",
       "      <td>61_omarosa_flake_non_unwisely</td>\n",
       "      <td>[omarosa, flake, non, unwisely, affiliated, ke...</td>\n",
       "      <td>[While I know it’s “not presidential” to take ...</td>\n",
       "    </tr>\n",
       "    <tr>\n",
       "      <th>63</th>\n",
       "      <td>62</td>\n",
       "      <td>11</td>\n",
       "      <td>62_yes___</td>\n",
       "      <td>[yes, , , , , , , , , ]</td>\n",
       "      <td>[‚Ä¶, YES! ‚Ä¶, 🚨🚨]</td>\n",
       "    </tr>\n",
       "  </tbody>\n",
       "</table>\n",
       "</div>"
      ],
      "text/plain": [
       "    Topic  Count                                               Name  \\\n",
       "0      -1  19428                                   -1_the_to_and_of   \n",
       "1       0    205                            0_great_true_wow_thanks   \n",
       "2       1    127                             1_thank_you_great_nice   \n",
       "3       2     97                      2_live_delivers_remarks_potus   \n",
       "4       3     85                         3_again_make_america_great   \n",
       "5       4     84                               4_thank_you_000_matt   \n",
       "6       5     78                     5_interviewed_00_enjoy_tonight   \n",
       "7       6     77                              6_great_usa_job_agree   \n",
       "8       7     77                             7_true_watch_enjoy_now   \n",
       "9       8     75                8_pleased_announce_secretary_united   \n",
       "10      9     57      9_draining_swamp_jobsnotmobs_newhoaxsameswamp   \n",
       "11     10     55                                10_he_is_and_repeal   \n",
       "12     11     53                               11_thank_you_much_so   \n",
       "13     12     51                      12_trump_burisma_theory_biden   \n",
       "14     13     47                          13_thank_maga_you_kag2020   \n",
       "15     14     44                             14_soon_see_state_maga   \n",
       "16     15     42  15_neverforget_september11th_usa_makeamericagr...   \n",
       "17     16     40                      16_scandal_says_trump_mcgowan   \n",
       "18     17     37                               17_thank_you_much_so   \n",
       "19     18     36                      18_appeal_grack_diary_knocked   \n",
       "20     19     35                          19_kag2020_thank_you_lesm   \n",
       "21     20     31                       20_task_briefing_force_press   \n",
       "22     21     30                    21_prime_minister_united_leader   \n",
       "23     22     30                    22_enjoy_interviewed_tonight_at   \n",
       "24     23     27            23_withheld_zelensky_unemployment_trump   \n",
       "25     24     27                   24_happy_thanksgiving_merry_hunt   \n",
       "26     25     27                            25_button_and_lebron_no   \n",
       "27     26     27                 26_thank_michigan_you_pennsylvania   \n",
       "28     27     26                        27_fake_news_birthday_order   \n",
       "29     28     26                        28_night_sarasota_yikes_big   \n",
       "30     29     26                      29_holds_conference_live_news   \n",
       "31     30     25               30_congratulations_haha_karma_thanks   \n",
       "32     31     25                              31_maga_thank_you_rep   \n",
       "33     32     24  32_harassment_presidential_distancing_warrantless   \n",
       "34     33     23                            33_tickets_join_00pm_me   \n",
       "35     34     23                     34_conference_eastern_white_30   \n",
       "36     35     23                             35_order_law_amp_thank   \n",
       "37     36     22                     36_thank_you_mike_narendramodi   \n",
       "38     37     21                   37_together_again_america_making   \n",
       "39     38     21                                38_every_we_amp_our   \n",
       "40     39     20                               39_vows_trump_83_cbo   \n",
       "41     40     19                        40_noh_lyin_shifty_carolina   \n",
       "42     41     19                  41_courage_viewpoints_amazing_guy   \n",
       "43     42     18                        42_love_you_thank_minnesota   \n",
       "44     43     18                   43_brilliant_giancarlo_great_big   \n",
       "45     44     18                         44_jobs_ÿπÿñÿäÿá_ÿåÿä_ÿöÿü   \n",
       "46     45     17                         45_happy_day_birthday_70th   \n",
       "47     46     17                    46_thank_you_photograph_florida   \n",
       "48     47     17                             47_true_so_thanks_nice   \n",
       "49     48     17  48_makeamericagreatagain_throwbackthursdays_ma...   \n",
       "50     49     17                           49_jobs_vote_winning_usa   \n",
       "51     50     16                           50_de_la_potusinjapan_en   \n",
       "52     51     15                      51_bless_god_maga_exoneration   \n",
       "53     52     15                                  52_به_ایران_را_और   \n",
       "54     53     14           53_harassment_first_presidential_america   \n",
       "55     54     14       54_weeklyaddress_weekly_address_usstatevisit   \n",
       "56     55     14                       55_obamagate_wave_red_revoke   \n",
       "57     56     14                     56_party_american_high_blatant   \n",
       "58     57     14              57_read_transcripts_transcript_sanity   \n",
       "59     58     12                            58_see_soon_heading_way   \n",
       "60     59     12                       59_äù_bretbaier_äúthe_closed   \n",
       "61     60     11                    60_enemy_assault_atrocious_fake   \n",
       "62     61     11                      61_omarosa_flake_non_unwisely   \n",
       "63     62     11                                          62_yes___   \n",
       "\n",
       "                                       Representation  \\\n",
       "0      [the, to, and, of, in, is, for, that, on, are]   \n",
       "1   [great, true, wow, thanks, job, book, amazing,...   \n",
       "2   [thank, you, great, nice, honor, job, keep, wo...   \n",
       "3   [live, delivers, remarks, potus, president, sa...   \n",
       "4   [again, make, america, great, watcher, volunte...   \n",
       "5   [thank, you, 000, matt, payrolls, adp, 219, es...   \n",
       "6   [interviewed, 00, enjoy, tonight, at, eastern,...   \n",
       "7   [great, usa, job, agree, wow, dirty, congratul...   \n",
       "8   [true, watch, enjoy, now, address, on, weekly,...   \n",
       "9   [pleased, announce, secretary, united, of, am,...   \n",
       "10  [draining, swamp, jobsnotmobs, newhoaxsameswam...   \n",
       "11  [he, is, and, repeal, the, fired, replace, was...   \n",
       "12             [thank, you, much, so, very, , , , , ]   \n",
       "13  [trump, burisma, theory, biden, ignorance, ukr...   \n",
       "14  [thank, maga, you, kag2020, maga2020, sotu, fl...   \n",
       "15  [soon, see, state, maga, way, you, great, toni...   \n",
       "16  [neverforget, september11th, usa, makeamericag...   \n",
       "17  [scandal, says, trump, mcgowan, hits, via, gen...   \n",
       "18                 [thank, you, much, so, , , , , , ]   \n",
       "19  [appeal, grack, diary, knocked, convenient, ag...   \n",
       "20  [kag2020, thank, you, lesm, tdswarning, sbagal...   \n",
       "21  [task, briefing, force, press, live, coronavir...   \n",
       "22  [prime, minister, united, leader, states, bila...   \n",
       "23  [enjoy, interviewed, tonight, at, 9pme, 00, by...   \n",
       "24  [withheld, zelensky, unemployment, trump, rals...   \n",
       "25  [happy, thanksgiving, merry, hunt, witch, chri...   \n",
       "26  [button, and, lebron, no, his, tariffs, word, ...   \n",
       "27  [thank, michigan, you, pennsylvania, wisconsin...   \n",
       "28  [fake, news, birthday, order, hunt, witch, lun...   \n",
       "29  [night, sarasota, yikes, big, rally, jupiter, ...   \n",
       "30  [holds, conference, live, news, president, pre...   \n",
       "31  [congratulations, haha, karma, thanks, thx, co...   \n",
       "32  [maga, thank, you, rep, let, hosting, morning,...   \n",
       "33  [harassment, presidential, distancing, warrant...   \n",
       "34  [tickets, join, 00pm, me, center, at, saturday...   \n",
       "35  [conference, eastern, white, 30, house, at, ne...   \n",
       "36       [order, law, amp, thank, you, and, to, , , ]   \n",
       "37  [thank, you, mike, narendramodi, kirstie, ritc...   \n",
       "38  [together, again, america, making, great, than...   \n",
       "39  [every, we, amp, our, dream, innovators, of, e...   \n",
       "40  [vows, trump, 83, cbo, foxnews, blasts, associ...   \n",
       "41  [noh, lyin, shifty, carolina, williams, msdnc,...   \n",
       "42  [courage, viewpoints, amazing, guy, happened, ...   \n",
       "43  [love, you, thank, minnesota, west, virginia, ...   \n",
       "44  [brilliant, giancarlo, great, big, win, beauti...   \n",
       "45  [jobs, ÿπÿñÿäÿá, ÿåÿä, ÿöÿü, ÿøÿà, ÿöÿß, ÿñÿäÿ...   \n",
       "46  [happy, day, birthday, 70th, columbus, nationa...   \n",
       "47  [thank, you, photograph, florida, pennsylvania...   \n",
       "48             [true, so, thanks, nice, no, , , , , ]   \n",
       "49  [makeamericagreatagain, throwbackthursdays, ma...   \n",
       "50             [jobs, vote, winning, usa, , , , , , ]   \n",
       "51  [de, la, potusinjapan, en, día, トランプ大統領, del, ...   \n",
       "52  [bless, god, maga, exoneration, usa, hsien, lo...   \n",
       "53       [به, ایران, را, और, است, रत, می, हम, در, که]   \n",
       "54  [harassment, first, presidential, america, jou...   \n",
       "55  [weeklyaddress, weekly, address, usstatevisit,...   \n",
       "56  [obamagate, wave, red, revoke, ctwisdom, pppwo...   \n",
       "57  [party, american, high, blatant, abortion, dre...   \n",
       "58  [read, transcripts, transcript, sanity, februa...   \n",
       "59  [see, soon, heading, way, you, my, arizona, ge...   \n",
       "60  [äù, bretbaier, äúthe, closed, brithume, äúcli...   \n",
       "61  [enemy, assault, atrocious, fake, pay, an, peo...   \n",
       "62  [omarosa, flake, non, unwisely, affiliated, ke...   \n",
       "63                            [yes, , , , , , , , , ]   \n",
       "\n",
       "                                  Representative_Docs  \n",
       "0   [It is amazing that I became President of the ...  \n",
       "1                            [Great!, Great!, Great!]  \n",
       "2   [THANK YOU  GREAT JOB!!, Great news, thank you...  \n",
       "3   [LIVE: President  delivers remarks on testing,...  \n",
       "4   [MAKE AMERICA GREAT AGAIN!, MAKE AMERICA GREAT...  \n",
       "5   [Thank you Mark!, Thank you John!, THANK YOU B...  \n",
       "6   [I will be interviewed by  tonight at 9:00 P.M...  \n",
       "7   [WOW, they got caught. End the Witch Hunt now!...  \n",
       "8   [Thanks  - TRUE!, Watch  on  NOW. Enjoy!, Than...  \n",
       "9   [We are pleased to announce that Matthew G. Wh...  \n",
       "10  [I AM DRAINING THE SWAMP!, I AM DRAINING THE S...  \n",
       "11  [James Comey is a proven LEAKER &amp; LIAR. Vi...  \n",
       "12               [Thank you!, Thank you!, Thank you!]  \n",
       "13  [New Poll Shows Dem’s Impeachment Hopes are Do...  \n",
       "14  [Thank you Florida! #MAGA, THANK YOU FLORIDA! ...  \n",
       "15  [On my way to the Great State of South Carolin...  \n",
       "16  [#NeverForget #September11th, #NeverForget  #S...  \n",
       "17  [ABC, NBC, And CBS Pretty Much Bury IT Scandal...  \n",
       "18                  [Thank you, Thank you, Thank you]  \n",
       "19  [....WILL APPEAL!, ....WILL APPEAL!!!, ....pas...  \n",
       "20  [THANK YOU FLORIDA! #KAG2020, THANK YOU WASHIN...  \n",
       "21  [LIVE: Press Briefing with Coronavirus Task Fo...  \n",
       "22  [I am pleased to announce that a deal has been...  \n",
       "23  [Will be interviewed at the Border by  on  ton...  \n",
       "24  [The Obama Administration strategically withhe...  \n",
       "25  [HAPPY THANKSGIVING!, HAPPY THANKSGIVING!, HAP...  \n",
       "26  [Based on Justin’s false statements at his new...  \n",
       "27  [THANK YOU MICHIGAN!, THANK YOU MICHIGAN!, THA...  \n",
       "28               [Fake News!, FAKE NEWS!, Fake News!]  \n",
       "29  [MASSIVE line for Ivanka’s event in Sarasota!!...  \n",
       "30  [LIVE: President  holds a news conference, LIV...  \n",
       "31  [Congratulations, Congratulations, CONGRATULAT...  \n",
       "32  [THANK YOU! #MAGA, THANK YOU! #MAGA, THANK YOU...  \n",
       "33  [PRESIDENTIAL HARASSMENT!, PRESIDENTIAL HARASS...  \n",
       "34  [Join me in Washington, Michigan on Saturday, ...  \n",
       "35  [White House news conference at 5:30 P.M. East...  \n",
       "36  [LAW &amp; ORDER!, LAW &amp; ORDER!!!, LAW &am...  \n",
       "37   [Thank you! ‚Ä¶, Thank you! ‚Ä¶, Thank you! ‚Ä¶]  \n",
       "38  [Together, we are MAKING AMERICA GREAT AGAIN!,...  \n",
       "39  [Republicans are fighting for citizens from ev...  \n",
       "40  [Trump vows coronavirus-ravaged economy will '...  \n",
       "41  [THANK YOU NOH CAROLINA!, THANK YOU NOH CAROLI...  \n",
       "42  [An amazing guy. Burgess is what we need in Wa...  \n",
       "43  [Thank you. I love you Ohio!, Thank you Florid...  \n",
       "44  [A big and beautiful day today!, Incredible yo...  \n",
       "45  [Just leaving. Incredible Complex. JOBS! JOBS!...  \n",
       "46  [HAPPY COLUMBUS DAY TO ALL!, Happy National Fa...  \n",
       "47  [THANK YOU TAMPA, FLORIDA!, THANK YOU ORLANDO,...  \n",
       "48                      [So true!, So true!, So true]  \n",
       "49  [#MakeAmericaGreatAgain!!! 🇺🇸🇺🇸, #MakeAmericaG...  \n",
       "50  [JOBS, JOBS, JOBS!, JOBS, JOBS, JOBS!, JOBS! J...  \n",
       "51  [#Florence sigue causando inundaciones repenti...  \n",
       "52  [GOD BLESS THE U.S.A.!, GOD BLESS THE U.S.A.! ...  \n",
       "53  [خطاب به رهبران ايران: معترضان خود را نكشيد. ه...  \n",
       "54  [Presidential Harassment!, Presidential Harass...  \n",
       "55  [#WeeklyAddress🇺🇸, #WeeklyAddress🇺🇸 ➡️, #Weekl...  \n",
       "56               [OBAMAGATE!, OBAMAGATE!, OBAMAGATE!]  \n",
       "57  [Democrats are now the party of high taxes, hi...  \n",
       "58  [Read the Transcripts!, READ THE TRANSCRIPTS!,...  \n",
       "59  [On my way, see you soon!, On my way, see you ...  \n",
       "60  [‚ÄúYou don‚Äôt see a direct quid pro quo in t...  \n",
       "61  [FAKE NEWS IS THE ENEMY OF THE PEOPLE!, SUCH A...  \n",
       "62  [While I know it’s “not presidential” to take ...  \n",
       "63                                [‚Ä¶, YES! ‚Ä¶, 🚨🚨]  "
      ]
     },
     "execution_count": 67,
     "metadata": {},
     "output_type": "execute_result"
    }
   ],
   "source": [
    "capitalist.merge_topics(data['Tweet.Text'], [-1, 0])\n",
    "capitalist.get_topic_info()"
   ]
  },
  {
   "cell_type": "code",
   "execution_count": 69,
   "metadata": {},
   "outputs": [
    {
     "data": {
      "text/html": [
       "<div>\n",
       "<style scoped>\n",
       "    .dataframe tbody tr th:only-of-type {\n",
       "        vertical-align: middle;\n",
       "    }\n",
       "\n",
       "    .dataframe tbody tr th {\n",
       "        vertical-align: top;\n",
       "    }\n",
       "\n",
       "    .dataframe thead th {\n",
       "        text-align: right;\n",
       "    }\n",
       "</style>\n",
       "<table border=\"1\" class=\"dataframe\">\n",
       "  <thead>\n",
       "    <tr style=\"text-align: right;\">\n",
       "      <th></th>\n",
       "      <th>Topic</th>\n",
       "      <th>Count</th>\n",
       "      <th>Name</th>\n",
       "      <th>Representation</th>\n",
       "      <th>Representative_Docs</th>\n",
       "    </tr>\n",
       "  </thead>\n",
       "  <tbody>\n",
       "    <tr>\n",
       "      <th>0</th>\n",
       "      <td>-1</td>\n",
       "      <td>19006</td>\n",
       "      <td>-1_the_to_and_of</td>\n",
       "      <td>[the, to, and, of, in, is, for, that, on, are]</td>\n",
       "      <td>[....and other really bad people, SPIED ON MY ...</td>\n",
       "    </tr>\n",
       "    <tr>\n",
       "      <th>1</th>\n",
       "      <td>0</td>\n",
       "      <td>462</td>\n",
       "      <td>0_via_trump_biden_election</td>\n",
       "      <td>[via, trump, biden, election, fbi, to, clinton...</td>\n",
       "      <td>[EXCLUSIVE: Report Shows FBI Official Received...</td>\n",
       "    </tr>\n",
       "    <tr>\n",
       "      <th>2</th>\n",
       "      <td>1</td>\n",
       "      <td>118</td>\n",
       "      <td>1_thank_you_matt_franklin</td>\n",
       "      <td>[thank, you, matt, franklin, rudy, brad, steve...</td>\n",
       "      <td>[Thank you!, Thank you!, Thank you!]</td>\n",
       "    </tr>\n",
       "    <tr>\n",
       "      <th>3</th>\n",
       "      <td>2</td>\n",
       "      <td>101</td>\n",
       "      <td>2_true_wow_thanks_great</td>\n",
       "      <td>[true, wow, thanks, great, amazing, yes, inter...</td>\n",
       "      <td>[True!, Thanks  - TRUE!, Thanks  - TRUE!]</td>\n",
       "    </tr>\n",
       "    <tr>\n",
       "      <th>4</th>\n",
       "      <td>3</td>\n",
       "      <td>99</td>\n",
       "      <td>3_interviewed_00_enjoy_tonight</td>\n",
       "      <td>[interviewed, 00, enjoy, tonight, at, be, east...</td>\n",
       "      <td>[Will be interviewed by  tonight at 9:00 P.M. ...</td>\n",
       "    </tr>\n",
       "    <tr>\n",
       "      <th>5</th>\n",
       "      <td>4</td>\n",
       "      <td>89</td>\n",
       "      <td>4_see_soon_way_state</td>\n",
       "      <td>[see, soon, way, state, landed, everyone, head...</td>\n",
       "      <td>[On my way, see you soon!, On my way to the Gr...</td>\n",
       "    </tr>\n",
       "    <tr>\n",
       "      <th>6</th>\n",
       "      <td>5</td>\n",
       "      <td>87</td>\n",
       "      <td>5_thank_you_love_nice</td>\n",
       "      <td>[thank, you, love, nice, honor, so, true, grea...</td>\n",
       "      <td>[Thank you. I love you too!, Great news, thank...</td>\n",
       "    </tr>\n",
       "    <tr>\n",
       "      <th>7</th>\n",
       "      <td>6</td>\n",
       "      <td>83</td>\n",
       "      <td>6_thank_maga_you_maga2020</td>\n",
       "      <td>[thank, maga, you, maga2020, kag2020, missoula...</td>\n",
       "      <td>[THANK YOU! #MAGA, THANK YOU! #MAGA, THANK YOU...</td>\n",
       "    </tr>\n",
       "    <tr>\n",
       "      <th>8</th>\n",
       "      <td>7</td>\n",
       "      <td>82</td>\n",
       "      <td>7_again_make_america_great</td>\n",
       "      <td>[again, make, america, great, keep, making, pr...</td>\n",
       "      <td>[MAKE AMERICA GREAT AGAIN!, MAKE AMERICA GREAT...</td>\n",
       "    </tr>\n",
       "    <tr>\n",
       "      <th>9</th>\n",
       "      <td>8</td>\n",
       "      <td>79</td>\n",
       "      <td>8_thank_you_mike_great</td>\n",
       "      <td>[thank, you, mike, great, dirty, usa, group, k...</td>\n",
       "      <td>[Thank you! ‚Ä¶, Thank you! ‚Ä¶, Thank you! ‚Ä¶]</td>\n",
       "    </tr>\n",
       "    <tr>\n",
       "      <th>10</th>\n",
       "      <td>9</td>\n",
       "      <td>73</td>\n",
       "      <td>9_kag2020_thank_you_maga</td>\n",
       "      <td>[kag2020, thank, you, maga, pennsylvania, mich...</td>\n",
       "      <td>[THANK YOU! #KAG2020🇺🇸, THANK YOU! # MAGA # KA...</td>\n",
       "    </tr>\n",
       "    <tr>\n",
       "      <th>11</th>\n",
       "      <td>10</td>\n",
       "      <td>67</td>\n",
       "      <td>10_great_guy_book_really</td>\n",
       "      <td>[great, guy, book, really, woman, truly, perso...</td>\n",
       "      <td>[A great book by a great guy, highly recommend...</td>\n",
       "    </tr>\n",
       "    <tr>\n",
       "      <th>12</th>\n",
       "      <td>11</td>\n",
       "      <td>64</td>\n",
       "      <td>11_live_delivers_remarks_president</td>\n",
       "      <td>[live, delivers, remarks, president, potus, on...</td>\n",
       "      <td>[LIVE: President  delivers remarks on testing,...</td>\n",
       "    </tr>\n",
       "    <tr>\n",
       "      <th>13</th>\n",
       "      <td>12</td>\n",
       "      <td>45</td>\n",
       "      <td>12_come_yet_best_appeal</td>\n",
       "      <td>[come, yet, best, appeal, awkward, talked, dia...</td>\n",
       "      <td>[THE BEST IS YET TO COME!, THE BEST IS YET TO ...</td>\n",
       "    </tr>\n",
       "    <tr>\n",
       "      <th>14</th>\n",
       "      <td>13</td>\n",
       "      <td>41</td>\n",
       "      <td>13_weeklyaddress_dday75thanniversary_weekly_ad...</td>\n",
       "      <td>[weeklyaddress, dday75thanniversary, weekly, a...</td>\n",
       "      <td>[#WeeklyAddress🇺🇸, #WeeklyAddress🇺🇸 ➡️, #Weekl...</td>\n",
       "    </tr>\n",
       "    <tr>\n",
       "      <th>15</th>\n",
       "      <td>14</td>\n",
       "      <td>40</td>\n",
       "      <td>14_trump_million_surgical_poll</td>\n",
       "      <td>[trump, million, surgical, poll, withheld, bid...</td>\n",
       "      <td>[2). Democracy Institute Poll:  Florida Trump ...</td>\n",
       "    </tr>\n",
       "    <tr>\n",
       "      <th>16</th>\n",
       "      <td>15</td>\n",
       "      <td>40</td>\n",
       "      <td>15_rating_approval_party_republican</td>\n",
       "      <td>[rating, approval, party, republican, 95, 96, ...</td>\n",
       "      <td>[95% Approval Rating in the Republican Party. ...</td>\n",
       "    </tr>\n",
       "    <tr>\n",
       "      <th>17</th>\n",
       "      <td>16</td>\n",
       "      <td>36</td>\n",
       "      <td>16_thank_you_and_to</td>\n",
       "      <td>[thank, you, and, to, , , , , , ]</td>\n",
       "      <td>[Thank you, Thank you, Thank you]</td>\n",
       "    </tr>\n",
       "    <tr>\n",
       "      <th>18</th>\n",
       "      <td>17</td>\n",
       "      <td>35</td>\n",
       "      <td>17_thank_nature_welcome_register</td>\n",
       "      <td>[thank, nature, welcome, register, count, you,...</td>\n",
       "      <td>[THANK YOU!, THANK YOU!, THANK YOU!]</td>\n",
       "    </tr>\n",
       "    <tr>\n",
       "      <th>19</th>\n",
       "      <td>18</td>\n",
       "      <td>34</td>\n",
       "      <td>18_task_briefing_force_press</td>\n",
       "      <td>[task, briefing, force, press, live, coronavir...</td>\n",
       "      <td>[LIVE: Press Briefing with Coronavirus Task Fo...</td>\n",
       "    </tr>\n",
       "    <tr>\n",
       "      <th>20</th>\n",
       "      <td>19</td>\n",
       "      <td>34</td>\n",
       "      <td>19_again_america_together_making</td>\n",
       "      <td>[again, america, together, making, great, we, ...</td>\n",
       "      <td>[Together, we are MAKING AMERICA GREAT AGAIN!,...</td>\n",
       "    </tr>\n",
       "    <tr>\n",
       "      <th>21</th>\n",
       "      <td>20</td>\n",
       "      <td>33</td>\n",
       "      <td>20_promises_kept_schiff_made</td>\n",
       "      <td>[promises, kept, schiff, made, scathing, shift...</td>\n",
       "      <td>[PROMISES MADE, PROMISES KEPT!, PROMISES MADE,...</td>\n",
       "    </tr>\n",
       "    <tr>\n",
       "      <th>22</th>\n",
       "      <td>21</td>\n",
       "      <td>30</td>\n",
       "      <td>21_job_great_idea_good</td>\n",
       "      <td>[job, great, idea, good, giancarlo, champ, all...</td>\n",
       "      <td>[True. Great job, Great job, Great job!]</td>\n",
       "    </tr>\n",
       "    <tr>\n",
       "      <th>23</th>\n",
       "      <td>22</td>\n",
       "      <td>29</td>\n",
       "      <td>22_fake_news_harassment_presidential</td>\n",
       "      <td>[fake, news, harassment, presidential, numbers...</td>\n",
       "      <td>[Fake News!, Fake News!, FAKE NEWS!]</td>\n",
       "    </tr>\n",
       "    <tr>\n",
       "      <th>24</th>\n",
       "      <td>23</td>\n",
       "      <td>29</td>\n",
       "      <td>23_congratulations_haha_karma_thanks</td>\n",
       "      <td>[congratulations, haha, karma, thanks, thx, br...</td>\n",
       "      <td>[Congratulations, Congratulations, CONGRATULAT...</td>\n",
       "    </tr>\n",
       "    <tr>\n",
       "      <th>25</th>\n",
       "      <td>24</td>\n",
       "      <td>28</td>\n",
       "      <td>24_maga_prouddeplorable_newhoaxsameswamp_stopt...</td>\n",
       "      <td>[maga, prouddeplorable, newhoaxsameswamp, stop...</td>\n",
       "      <td>[GREAT NEWS! #MAGA, Great news! #MAGA, Great n...</td>\n",
       "    </tr>\n",
       "    <tr>\n",
       "      <th>26</th>\n",
       "      <td>25</td>\n",
       "      <td>26</td>\n",
       "      <td>25_harassment_presidential_distancing_silent</td>\n",
       "      <td>[harassment, presidential, distancing, silent,...</td>\n",
       "      <td>[PRESIDENTIAL HARASSMENT!, PRESIDENTIAL HARASS...</td>\n",
       "    </tr>\n",
       "    <tr>\n",
       "      <th>27</th>\n",
       "      <td>26</td>\n",
       "      <td>26</td>\n",
       "      <td>26_holds_conference_live_news</td>\n",
       "      <td>[holds, conference, live, news, president, pre...</td>\n",
       "      <td>[LIVE: President  holds a news conference, LIV...</td>\n",
       "    </tr>\n",
       "    <tr>\n",
       "      <th>28</th>\n",
       "      <td>27</td>\n",
       "      <td>26</td>\n",
       "      <td>27_swamp_drain_draining_lone</td>\n",
       "      <td>[swamp, drain, draining, lone, potatoes, am, w...</td>\n",
       "      <td>[DRAIN THE SWAMP!, DRAIN THE SWAMP!, DRAIN THE...</td>\n",
       "    </tr>\n",
       "    <tr>\n",
       "      <th>29</th>\n",
       "      <td>28</td>\n",
       "      <td>26</td>\n",
       "      <td>28_breaking_probe_via_news</td>\n",
       "      <td>[breaking, probe, via, news, releases, trump, ...</td>\n",
       "      <td>[BREAKING: New emails show Obama WH orchestrat...</td>\n",
       "    </tr>\n",
       "    <tr>\n",
       "      <th>30</th>\n",
       "      <td>29</td>\n",
       "      <td>25</td>\n",
       "      <td>29_never_surprised_they_hypocrisy</td>\n",
       "      <td>[never, surprised, they, hypocrisy, but, criti...</td>\n",
       "      <td>[They just didn't get it, but they do now!, I ...</td>\n",
       "    </tr>\n",
       "    <tr>\n",
       "      <th>31</th>\n",
       "      <td>30</td>\n",
       "      <td>24</td>\n",
       "      <td>30_miss_heck_don_know</td>\n",
       "      <td>[miss, heck, don, know, can, wait, thank, let,...</td>\n",
       "      <td>[Can't miss, You don’t want to miss  segment w...</td>\n",
       "    </tr>\n",
       "    <tr>\n",
       "      <th>32</th>\n",
       "      <td>31</td>\n",
       "      <td>23</td>\n",
       "      <td>31_usaatunga_unga_kenya_thank</td>\n",
       "      <td>[usaatunga, unga, kenya, thank, japan, usa, al...</td>\n",
       "      <td>[#WeThePeople🇺🇸 #USAatUNGA #UNGA, #USAatUNGA🇺🇸...</td>\n",
       "    </tr>\n",
       "    <tr>\n",
       "      <th>33</th>\n",
       "      <td>32</td>\n",
       "      <td>22</td>\n",
       "      <td>32_dorian_advisory_hurricane_tropical</td>\n",
       "      <td>[dorian, advisory, hurricane, tropical, cyclon...</td>\n",
       "      <td>[Hurricane #Dorian Advisory 36: Category 5 Dor...</td>\n",
       "    </tr>\n",
       "    <tr>\n",
       "      <th>34</th>\n",
       "      <td>33</td>\n",
       "      <td>21</td>\n",
       "      <td>33_thank_you_love_samsung</td>\n",
       "      <td>[thank, you, love, samsung, agree, gavin, comp...</td>\n",
       "      <td>[Thank you, @ Samsung! We would love to have y...</td>\n",
       "    </tr>\n",
       "    <tr>\n",
       "      <th>35</th>\n",
       "      <td>34</td>\n",
       "      <td>21</td>\n",
       "      <td>34_great_situation_really_truth</td>\n",
       "      <td>[great, situation, really, truth, beautiful, s...</td>\n",
       "      <td>[So great to watch this!, Congratulations Jim....</td>\n",
       "    </tr>\n",
       "    <tr>\n",
       "      <th>36</th>\n",
       "      <td>35</td>\n",
       "      <td>21</td>\n",
       "      <td>35_level_hits_highs_highest</td>\n",
       "      <td>[level, hits, highs, highest, since, consumer,...</td>\n",
       "      <td>['Consumer confidence soars to highest level s...</td>\n",
       "    </tr>\n",
       "    <tr>\n",
       "      <th>37</th>\n",
       "      <td>36</td>\n",
       "      <td>21</td>\n",
       "      <td>36_conference_eastern_white_30</td>\n",
       "      <td>[conference, eastern, white, 30, news, house, ...</td>\n",
       "      <td>[White House news conference at 5:30 P.M. East...</td>\n",
       "    </tr>\n",
       "    <tr>\n",
       "      <th>38</th>\n",
       "      <td>37</td>\n",
       "      <td>21</td>\n",
       "      <td>37_welcome_honor_today_my</td>\n",
       "      <td>[welcome, honor, today, my, prime, minister, r...</td>\n",
       "      <td>[Welcome to the  Prime Minister, Today, it was...</td>\n",
       "    </tr>\n",
       "    <tr>\n",
       "      <th>39</th>\n",
       "      <td>38</td>\n",
       "      <td>21</td>\n",
       "      <td>38_surge_storm_hurricane_winds</td>\n",
       "      <td>[surge, storm, hurricane, winds, expected, thr...</td>\n",
       "      <td>[Here are the 5 AM EDT Saturday, August 31 Key...</td>\n",
       "    </tr>\n",
       "    <tr>\n",
       "      <th>40</th>\n",
       "      <td>39</td>\n",
       "      <td>21</td>\n",
       "      <td>39_now_eric_bodied_enjoy</td>\n",
       "      <td>[now, eric, bodied, enjoy, shit, him, uh, on, ...</td>\n",
       "      <td>[Holy shit she bodied him, Eric Trump on   now...</td>\n",
       "    </tr>\n",
       "    <tr>\n",
       "      <th>41</th>\n",
       "      <td>40</td>\n",
       "      <td>19</td>\n",
       "      <td>40_grandson_ufcdc_mitchell_ufcwashington</td>\n",
       "      <td>[grandson, ufcdc, mitchell, ufcwashington, bry...</td>\n",
       "      <td>[My grandson Travis...“and JUSTICE for ALL” ⚖️...</td>\n",
       "    </tr>\n",
       "    <tr>\n",
       "      <th>42</th>\n",
       "      <td>41</td>\n",
       "      <td>19</td>\n",
       "      <td>41_obamagate_winred_revoke_lunacy</td>\n",
       "      <td>[obamagate, winred, revoke, lunacy, lousy, tru...</td>\n",
       "      <td>[OBAMAGATE!, OBAMAGATE!, OBAMAGATE!]</td>\n",
       "    </tr>\n",
       "    <tr>\n",
       "      <th>43</th>\n",
       "      <td>42</td>\n",
       "      <td>19</td>\n",
       "      <td>42_1000_yikes_yo_jupiter</td>\n",
       "      <td>[1000, yikes, yo, jupiter, perspective, 2020, ...</td>\n",
       "      <td>[Hey-yo 2020!!!😂, This X 1000!!!, For perspect...</td>\n",
       "    </tr>\n",
       "    <tr>\n",
       "      <th>44</th>\n",
       "      <td>43</td>\n",
       "      <td>19</td>\n",
       "      <td>43_true_so_sooooo_ivanka</td>\n",
       "      <td>[true, so, sooooo, ivanka, interesting, thanks...</td>\n",
       "      <td>[SO TRUE!, So true!, So true!]</td>\n",
       "    </tr>\n",
       "    <tr>\n",
       "      <th>45</th>\n",
       "      <td>44</td>\n",
       "      <td>19</td>\n",
       "      <td>44_politician_mcsally_wacko_martha</td>\n",
       "      <td>[politician, mcsally, wacko, martha, warrior, ...</td>\n",
       "      <td>[Schiff is a Corrupt Politician!, Martha McSal...</td>\n",
       "    </tr>\n",
       "    <tr>\n",
       "      <th>46</th>\n",
       "      <td>45</td>\n",
       "      <td>18</td>\n",
       "      <td>45_agree_100_correct_wholeheartedly</td>\n",
       "      <td>[agree, 100, correct, wholeheartedly, fully, f...</td>\n",
       "      <td>[I agree 100%!, I agree 100%., I agree 100%!]</td>\n",
       "    </tr>\n",
       "    <tr>\n",
       "      <th>47</th>\n",
       "      <td>46</td>\n",
       "      <td>18</td>\n",
       "      <td>46_order_law_amp_</td>\n",
       "      <td>[order, law, amp, , , , , , , ]</td>\n",
       "      <td>[LAW &amp;amp; ORDER!, LAW &amp;amp; ORDER!, LAW &amp;amp;...</td>\n",
       "    </tr>\n",
       "    <tr>\n",
       "      <th>48</th>\n",
       "      <td>47</td>\n",
       "      <td>18</td>\n",
       "      <td>47_makeamericagreatagain_throwbackthursdays_ke...</td>\n",
       "      <td>[makeamericagreatagain, throwbackthursdays, ke...</td>\n",
       "      <td>[#MakeAmericaGreatAgain!!! 🇺🇸🇺🇸, #MakeAmericaG...</td>\n",
       "    </tr>\n",
       "    <tr>\n",
       "      <th>49</th>\n",
       "      <td>48</td>\n",
       "      <td>17</td>\n",
       "      <td>48_de_la_potusinjapan_en</td>\n",
       "      <td>[de, la, potusinjapan, en, mensaje, día, para,...</td>\n",
       "      <td>[#Florence sigue causando inundaciones repenti...</td>\n",
       "    </tr>\n",
       "    <tr>\n",
       "      <th>50</th>\n",
       "      <td>49</td>\n",
       "      <td>17</td>\n",
       "      <td>49_convention_land_rnc2020_national</td>\n",
       "      <td>[convention, land, rnc2020, national, 73rd, go...</td>\n",
       "      <td>[WATCH: Republican National Convention - Night...</td>\n",
       "    </tr>\n",
       "    <tr>\n",
       "      <th>51</th>\n",
       "      <td>50</td>\n",
       "      <td>17</td>\n",
       "      <td>50_rigged_election_hunt_witch</td>\n",
       "      <td>[rigged, election, hunt, witch, spelled, faker...</td>\n",
       "      <td>[Rigged Election!, Rigged Election!, A Rigged ...</td>\n",
       "    </tr>\n",
       "    <tr>\n",
       "      <th>52</th>\n",
       "      <td>51</td>\n",
       "      <td>17</td>\n",
       "      <td>51_به_ایران_را_और</td>\n",
       "      <td>[به, ایران, را, और, است, रत, می, در, हम, बन]</td>\n",
       "      <td>[خطاب به رهبران ايران: معترضان خود را نكشيد. ه...</td>\n",
       "    </tr>\n",
       "    <tr>\n",
       "      <th>53</th>\n",
       "      <td>52</td>\n",
       "      <td>17</td>\n",
       "      <td>52_thank_michigan_you_wisconsin</td>\n",
       "      <td>[thank, michigan, you, wisconsin, hampshire, t...</td>\n",
       "      <td>[THANK YOU MICHIGAN!, THANK YOU MICHIGAN!, THA...</td>\n",
       "    </tr>\n",
       "    <tr>\n",
       "      <th>54</th>\n",
       "      <td>53</td>\n",
       "      <td>16</td>\n",
       "      <td>53_gracias_absolutely_love_this</td>\n",
       "      <td>[gracias, absolutely, love, this, , , , , , ]</td>\n",
       "      <td>[Love this  👏👏👏, Gracias  🇺🇸!, 👇👇👇👇 absolutely]</td>\n",
       "    </tr>\n",
       "    <tr>\n",
       "      <th>55</th>\n",
       "      <td>54</td>\n",
       "      <td>16</td>\n",
       "      <td>54_vote_get_out_cast</td>\n",
       "      <td>[vote, get, out, cast, early, maxine, make, un...</td>\n",
       "      <td>[Early voting in Nevada is underway! Go to  to...</td>\n",
       "    </tr>\n",
       "    <tr>\n",
       "      <th>56</th>\n",
       "      <td>55</td>\n",
       "      <td>16</td>\n",
       "      <td>55_500_nasdaq_highs_record</td>\n",
       "      <td>[500, nasdaq, highs, record, dow, high, close,...</td>\n",
       "      <td>[DOW, S&amp;amp;P 500 and NASDAQ close at record h...</td>\n",
       "    </tr>\n",
       "    <tr>\n",
       "      <th>57</th>\n",
       "      <td>56</td>\n",
       "      <td>16</td>\n",
       "      <td>56_jobs_vote_usa_</td>\n",
       "      <td>[jobs, vote, usa, , , , , , , ]</td>\n",
       "      <td>[JOBS, JOBS, JOBS!, JOBS, JOBS, JOBS!, JOBS! J...</td>\n",
       "    </tr>\n",
       "    <tr>\n",
       "      <th>58</th>\n",
       "      <td>57</td>\n",
       "      <td>16</td>\n",
       "      <td>57_read_transcripts_transcript_photograph</td>\n",
       "      <td>[read, transcripts, transcript, photograph, mi...</td>\n",
       "      <td>[READ THE TRANSCRIPTS!, Read the Transcripts!,...</td>\n",
       "    </tr>\n",
       "    <tr>\n",
       "      <th>59</th>\n",
       "      <td>58</td>\n",
       "      <td>15</td>\n",
       "      <td>58_proclamation_presidential_executive_order</td>\n",
       "      <td>[proclamation, presidential, executive, order,...</td>\n",
       "      <td>[Presidential Memorandum for the   re: Aluminu...</td>\n",
       "    </tr>\n",
       "    <tr>\n",
       "      <th>60</th>\n",
       "      <td>59</td>\n",
       "      <td>13</td>\n",
       "      <td>59_working_hard_thank_you</td>\n",
       "      <td>[working, hard, thank, you, boris, great, toge...</td>\n",
       "      <td>[Thank you, working hard!, Working hard, thank...</td>\n",
       "    </tr>\n",
       "    <tr>\n",
       "      <th>61</th>\n",
       "      <td>60</td>\n",
       "      <td>13</td>\n",
       "      <td>60_watcher_volunteer_makeamericagreatagain_sign</td>\n",
       "      <td>[watcher, volunteer, makeamericagreatagain, si...</td>\n",
       "      <td>[Volunteer to be a Trump Election Poll Watcher...</td>\n",
       "    </tr>\n",
       "    <tr>\n",
       "      <th>62</th>\n",
       "      <td>61</td>\n",
       "      <td>13</td>\n",
       "      <td>61_happy_easter_birthday_70th</td>\n",
       "      <td>[happy, easter, birthday, 70th, merry, year, c...</td>\n",
       "      <td>[Happy New Year!, HAPPY NEW YEAR!, HAPPY NEW Y...</td>\n",
       "    </tr>\n",
       "    <tr>\n",
       "      <th>63</th>\n",
       "      <td>62</td>\n",
       "      <td>13</td>\n",
       "      <td>62_donald_proclaims_trump_greek</td>\n",
       "      <td>[donald, proclaims, trump, greek, president, d...</td>\n",
       "      <td>[“President Donald J. Trump Proclaims January ...</td>\n",
       "    </tr>\n",
       "    <tr>\n",
       "      <th>64</th>\n",
       "      <td>63</td>\n",
       "      <td>12</td>\n",
       "      <td>63_birthday_happy_merry_christmas</td>\n",
       "      <td>[birthday, happy, merry, christmas, vince, col...</td>\n",
       "      <td>[Happy Birthday, America!, Happy Birthday, Hap...</td>\n",
       "    </tr>\n",
       "    <tr>\n",
       "      <th>65</th>\n",
       "      <td>64</td>\n",
       "      <td>12</td>\n",
       "      <td>64_so_terrible_cute_milestone</td>\n",
       "      <td>[so, terrible, cute, milestone, revealing, ind...</td>\n",
       "      <td>[So bad!, So terrible!, So terrible!]</td>\n",
       "    </tr>\n",
       "    <tr>\n",
       "      <th>66</th>\n",
       "      <td>65</td>\n",
       "      <td>12</td>\n",
       "      <td>65_entertainers_working_great_capturing</td>\n",
       "      <td>[entertainers, working, great, capturing, team...</td>\n",
       "      <td>[A great team, working hard!, Two great entert...</td>\n",
       "    </tr>\n",
       "    <tr>\n",
       "      <th>67</th>\n",
       "      <td>66</td>\n",
       "      <td>12</td>\n",
       "      <td>66_scam_wave_giant_red</td>\n",
       "      <td>[scam, wave, giant, red, real, deal, great, dr...</td>\n",
       "      <td>[Watch the Great Red Wave!, A Giant Scam!, A g...</td>\n",
       "    </tr>\n",
       "    <tr>\n",
       "      <th>68</th>\n",
       "      <td>67</td>\n",
       "      <td>12</td>\n",
       "      <td>67_win_forget_we_will</td>\n",
       "      <td>[win, forget, we, will, love, build, never, ma...</td>\n",
       "      <td>[WE WILL WIN!, WE WILL WIN!, We will WIN!]</td>\n",
       "    </tr>\n",
       "    <tr>\n",
       "      <th>69</th>\n",
       "      <td>68</td>\n",
       "      <td>12</td>\n",
       "      <td>68_thank_you_pennsylvania_cleveland</td>\n",
       "      <td>[thank, you, pennsylvania, cleveland, ohio, mo...</td>\n",
       "      <td>[Thank you Butler, Pennsylvania!, Thank you Mo...</td>\n",
       "    </tr>\n",
       "    <tr>\n",
       "      <th>70</th>\n",
       "      <td>69</td>\n",
       "      <td>11</td>\n",
       "      <td>69_birthday_bless_happy_243rd</td>\n",
       "      <td>[birthday, bless, happy, 243rd, god, 245th, 72...</td>\n",
       "      <td>[Happy Birthday to our GREAT  #USAF73🇺🇸, Happy...</td>\n",
       "    </tr>\n",
       "    <tr>\n",
       "      <th>71</th>\n",
       "      <td>70</td>\n",
       "      <td>11</td>\n",
       "      <td>70_thank_lee_loong_jessie</td>\n",
       "      <td>[thank, lee, loong, jessie, jane, hsien, you, ...</td>\n",
       "      <td>[Thank you Lee and David!, Thank you Lara and ...</td>\n",
       "    </tr>\n",
       "  </tbody>\n",
       "</table>\n",
       "</div>"
      ],
      "text/plain": [
       "    Topic  Count                                               Name  \\\n",
       "0      -1  19006                                   -1_the_to_and_of   \n",
       "1       0    462                         0_via_trump_biden_election   \n",
       "2       1    118                          1_thank_you_matt_franklin   \n",
       "3       2    101                            2_true_wow_thanks_great   \n",
       "4       3     99                     3_interviewed_00_enjoy_tonight   \n",
       "5       4     89                               4_see_soon_way_state   \n",
       "6       5     87                              5_thank_you_love_nice   \n",
       "7       6     83                          6_thank_maga_you_maga2020   \n",
       "8       7     82                         7_again_make_america_great   \n",
       "9       8     79                             8_thank_you_mike_great   \n",
       "10      9     73                           9_kag2020_thank_you_maga   \n",
       "11     10     67                           10_great_guy_book_really   \n",
       "12     11     64                 11_live_delivers_remarks_president   \n",
       "13     12     45                            12_come_yet_best_appeal   \n",
       "14     13     41  13_weeklyaddress_dday75thanniversary_weekly_ad...   \n",
       "15     14     40                     14_trump_million_surgical_poll   \n",
       "16     15     40                15_rating_approval_party_republican   \n",
       "17     16     36                                16_thank_you_and_to   \n",
       "18     17     35                   17_thank_nature_welcome_register   \n",
       "19     18     34                       18_task_briefing_force_press   \n",
       "20     19     34                   19_again_america_together_making   \n",
       "21     20     33                       20_promises_kept_schiff_made   \n",
       "22     21     30                             21_job_great_idea_good   \n",
       "23     22     29               22_fake_news_harassment_presidential   \n",
       "24     23     29               23_congratulations_haha_karma_thanks   \n",
       "25     24     28  24_maga_prouddeplorable_newhoaxsameswamp_stopt...   \n",
       "26     25     26       25_harassment_presidential_distancing_silent   \n",
       "27     26     26                      26_holds_conference_live_news   \n",
       "28     27     26                       27_swamp_drain_draining_lone   \n",
       "29     28     26                         28_breaking_probe_via_news   \n",
       "30     29     25                  29_never_surprised_they_hypocrisy   \n",
       "31     30     24                              30_miss_heck_don_know   \n",
       "32     31     23                      31_usaatunga_unga_kenya_thank   \n",
       "33     32     22              32_dorian_advisory_hurricane_tropical   \n",
       "34     33     21                          33_thank_you_love_samsung   \n",
       "35     34     21                    34_great_situation_really_truth   \n",
       "36     35     21                        35_level_hits_highs_highest   \n",
       "37     36     21                     36_conference_eastern_white_30   \n",
       "38     37     21                          37_welcome_honor_today_my   \n",
       "39     38     21                     38_surge_storm_hurricane_winds   \n",
       "40     39     21                           39_now_eric_bodied_enjoy   \n",
       "41     40     19           40_grandson_ufcdc_mitchell_ufcwashington   \n",
       "42     41     19                  41_obamagate_winred_revoke_lunacy   \n",
       "43     42     19                           42_1000_yikes_yo_jupiter   \n",
       "44     43     19                           43_true_so_sooooo_ivanka   \n",
       "45     44     19                 44_politician_mcsally_wacko_martha   \n",
       "46     45     18                45_agree_100_correct_wholeheartedly   \n",
       "47     46     18                                  46_order_law_amp_   \n",
       "48     47     18  47_makeamericagreatagain_throwbackthursdays_ke...   \n",
       "49     48     17                           48_de_la_potusinjapan_en   \n",
       "50     49     17                49_convention_land_rnc2020_national   \n",
       "51     50     17                      50_rigged_election_hunt_witch   \n",
       "52     51     17                                  51_به_ایران_را_और   \n",
       "53     52     17                    52_thank_michigan_you_wisconsin   \n",
       "54     53     16                    53_gracias_absolutely_love_this   \n",
       "55     54     16                               54_vote_get_out_cast   \n",
       "56     55     16                         55_500_nasdaq_highs_record   \n",
       "57     56     16                                  56_jobs_vote_usa_   \n",
       "58     57     16          57_read_transcripts_transcript_photograph   \n",
       "59     58     15       58_proclamation_presidential_executive_order   \n",
       "60     59     13                          59_working_hard_thank_you   \n",
       "61     60     13    60_watcher_volunteer_makeamericagreatagain_sign   \n",
       "62     61     13                      61_happy_easter_birthday_70th   \n",
       "63     62     13                    62_donald_proclaims_trump_greek   \n",
       "64     63     12                  63_birthday_happy_merry_christmas   \n",
       "65     64     12                      64_so_terrible_cute_milestone   \n",
       "66     65     12            65_entertainers_working_great_capturing   \n",
       "67     66     12                             66_scam_wave_giant_red   \n",
       "68     67     12                              67_win_forget_we_will   \n",
       "69     68     12                68_thank_you_pennsylvania_cleveland   \n",
       "70     69     11                      69_birthday_bless_happy_243rd   \n",
       "71     70     11                          70_thank_lee_loong_jessie   \n",
       "\n",
       "                                       Representation  \\\n",
       "0      [the, to, and, of, in, is, for, that, on, are]   \n",
       "1   [via, trump, biden, election, fbi, to, clinton...   \n",
       "2   [thank, you, matt, franklin, rudy, brad, steve...   \n",
       "3   [true, wow, thanks, great, amazing, yes, inter...   \n",
       "4   [interviewed, 00, enjoy, tonight, at, be, east...   \n",
       "5   [see, soon, way, state, landed, everyone, head...   \n",
       "6   [thank, you, love, nice, honor, so, true, grea...   \n",
       "7   [thank, maga, you, maga2020, kag2020, missoula...   \n",
       "8   [again, make, america, great, keep, making, pr...   \n",
       "9   [thank, you, mike, great, dirty, usa, group, k...   \n",
       "10  [kag2020, thank, you, maga, pennsylvania, mich...   \n",
       "11  [great, guy, book, really, woman, truly, perso...   \n",
       "12  [live, delivers, remarks, president, potus, on...   \n",
       "13  [come, yet, best, appeal, awkward, talked, dia...   \n",
       "14  [weeklyaddress, dday75thanniversary, weekly, a...   \n",
       "15  [trump, million, surgical, poll, withheld, bid...   \n",
       "16  [rating, approval, party, republican, 95, 96, ...   \n",
       "17                  [thank, you, and, to, , , , , , ]   \n",
       "18  [thank, nature, welcome, register, count, you,...   \n",
       "19  [task, briefing, force, press, live, coronavir...   \n",
       "20  [again, america, together, making, great, we, ...   \n",
       "21  [promises, kept, schiff, made, scathing, shift...   \n",
       "22  [job, great, idea, good, giancarlo, champ, all...   \n",
       "23  [fake, news, harassment, presidential, numbers...   \n",
       "24  [congratulations, haha, karma, thanks, thx, br...   \n",
       "25  [maga, prouddeplorable, newhoaxsameswamp, stop...   \n",
       "26  [harassment, presidential, distancing, silent,...   \n",
       "27  [holds, conference, live, news, president, pre...   \n",
       "28  [swamp, drain, draining, lone, potatoes, am, w...   \n",
       "29  [breaking, probe, via, news, releases, trump, ...   \n",
       "30  [never, surprised, they, hypocrisy, but, criti...   \n",
       "31  [miss, heck, don, know, can, wait, thank, let,...   \n",
       "32  [usaatunga, unga, kenya, thank, japan, usa, al...   \n",
       "33  [dorian, advisory, hurricane, tropical, cyclon...   \n",
       "34  [thank, you, love, samsung, agree, gavin, comp...   \n",
       "35  [great, situation, really, truth, beautiful, s...   \n",
       "36  [level, hits, highs, highest, since, consumer,...   \n",
       "37  [conference, eastern, white, 30, news, house, ...   \n",
       "38  [welcome, honor, today, my, prime, minister, r...   \n",
       "39  [surge, storm, hurricane, winds, expected, thr...   \n",
       "40  [now, eric, bodied, enjoy, shit, him, uh, on, ...   \n",
       "41  [grandson, ufcdc, mitchell, ufcwashington, bry...   \n",
       "42  [obamagate, winred, revoke, lunacy, lousy, tru...   \n",
       "43  [1000, yikes, yo, jupiter, perspective, 2020, ...   \n",
       "44  [true, so, sooooo, ivanka, interesting, thanks...   \n",
       "45  [politician, mcsally, wacko, martha, warrior, ...   \n",
       "46  [agree, 100, correct, wholeheartedly, fully, f...   \n",
       "47                    [order, law, amp, , , , , , , ]   \n",
       "48  [makeamericagreatagain, throwbackthursdays, ke...   \n",
       "49  [de, la, potusinjapan, en, mensaje, día, para,...   \n",
       "50  [convention, land, rnc2020, national, 73rd, go...   \n",
       "51  [rigged, election, hunt, witch, spelled, faker...   \n",
       "52       [به, ایران, را, और, است, रत, می, در, हम, बन]   \n",
       "53  [thank, michigan, you, wisconsin, hampshire, t...   \n",
       "54      [gracias, absolutely, love, this, , , , , , ]   \n",
       "55  [vote, get, out, cast, early, maxine, make, un...   \n",
       "56  [500, nasdaq, highs, record, dow, high, close,...   \n",
       "57                    [jobs, vote, usa, , , , , , , ]   \n",
       "58  [read, transcripts, transcript, photograph, mi...   \n",
       "59  [proclamation, presidential, executive, order,...   \n",
       "60  [working, hard, thank, you, boris, great, toge...   \n",
       "61  [watcher, volunteer, makeamericagreatagain, si...   \n",
       "62  [happy, easter, birthday, 70th, merry, year, c...   \n",
       "63  [donald, proclaims, trump, greek, president, d...   \n",
       "64  [birthday, happy, merry, christmas, vince, col...   \n",
       "65  [so, terrible, cute, milestone, revealing, ind...   \n",
       "66  [entertainers, working, great, capturing, team...   \n",
       "67  [scam, wave, giant, red, real, deal, great, dr...   \n",
       "68  [win, forget, we, will, love, build, never, ma...   \n",
       "69  [thank, you, pennsylvania, cleveland, ohio, mo...   \n",
       "70  [birthday, bless, happy, 243rd, god, 245th, 72...   \n",
       "71  [thank, lee, loong, jessie, jane, hsien, you, ...   \n",
       "\n",
       "                                  Representative_Docs  \n",
       "0   [....and other really bad people, SPIED ON MY ...  \n",
       "1   [EXCLUSIVE: Report Shows FBI Official Received...  \n",
       "2                [Thank you!, Thank you!, Thank you!]  \n",
       "3           [True!, Thanks  - TRUE!, Thanks  - TRUE!]  \n",
       "4   [Will be interviewed by  tonight at 9:00 P.M. ...  \n",
       "5   [On my way, see you soon!, On my way to the Gr...  \n",
       "6   [Thank you. I love you too!, Great news, thank...  \n",
       "7   [THANK YOU! #MAGA, THANK YOU! #MAGA, THANK YOU...  \n",
       "8   [MAKE AMERICA GREAT AGAIN!, MAKE AMERICA GREAT...  \n",
       "9    [Thank you! ‚Ä¶, Thank you! ‚Ä¶, Thank you! ‚Ä¶]  \n",
       "10  [THANK YOU! #KAG2020🇺🇸, THANK YOU! # MAGA # KA...  \n",
       "11  [A great book by a great guy, highly recommend...  \n",
       "12  [LIVE: President  delivers remarks on testing,...  \n",
       "13  [THE BEST IS YET TO COME!, THE BEST IS YET TO ...  \n",
       "14  [#WeeklyAddress🇺🇸, #WeeklyAddress🇺🇸 ➡️, #Weekl...  \n",
       "15  [2). Democracy Institute Poll:  Florida Trump ...  \n",
       "16  [95% Approval Rating in the Republican Party. ...  \n",
       "17                  [Thank you, Thank you, Thank you]  \n",
       "18               [THANK YOU!, THANK YOU!, THANK YOU!]  \n",
       "19  [LIVE: Press Briefing with Coronavirus Task Fo...  \n",
       "20  [Together, we are MAKING AMERICA GREAT AGAIN!,...  \n",
       "21  [PROMISES MADE, PROMISES KEPT!, PROMISES MADE,...  \n",
       "22           [True. Great job, Great job, Great job!]  \n",
       "23               [Fake News!, Fake News!, FAKE NEWS!]  \n",
       "24  [Congratulations, Congratulations, CONGRATULAT...  \n",
       "25  [GREAT NEWS! #MAGA, Great news! #MAGA, Great n...  \n",
       "26  [PRESIDENTIAL HARASSMENT!, PRESIDENTIAL HARASS...  \n",
       "27  [LIVE: President  holds a news conference, LIV...  \n",
       "28  [DRAIN THE SWAMP!, DRAIN THE SWAMP!, DRAIN THE...  \n",
       "29  [BREAKING: New emails show Obama WH orchestrat...  \n",
       "30  [They just didn't get it, but they do now!, I ...  \n",
       "31  [Can't miss, You don’t want to miss  segment w...  \n",
       "32  [#WeThePeople🇺🇸 #USAatUNGA #UNGA, #USAatUNGA🇺🇸...  \n",
       "33  [Hurricane #Dorian Advisory 36: Category 5 Dor...  \n",
       "34  [Thank you, @ Samsung! We would love to have y...  \n",
       "35  [So great to watch this!, Congratulations Jim....  \n",
       "36  ['Consumer confidence soars to highest level s...  \n",
       "37  [White House news conference at 5:30 P.M. East...  \n",
       "38  [Welcome to the  Prime Minister, Today, it was...  \n",
       "39  [Here are the 5 AM EDT Saturday, August 31 Key...  \n",
       "40  [Holy shit she bodied him, Eric Trump on   now...  \n",
       "41  [My grandson Travis...“and JUSTICE for ALL” ⚖️...  \n",
       "42               [OBAMAGATE!, OBAMAGATE!, OBAMAGATE!]  \n",
       "43  [Hey-yo 2020!!!😂, This X 1000!!!, For perspect...  \n",
       "44                     [SO TRUE!, So true!, So true!]  \n",
       "45  [Schiff is a Corrupt Politician!, Martha McSal...  \n",
       "46      [I agree 100%!, I agree 100%., I agree 100%!]  \n",
       "47  [LAW &amp; ORDER!, LAW &amp; ORDER!, LAW &amp;...  \n",
       "48  [#MakeAmericaGreatAgain!!! 🇺🇸🇺🇸, #MakeAmericaG...  \n",
       "49  [#Florence sigue causando inundaciones repenti...  \n",
       "50  [WATCH: Republican National Convention - Night...  \n",
       "51  [Rigged Election!, Rigged Election!, A Rigged ...  \n",
       "52  [خطاب به رهبران ايران: معترضان خود را نكشيد. ه...  \n",
       "53  [THANK YOU MICHIGAN!, THANK YOU MICHIGAN!, THA...  \n",
       "54    [Love this  👏👏👏, Gracias  🇺🇸!, 👇👇👇👇 absolutely]  \n",
       "55  [Early voting in Nevada is underway! Go to  to...  \n",
       "56  [DOW, S&amp;P 500 and NASDAQ close at record h...  \n",
       "57  [JOBS, JOBS, JOBS!, JOBS, JOBS, JOBS!, JOBS! J...  \n",
       "58  [READ THE TRANSCRIPTS!, Read the Transcripts!,...  \n",
       "59  [Presidential Memorandum for the   re: Aluminu...  \n",
       "60  [Thank you, working hard!, Working hard, thank...  \n",
       "61  [Volunteer to be a Trump Election Poll Watcher...  \n",
       "62  [Happy New Year!, HAPPY NEW YEAR!, HAPPY NEW Y...  \n",
       "63  [“President Donald J. Trump Proclaims January ...  \n",
       "64  [Happy Birthday, America!, Happy Birthday, Hap...  \n",
       "65              [So bad!, So terrible!, So terrible!]  \n",
       "66  [A great team, working hard!, Two great entert...  \n",
       "67  [Watch the Great Red Wave!, A Giant Scam!, A g...  \n",
       "68         [WE WILL WIN!, WE WILL WIN!, We will WIN!]  \n",
       "69  [Thank you Butler, Pennsylvania!, Thank you Mo...  \n",
       "70  [Happy Birthday to our GREAT  #USAF73🇺🇸, Happy...  \n",
       "71  [Thank you Lee and David!, Thank you Lara and ...  "
      ]
     },
     "execution_count": 69,
     "metadata": {},
     "output_type": "execute_result"
    }
   ],
   "source": [
    "marxist.merge_topics(data['Tweet.Text'], [-1, 0])\n",
    "marxist.get_topic_info()"
   ]
  },
  {
   "cell_type": "code",
   "execution_count": 70,
   "metadata": {},
   "outputs": [
    {
     "ename": "ValueError",
     "evalue": "Mime type rendering requires nbformat>=4.2.0 but it is not installed",
     "output_type": "error",
     "traceback": [
      "\u001b[0;31m---------------------------------------------------------------------------\u001b[0m",
      "\u001b[0;31mValueError\u001b[0m                                Traceback (most recent call last)",
      "File \u001b[0;32m~/code/marxists-llm/pyven/lib/python3.12/site-packages/IPython/core/formatters.py:925\u001b[0m, in \u001b[0;36mIPythonDisplayFormatter.__call__\u001b[0;34m(self, obj)\u001b[0m\n\u001b[1;32m    923\u001b[0m method \u001b[38;5;241m=\u001b[39m get_real_method(obj, \u001b[38;5;28mself\u001b[39m\u001b[38;5;241m.\u001b[39mprint_method)\n\u001b[1;32m    924\u001b[0m \u001b[38;5;28;01mif\u001b[39;00m method \u001b[38;5;129;01mis\u001b[39;00m \u001b[38;5;129;01mnot\u001b[39;00m \u001b[38;5;28;01mNone\u001b[39;00m:\n\u001b[0;32m--> 925\u001b[0m     \u001b[43mmethod\u001b[49m\u001b[43m(\u001b[49m\u001b[43m)\u001b[49m\n\u001b[1;32m    926\u001b[0m     \u001b[38;5;28;01mreturn\u001b[39;00m \u001b[38;5;28;01mTrue\u001b[39;00m\n",
      "File \u001b[0;32m~/code/marxists-llm/pyven/lib/python3.12/site-packages/plotly/basedatatypes.py:832\u001b[0m, in \u001b[0;36mBaseFigure._ipython_display_\u001b[0;34m(self)\u001b[0m\n\u001b[1;32m    829\u001b[0m \u001b[38;5;28;01mimport\u001b[39;00m \u001b[38;5;21;01mplotly\u001b[39;00m\u001b[38;5;21;01m.\u001b[39;00m\u001b[38;5;21;01mio\u001b[39;00m \u001b[38;5;28;01mas\u001b[39;00m \u001b[38;5;21;01mpio\u001b[39;00m\n\u001b[1;32m    831\u001b[0m \u001b[38;5;28;01mif\u001b[39;00m pio\u001b[38;5;241m.\u001b[39mrenderers\u001b[38;5;241m.\u001b[39mrender_on_display \u001b[38;5;129;01mand\u001b[39;00m pio\u001b[38;5;241m.\u001b[39mrenderers\u001b[38;5;241m.\u001b[39mdefault:\n\u001b[0;32m--> 832\u001b[0m     \u001b[43mpio\u001b[49m\u001b[38;5;241;43m.\u001b[39;49m\u001b[43mshow\u001b[49m\u001b[43m(\u001b[49m\u001b[38;5;28;43mself\u001b[39;49m\u001b[43m)\u001b[49m\n\u001b[1;32m    833\u001b[0m \u001b[38;5;28;01melse\u001b[39;00m:\n\u001b[1;32m    834\u001b[0m     \u001b[38;5;28mprint\u001b[39m(\u001b[38;5;28mrepr\u001b[39m(\u001b[38;5;28mself\u001b[39m))\n",
      "File \u001b[0;32m~/code/marxists-llm/pyven/lib/python3.12/site-packages/plotly/io/_renderers.py:394\u001b[0m, in \u001b[0;36mshow\u001b[0;34m(fig, renderer, validate, **kwargs)\u001b[0m\n\u001b[1;32m    389\u001b[0m         \u001b[38;5;28;01mraise\u001b[39;00m \u001b[38;5;167;01mValueError\u001b[39;00m(\n\u001b[1;32m    390\u001b[0m             \u001b[38;5;124m\"\u001b[39m\u001b[38;5;124mMime type rendering requires ipython but it is not installed\u001b[39m\u001b[38;5;124m\"\u001b[39m\n\u001b[1;32m    391\u001b[0m         )\n\u001b[1;32m    393\u001b[0m     \u001b[38;5;28;01mif\u001b[39;00m \u001b[38;5;129;01mnot\u001b[39;00m nbformat \u001b[38;5;129;01mor\u001b[39;00m Version(nbformat\u001b[38;5;241m.\u001b[39m__version__) \u001b[38;5;241m<\u001b[39m Version(\u001b[38;5;124m\"\u001b[39m\u001b[38;5;124m4.2.0\u001b[39m\u001b[38;5;124m\"\u001b[39m):\n\u001b[0;32m--> 394\u001b[0m         \u001b[38;5;28;01mraise\u001b[39;00m \u001b[38;5;167;01mValueError\u001b[39;00m(\n\u001b[1;32m    395\u001b[0m             \u001b[38;5;124m\"\u001b[39m\u001b[38;5;124mMime type rendering requires nbformat>=4.2.0 but it is not installed\u001b[39m\u001b[38;5;124m\"\u001b[39m\n\u001b[1;32m    396\u001b[0m         )\n\u001b[1;32m    398\u001b[0m     ipython_display\u001b[38;5;241m.\u001b[39mdisplay(bundle, raw\u001b[38;5;241m=\u001b[39m\u001b[38;5;28;01mTrue\u001b[39;00m)\n\u001b[1;32m    400\u001b[0m \u001b[38;5;66;03m# external renderers\u001b[39;00m\n",
      "\u001b[0;31mValueError\u001b[0m: Mime type rendering requires nbformat>=4.2.0 but it is not installed"
     ]
    },
    {
     "data": {
      "application/vnd.plotly.v1+json": {
       "config": {
        "plotlyServerURL": "https://plot.ly"
       },
       "data": [
        {
         "marker": {
          "color": "#D55E00"
         },
         "orientation": "h",
         "type": "bar",
         "x": [
          0.07565869594656666,
          0.11574989500462039,
          0.1416706408908798,
          0.17545301089516321,
          0.21543192610683157
         ],
         "xaxis": "x",
         "y": [
          "job  ",
          "thanks  ",
          "wow  ",
          "true  ",
          "great  "
         ],
         "yaxis": "y"
        },
        {
         "marker": {
          "color": "#0072B2"
         },
         "orientation": "h",
         "type": "bar",
         "x": [
          0.0477240540442246,
          0.052143408338170084,
          0.08976330254451315,
          0.15696593854790739,
          0.21106966988582274
         ],
         "xaxis": "x2",
         "y": [
          "honor  ",
          "nice  ",
          "great  ",
          "you  ",
          "thank  "
         ],
         "yaxis": "y2"
        },
        {
         "marker": {
          "color": "#CC79A7"
         },
         "orientation": "h",
         "type": "bar",
         "x": [
          0.032456916427228,
          0.03431254481067215,
          0.059651621593134634,
          0.07356566969230031,
          0.10141705640475437
         ],
         "xaxis": "x3",
         "y": [
          "president  ",
          "potus  ",
          "remarks  ",
          "delivers  ",
          "live  "
         ],
         "yaxis": "y3"
        },
        {
         "marker": {
          "color": "#E69F00"
         },
         "orientation": "h",
         "type": "bar",
         "x": [
          0.15242395098175554,
          0.21802043031985854,
          0.3738794452492452,
          0.42454479982594306,
          0.47069006809264363
         ],
         "xaxis": "x4",
         "y": [
          "watcher  ",
          "great  ",
          "america  ",
          "make  ",
          "again  "
         ],
         "yaxis": "y4"
        },
        {
         "marker": {
          "color": "#56B4E9"
         },
         "orientation": "h",
         "type": "bar",
         "x": [
          0.03934366533414377,
          0.0476967550235159,
          0.06284248072922625,
          0.183242110181173,
          0.2889585443870146
         ],
         "xaxis": "x5",
         "y": [
          "payrolls  ",
          "matt  ",
          "000  ",
          "you  ",
          "thank  "
         ],
         "yaxis": "y5"
        },
        {
         "marker": {
          "color": "#009E73"
         },
         "orientation": "h",
         "type": "bar",
         "x": [
          0.1447823826876693,
          0.1633193533359888,
          0.26781404441312173,
          0.3056430602917839,
          0.3163532471880701
         ],
         "xaxis": "x6",
         "y": [
          "at  ",
          "tonight  ",
          "enjoy  ",
          "00  ",
          "interviewed  "
         ],
         "yaxis": "y6"
        },
        {
         "marker": {
          "color": "#F0E442"
         },
         "orientation": "h",
         "type": "bar",
         "x": [
          0.04277717403523319,
          0.04767409635866026,
          0.04845908211453649,
          0.0498502156857567,
          0.08738939702267479
         ],
         "xaxis": "x7",
         "y": [
          "wow  ",
          "agree  ",
          "job  ",
          "usa  ",
          "great  "
         ],
         "yaxis": "y7"
        },
        {
         "marker": {
          "color": "#D55E00"
         },
         "orientation": "h",
         "type": "bar",
         "x": [
          0.0441237270031217,
          0.04471555314457454,
          0.050310681929190484,
          0.057233074697706124,
          0.07331188067570685
         ],
         "xaxis": "x8",
         "y": [
          "address  ",
          "now  ",
          "enjoy  ",
          "watch  ",
          "true  "
         ],
         "yaxis": "y8"
        }
       ],
       "layout": {
        "annotations": [
         {
          "font": {
           "size": 16
          },
          "showarrow": false,
          "text": "Topic 0",
          "x": 0.0875,
          "xanchor": "center",
          "xref": "paper",
          "y": 1,
          "yanchor": "bottom",
          "yref": "paper"
         },
         {
          "font": {
           "size": 16
          },
          "showarrow": false,
          "text": "Topic 1",
          "x": 0.36250000000000004,
          "xanchor": "center",
          "xref": "paper",
          "y": 1,
          "yanchor": "bottom",
          "yref": "paper"
         },
         {
          "font": {
           "size": 16
          },
          "showarrow": false,
          "text": "Topic 2",
          "x": 0.6375000000000001,
          "xanchor": "center",
          "xref": "paper",
          "y": 1,
          "yanchor": "bottom",
          "yref": "paper"
         },
         {
          "font": {
           "size": 16
          },
          "showarrow": false,
          "text": "Topic 3",
          "x": 0.9125,
          "xanchor": "center",
          "xref": "paper",
          "y": 1,
          "yanchor": "bottom",
          "yref": "paper"
         },
         {
          "font": {
           "size": 16
          },
          "showarrow": false,
          "text": "Topic 4",
          "x": 0.0875,
          "xanchor": "center",
          "xref": "paper",
          "y": 0.4,
          "yanchor": "bottom",
          "yref": "paper"
         },
         {
          "font": {
           "size": 16
          },
          "showarrow": false,
          "text": "Topic 5",
          "x": 0.36250000000000004,
          "xanchor": "center",
          "xref": "paper",
          "y": 0.4,
          "yanchor": "bottom",
          "yref": "paper"
         },
         {
          "font": {
           "size": 16
          },
          "showarrow": false,
          "text": "Topic 6",
          "x": 0.6375000000000001,
          "xanchor": "center",
          "xref": "paper",
          "y": 0.4,
          "yanchor": "bottom",
          "yref": "paper"
         },
         {
          "font": {
           "size": 16
          },
          "showarrow": false,
          "text": "Topic 7",
          "x": 0.9125,
          "xanchor": "center",
          "xref": "paper",
          "y": 0.4,
          "yanchor": "bottom",
          "yref": "paper"
         }
        ],
        "height": 500,
        "hoverlabel": {
         "bgcolor": "white",
         "font": {
          "family": "Rockwell",
          "size": 16
         }
        },
        "showlegend": false,
        "template": {
         "data": {
          "bar": [
           {
            "error_x": {
             "color": "#2a3f5f"
            },
            "error_y": {
             "color": "#2a3f5f"
            },
            "marker": {
             "line": {
              "color": "white",
              "width": 0.5
             },
             "pattern": {
              "fillmode": "overlay",
              "size": 10,
              "solidity": 0.2
             }
            },
            "type": "bar"
           }
          ],
          "barpolar": [
           {
            "marker": {
             "line": {
              "color": "white",
              "width": 0.5
             },
             "pattern": {
              "fillmode": "overlay",
              "size": 10,
              "solidity": 0.2
             }
            },
            "type": "barpolar"
           }
          ],
          "carpet": [
           {
            "aaxis": {
             "endlinecolor": "#2a3f5f",
             "gridcolor": "#C8D4E3",
             "linecolor": "#C8D4E3",
             "minorgridcolor": "#C8D4E3",
             "startlinecolor": "#2a3f5f"
            },
            "baxis": {
             "endlinecolor": "#2a3f5f",
             "gridcolor": "#C8D4E3",
             "linecolor": "#C8D4E3",
             "minorgridcolor": "#C8D4E3",
             "startlinecolor": "#2a3f5f"
            },
            "type": "carpet"
           }
          ],
          "choropleth": [
           {
            "colorbar": {
             "outlinewidth": 0,
             "ticks": ""
            },
            "type": "choropleth"
           }
          ],
          "contour": [
           {
            "colorbar": {
             "outlinewidth": 0,
             "ticks": ""
            },
            "colorscale": [
             [
              0,
              "#0d0887"
             ],
             [
              0.1111111111111111,
              "#46039f"
             ],
             [
              0.2222222222222222,
              "#7201a8"
             ],
             [
              0.3333333333333333,
              "#9c179e"
             ],
             [
              0.4444444444444444,
              "#bd3786"
             ],
             [
              0.5555555555555556,
              "#d8576b"
             ],
             [
              0.6666666666666666,
              "#ed7953"
             ],
             [
              0.7777777777777778,
              "#fb9f3a"
             ],
             [
              0.8888888888888888,
              "#fdca26"
             ],
             [
              1,
              "#f0f921"
             ]
            ],
            "type": "contour"
           }
          ],
          "contourcarpet": [
           {
            "colorbar": {
             "outlinewidth": 0,
             "ticks": ""
            },
            "type": "contourcarpet"
           }
          ],
          "heatmap": [
           {
            "colorbar": {
             "outlinewidth": 0,
             "ticks": ""
            },
            "colorscale": [
             [
              0,
              "#0d0887"
             ],
             [
              0.1111111111111111,
              "#46039f"
             ],
             [
              0.2222222222222222,
              "#7201a8"
             ],
             [
              0.3333333333333333,
              "#9c179e"
             ],
             [
              0.4444444444444444,
              "#bd3786"
             ],
             [
              0.5555555555555556,
              "#d8576b"
             ],
             [
              0.6666666666666666,
              "#ed7953"
             ],
             [
              0.7777777777777778,
              "#fb9f3a"
             ],
             [
              0.8888888888888888,
              "#fdca26"
             ],
             [
              1,
              "#f0f921"
             ]
            ],
            "type": "heatmap"
           }
          ],
          "heatmapgl": [
           {
            "colorbar": {
             "outlinewidth": 0,
             "ticks": ""
            },
            "colorscale": [
             [
              0,
              "#0d0887"
             ],
             [
              0.1111111111111111,
              "#46039f"
             ],
             [
              0.2222222222222222,
              "#7201a8"
             ],
             [
              0.3333333333333333,
              "#9c179e"
             ],
             [
              0.4444444444444444,
              "#bd3786"
             ],
             [
              0.5555555555555556,
              "#d8576b"
             ],
             [
              0.6666666666666666,
              "#ed7953"
             ],
             [
              0.7777777777777778,
              "#fb9f3a"
             ],
             [
              0.8888888888888888,
              "#fdca26"
             ],
             [
              1,
              "#f0f921"
             ]
            ],
            "type": "heatmapgl"
           }
          ],
          "histogram": [
           {
            "marker": {
             "pattern": {
              "fillmode": "overlay",
              "size": 10,
              "solidity": 0.2
             }
            },
            "type": "histogram"
           }
          ],
          "histogram2d": [
           {
            "colorbar": {
             "outlinewidth": 0,
             "ticks": ""
            },
            "colorscale": [
             [
              0,
              "#0d0887"
             ],
             [
              0.1111111111111111,
              "#46039f"
             ],
             [
              0.2222222222222222,
              "#7201a8"
             ],
             [
              0.3333333333333333,
              "#9c179e"
             ],
             [
              0.4444444444444444,
              "#bd3786"
             ],
             [
              0.5555555555555556,
              "#d8576b"
             ],
             [
              0.6666666666666666,
              "#ed7953"
             ],
             [
              0.7777777777777778,
              "#fb9f3a"
             ],
             [
              0.8888888888888888,
              "#fdca26"
             ],
             [
              1,
              "#f0f921"
             ]
            ],
            "type": "histogram2d"
           }
          ],
          "histogram2dcontour": [
           {
            "colorbar": {
             "outlinewidth": 0,
             "ticks": ""
            },
            "colorscale": [
             [
              0,
              "#0d0887"
             ],
             [
              0.1111111111111111,
              "#46039f"
             ],
             [
              0.2222222222222222,
              "#7201a8"
             ],
             [
              0.3333333333333333,
              "#9c179e"
             ],
             [
              0.4444444444444444,
              "#bd3786"
             ],
             [
              0.5555555555555556,
              "#d8576b"
             ],
             [
              0.6666666666666666,
              "#ed7953"
             ],
             [
              0.7777777777777778,
              "#fb9f3a"
             ],
             [
              0.8888888888888888,
              "#fdca26"
             ],
             [
              1,
              "#f0f921"
             ]
            ],
            "type": "histogram2dcontour"
           }
          ],
          "mesh3d": [
           {
            "colorbar": {
             "outlinewidth": 0,
             "ticks": ""
            },
            "type": "mesh3d"
           }
          ],
          "parcoords": [
           {
            "line": {
             "colorbar": {
              "outlinewidth": 0,
              "ticks": ""
             }
            },
            "type": "parcoords"
           }
          ],
          "pie": [
           {
            "automargin": true,
            "type": "pie"
           }
          ],
          "scatter": [
           {
            "fillpattern": {
             "fillmode": "overlay",
             "size": 10,
             "solidity": 0.2
            },
            "type": "scatter"
           }
          ],
          "scatter3d": [
           {
            "line": {
             "colorbar": {
              "outlinewidth": 0,
              "ticks": ""
             }
            },
            "marker": {
             "colorbar": {
              "outlinewidth": 0,
              "ticks": ""
             }
            },
            "type": "scatter3d"
           }
          ],
          "scattercarpet": [
           {
            "marker": {
             "colorbar": {
              "outlinewidth": 0,
              "ticks": ""
             }
            },
            "type": "scattercarpet"
           }
          ],
          "scattergeo": [
           {
            "marker": {
             "colorbar": {
              "outlinewidth": 0,
              "ticks": ""
             }
            },
            "type": "scattergeo"
           }
          ],
          "scattergl": [
           {
            "marker": {
             "colorbar": {
              "outlinewidth": 0,
              "ticks": ""
             }
            },
            "type": "scattergl"
           }
          ],
          "scattermapbox": [
           {
            "marker": {
             "colorbar": {
              "outlinewidth": 0,
              "ticks": ""
             }
            },
            "type": "scattermapbox"
           }
          ],
          "scatterpolar": [
           {
            "marker": {
             "colorbar": {
              "outlinewidth": 0,
              "ticks": ""
             }
            },
            "type": "scatterpolar"
           }
          ],
          "scatterpolargl": [
           {
            "marker": {
             "colorbar": {
              "outlinewidth": 0,
              "ticks": ""
             }
            },
            "type": "scatterpolargl"
           }
          ],
          "scatterternary": [
           {
            "marker": {
             "colorbar": {
              "outlinewidth": 0,
              "ticks": ""
             }
            },
            "type": "scatterternary"
           }
          ],
          "surface": [
           {
            "colorbar": {
             "outlinewidth": 0,
             "ticks": ""
            },
            "colorscale": [
             [
              0,
              "#0d0887"
             ],
             [
              0.1111111111111111,
              "#46039f"
             ],
             [
              0.2222222222222222,
              "#7201a8"
             ],
             [
              0.3333333333333333,
              "#9c179e"
             ],
             [
              0.4444444444444444,
              "#bd3786"
             ],
             [
              0.5555555555555556,
              "#d8576b"
             ],
             [
              0.6666666666666666,
              "#ed7953"
             ],
             [
              0.7777777777777778,
              "#fb9f3a"
             ],
             [
              0.8888888888888888,
              "#fdca26"
             ],
             [
              1,
              "#f0f921"
             ]
            ],
            "type": "surface"
           }
          ],
          "table": [
           {
            "cells": {
             "fill": {
              "color": "#EBF0F8"
             },
             "line": {
              "color": "white"
             }
            },
            "header": {
             "fill": {
              "color": "#C8D4E3"
             },
             "line": {
              "color": "white"
             }
            },
            "type": "table"
           }
          ]
         },
         "layout": {
          "annotationdefaults": {
           "arrowcolor": "#2a3f5f",
           "arrowhead": 0,
           "arrowwidth": 1
          },
          "autotypenumbers": "strict",
          "coloraxis": {
           "colorbar": {
            "outlinewidth": 0,
            "ticks": ""
           }
          },
          "colorscale": {
           "diverging": [
            [
             0,
             "#8e0152"
            ],
            [
             0.1,
             "#c51b7d"
            ],
            [
             0.2,
             "#de77ae"
            ],
            [
             0.3,
             "#f1b6da"
            ],
            [
             0.4,
             "#fde0ef"
            ],
            [
             0.5,
             "#f7f7f7"
            ],
            [
             0.6,
             "#e6f5d0"
            ],
            [
             0.7,
             "#b8e186"
            ],
            [
             0.8,
             "#7fbc41"
            ],
            [
             0.9,
             "#4d9221"
            ],
            [
             1,
             "#276419"
            ]
           ],
           "sequential": [
            [
             0,
             "#0d0887"
            ],
            [
             0.1111111111111111,
             "#46039f"
            ],
            [
             0.2222222222222222,
             "#7201a8"
            ],
            [
             0.3333333333333333,
             "#9c179e"
            ],
            [
             0.4444444444444444,
             "#bd3786"
            ],
            [
             0.5555555555555556,
             "#d8576b"
            ],
            [
             0.6666666666666666,
             "#ed7953"
            ],
            [
             0.7777777777777778,
             "#fb9f3a"
            ],
            [
             0.8888888888888888,
             "#fdca26"
            ],
            [
             1,
             "#f0f921"
            ]
           ],
           "sequentialminus": [
            [
             0,
             "#0d0887"
            ],
            [
             0.1111111111111111,
             "#46039f"
            ],
            [
             0.2222222222222222,
             "#7201a8"
            ],
            [
             0.3333333333333333,
             "#9c179e"
            ],
            [
             0.4444444444444444,
             "#bd3786"
            ],
            [
             0.5555555555555556,
             "#d8576b"
            ],
            [
             0.6666666666666666,
             "#ed7953"
            ],
            [
             0.7777777777777778,
             "#fb9f3a"
            ],
            [
             0.8888888888888888,
             "#fdca26"
            ],
            [
             1,
             "#f0f921"
            ]
           ]
          },
          "colorway": [
           "#636efa",
           "#EF553B",
           "#00cc96",
           "#ab63fa",
           "#FFA15A",
           "#19d3f3",
           "#FF6692",
           "#B6E880",
           "#FF97FF",
           "#FECB52"
          ],
          "font": {
           "color": "#2a3f5f"
          },
          "geo": {
           "bgcolor": "white",
           "lakecolor": "white",
           "landcolor": "white",
           "showlakes": true,
           "showland": true,
           "subunitcolor": "#C8D4E3"
          },
          "hoverlabel": {
           "align": "left"
          },
          "hovermode": "closest",
          "mapbox": {
           "style": "light"
          },
          "paper_bgcolor": "white",
          "plot_bgcolor": "white",
          "polar": {
           "angularaxis": {
            "gridcolor": "#EBF0F8",
            "linecolor": "#EBF0F8",
            "ticks": ""
           },
           "bgcolor": "white",
           "radialaxis": {
            "gridcolor": "#EBF0F8",
            "linecolor": "#EBF0F8",
            "ticks": ""
           }
          },
          "scene": {
           "xaxis": {
            "backgroundcolor": "white",
            "gridcolor": "#DFE8F3",
            "gridwidth": 2,
            "linecolor": "#EBF0F8",
            "showbackground": true,
            "ticks": "",
            "zerolinecolor": "#EBF0F8"
           },
           "yaxis": {
            "backgroundcolor": "white",
            "gridcolor": "#DFE8F3",
            "gridwidth": 2,
            "linecolor": "#EBF0F8",
            "showbackground": true,
            "ticks": "",
            "zerolinecolor": "#EBF0F8"
           },
           "zaxis": {
            "backgroundcolor": "white",
            "gridcolor": "#DFE8F3",
            "gridwidth": 2,
            "linecolor": "#EBF0F8",
            "showbackground": true,
            "ticks": "",
            "zerolinecolor": "#EBF0F8"
           }
          },
          "shapedefaults": {
           "line": {
            "color": "#2a3f5f"
           }
          },
          "ternary": {
           "aaxis": {
            "gridcolor": "#DFE8F3",
            "linecolor": "#A2B1C6",
            "ticks": ""
           },
           "baxis": {
            "gridcolor": "#DFE8F3",
            "linecolor": "#A2B1C6",
            "ticks": ""
           },
           "bgcolor": "white",
           "caxis": {
            "gridcolor": "#DFE8F3",
            "linecolor": "#A2B1C6",
            "ticks": ""
           }
          },
          "title": {
           "x": 0.05
          },
          "xaxis": {
           "automargin": true,
           "gridcolor": "#EBF0F8",
           "linecolor": "#EBF0F8",
           "ticks": "",
           "title": {
            "standoff": 15
           },
           "zerolinecolor": "#EBF0F8",
           "zerolinewidth": 2
          },
          "yaxis": {
           "automargin": true,
           "gridcolor": "#EBF0F8",
           "linecolor": "#EBF0F8",
           "ticks": "",
           "title": {
            "standoff": 15
           },
           "zerolinecolor": "#EBF0F8",
           "zerolinewidth": 2
          }
         }
        },
        "title": {
         "font": {
          "color": "Black",
          "size": 22
         },
         "text": "Topic Word Scores",
         "x": 0.5,
         "xanchor": "center",
         "yanchor": "top"
        },
        "width": 1000,
        "xaxis": {
         "anchor": "y",
         "domain": [
          0,
          0.175
         ],
         "showgrid": true
        },
        "xaxis2": {
         "anchor": "y2",
         "domain": [
          0.275,
          0.45
         ],
         "showgrid": true
        },
        "xaxis3": {
         "anchor": "y3",
         "domain": [
          0.55,
          0.7250000000000001
         ],
         "showgrid": true
        },
        "xaxis4": {
         "anchor": "y4",
         "domain": [
          0.825,
          1
         ],
         "showgrid": true
        },
        "xaxis5": {
         "anchor": "y5",
         "domain": [
          0,
          0.175
         ],
         "showgrid": true
        },
        "xaxis6": {
         "anchor": "y6",
         "domain": [
          0.275,
          0.45
         ],
         "showgrid": true
        },
        "xaxis7": {
         "anchor": "y7",
         "domain": [
          0.55,
          0.7250000000000001
         ],
         "showgrid": true
        },
        "xaxis8": {
         "anchor": "y8",
         "domain": [
          0.825,
          1
         ],
         "showgrid": true
        },
        "yaxis": {
         "anchor": "x",
         "domain": [
          0.6000000000000001,
          1
         ],
         "showgrid": true
        },
        "yaxis2": {
         "anchor": "x2",
         "domain": [
          0.6000000000000001,
          1
         ],
         "showgrid": true
        },
        "yaxis3": {
         "anchor": "x3",
         "domain": [
          0.6000000000000001,
          1
         ],
         "showgrid": true
        },
        "yaxis4": {
         "anchor": "x4",
         "domain": [
          0.6000000000000001,
          1
         ],
         "showgrid": true
        },
        "yaxis5": {
         "anchor": "x5",
         "domain": [
          0,
          0.4
         ],
         "showgrid": true
        },
        "yaxis6": {
         "anchor": "x6",
         "domain": [
          0,
          0.4
         ],
         "showgrid": true
        },
        "yaxis7": {
         "anchor": "x7",
         "domain": [
          0,
          0.4
         ],
         "showgrid": true
        },
        "yaxis8": {
         "anchor": "x8",
         "domain": [
          0,
          0.4
         ],
         "showgrid": true
        }
       }
      },
      "text/html": [
       "<div>                        <script type=\"text/javascript\">window.PlotlyConfig = {MathJaxConfig: 'local'};</script>\n",
       "        <script charset=\"utf-8\" src=\"https://cdn.plot.ly/plotly-2.32.0.min.js\"></script>                <div id=\"62377df6-cca9-4655-a7e2-a0e6f2e2742d\" class=\"plotly-graph-div\" style=\"height:500px; width:1000px;\"></div>            <script type=\"text/javascript\">                                    window.PLOTLYENV=window.PLOTLYENV || {};                                    if (document.getElementById(\"62377df6-cca9-4655-a7e2-a0e6f2e2742d\")) {                    Plotly.newPlot(                        \"62377df6-cca9-4655-a7e2-a0e6f2e2742d\",                        [{\"marker\":{\"color\":\"#D55E00\"},\"orientation\":\"h\",\"x\":[0.07565869594656666,0.11574989500462039,0.1416706408908798,0.17545301089516321,0.21543192610683157],\"y\":[\"job  \",\"thanks  \",\"wow  \",\"true  \",\"great  \"],\"type\":\"bar\",\"xaxis\":\"x\",\"yaxis\":\"y\"},{\"marker\":{\"color\":\"#0072B2\"},\"orientation\":\"h\",\"x\":[0.0477240540442246,0.052143408338170084,0.08976330254451315,0.15696593854790739,0.21106966988582274],\"y\":[\"honor  \",\"nice  \",\"great  \",\"you  \",\"thank  \"],\"type\":\"bar\",\"xaxis\":\"x2\",\"yaxis\":\"y2\"},{\"marker\":{\"color\":\"#CC79A7\"},\"orientation\":\"h\",\"x\":[0.032456916427228,0.03431254481067215,0.059651621593134634,0.07356566969230031,0.10141705640475437],\"y\":[\"president  \",\"potus  \",\"remarks  \",\"delivers  \",\"live  \"],\"type\":\"bar\",\"xaxis\":\"x3\",\"yaxis\":\"y3\"},{\"marker\":{\"color\":\"#E69F00\"},\"orientation\":\"h\",\"x\":[0.15242395098175554,0.21802043031985854,0.3738794452492452,0.42454479982594306,0.47069006809264363],\"y\":[\"watcher  \",\"great  \",\"america  \",\"make  \",\"again  \"],\"type\":\"bar\",\"xaxis\":\"x4\",\"yaxis\":\"y4\"},{\"marker\":{\"color\":\"#56B4E9\"},\"orientation\":\"h\",\"x\":[0.03934366533414377,0.0476967550235159,0.06284248072922625,0.183242110181173,0.2889585443870146],\"y\":[\"payrolls  \",\"matt  \",\"000  \",\"you  \",\"thank  \"],\"type\":\"bar\",\"xaxis\":\"x5\",\"yaxis\":\"y5\"},{\"marker\":{\"color\":\"#009E73\"},\"orientation\":\"h\",\"x\":[0.1447823826876693,0.1633193533359888,0.26781404441312173,0.3056430602917839,0.3163532471880701],\"y\":[\"at  \",\"tonight  \",\"enjoy  \",\"00  \",\"interviewed  \"],\"type\":\"bar\",\"xaxis\":\"x6\",\"yaxis\":\"y6\"},{\"marker\":{\"color\":\"#F0E442\"},\"orientation\":\"h\",\"x\":[0.04277717403523319,0.04767409635866026,0.04845908211453649,0.0498502156857567,0.08738939702267479],\"y\":[\"wow  \",\"agree  \",\"job  \",\"usa  \",\"great  \"],\"type\":\"bar\",\"xaxis\":\"x7\",\"yaxis\":\"y7\"},{\"marker\":{\"color\":\"#D55E00\"},\"orientation\":\"h\",\"x\":[0.0441237270031217,0.04471555314457454,0.050310681929190484,0.057233074697706124,0.07331188067570685],\"y\":[\"address  \",\"now  \",\"enjoy  \",\"watch  \",\"true  \"],\"type\":\"bar\",\"xaxis\":\"x8\",\"yaxis\":\"y8\"}],                        {\"template\":{\"data\":{\"barpolar\":[{\"marker\":{\"line\":{\"color\":\"white\",\"width\":0.5},\"pattern\":{\"fillmode\":\"overlay\",\"size\":10,\"solidity\":0.2}},\"type\":\"barpolar\"}],\"bar\":[{\"error_x\":{\"color\":\"#2a3f5f\"},\"error_y\":{\"color\":\"#2a3f5f\"},\"marker\":{\"line\":{\"color\":\"white\",\"width\":0.5},\"pattern\":{\"fillmode\":\"overlay\",\"size\":10,\"solidity\":0.2}},\"type\":\"bar\"}],\"carpet\":[{\"aaxis\":{\"endlinecolor\":\"#2a3f5f\",\"gridcolor\":\"#C8D4E3\",\"linecolor\":\"#C8D4E3\",\"minorgridcolor\":\"#C8D4E3\",\"startlinecolor\":\"#2a3f5f\"},\"baxis\":{\"endlinecolor\":\"#2a3f5f\",\"gridcolor\":\"#C8D4E3\",\"linecolor\":\"#C8D4E3\",\"minorgridcolor\":\"#C8D4E3\",\"startlinecolor\":\"#2a3f5f\"},\"type\":\"carpet\"}],\"choropleth\":[{\"colorbar\":{\"outlinewidth\":0,\"ticks\":\"\"},\"type\":\"choropleth\"}],\"contourcarpet\":[{\"colorbar\":{\"outlinewidth\":0,\"ticks\":\"\"},\"type\":\"contourcarpet\"}],\"contour\":[{\"colorbar\":{\"outlinewidth\":0,\"ticks\":\"\"},\"colorscale\":[[0.0,\"#0d0887\"],[0.1111111111111111,\"#46039f\"],[0.2222222222222222,\"#7201a8\"],[0.3333333333333333,\"#9c179e\"],[0.4444444444444444,\"#bd3786\"],[0.5555555555555556,\"#d8576b\"],[0.6666666666666666,\"#ed7953\"],[0.7777777777777778,\"#fb9f3a\"],[0.8888888888888888,\"#fdca26\"],[1.0,\"#f0f921\"]],\"type\":\"contour\"}],\"heatmapgl\":[{\"colorbar\":{\"outlinewidth\":0,\"ticks\":\"\"},\"colorscale\":[[0.0,\"#0d0887\"],[0.1111111111111111,\"#46039f\"],[0.2222222222222222,\"#7201a8\"],[0.3333333333333333,\"#9c179e\"],[0.4444444444444444,\"#bd3786\"],[0.5555555555555556,\"#d8576b\"],[0.6666666666666666,\"#ed7953\"],[0.7777777777777778,\"#fb9f3a\"],[0.8888888888888888,\"#fdca26\"],[1.0,\"#f0f921\"]],\"type\":\"heatmapgl\"}],\"heatmap\":[{\"colorbar\":{\"outlinewidth\":0,\"ticks\":\"\"},\"colorscale\":[[0.0,\"#0d0887\"],[0.1111111111111111,\"#46039f\"],[0.2222222222222222,\"#7201a8\"],[0.3333333333333333,\"#9c179e\"],[0.4444444444444444,\"#bd3786\"],[0.5555555555555556,\"#d8576b\"],[0.6666666666666666,\"#ed7953\"],[0.7777777777777778,\"#fb9f3a\"],[0.8888888888888888,\"#fdca26\"],[1.0,\"#f0f921\"]],\"type\":\"heatmap\"}],\"histogram2dcontour\":[{\"colorbar\":{\"outlinewidth\":0,\"ticks\":\"\"},\"colorscale\":[[0.0,\"#0d0887\"],[0.1111111111111111,\"#46039f\"],[0.2222222222222222,\"#7201a8\"],[0.3333333333333333,\"#9c179e\"],[0.4444444444444444,\"#bd3786\"],[0.5555555555555556,\"#d8576b\"],[0.6666666666666666,\"#ed7953\"],[0.7777777777777778,\"#fb9f3a\"],[0.8888888888888888,\"#fdca26\"],[1.0,\"#f0f921\"]],\"type\":\"histogram2dcontour\"}],\"histogram2d\":[{\"colorbar\":{\"outlinewidth\":0,\"ticks\":\"\"},\"colorscale\":[[0.0,\"#0d0887\"],[0.1111111111111111,\"#46039f\"],[0.2222222222222222,\"#7201a8\"],[0.3333333333333333,\"#9c179e\"],[0.4444444444444444,\"#bd3786\"],[0.5555555555555556,\"#d8576b\"],[0.6666666666666666,\"#ed7953\"],[0.7777777777777778,\"#fb9f3a\"],[0.8888888888888888,\"#fdca26\"],[1.0,\"#f0f921\"]],\"type\":\"histogram2d\"}],\"histogram\":[{\"marker\":{\"pattern\":{\"fillmode\":\"overlay\",\"size\":10,\"solidity\":0.2}},\"type\":\"histogram\"}],\"mesh3d\":[{\"colorbar\":{\"outlinewidth\":0,\"ticks\":\"\"},\"type\":\"mesh3d\"}],\"parcoords\":[{\"line\":{\"colorbar\":{\"outlinewidth\":0,\"ticks\":\"\"}},\"type\":\"parcoords\"}],\"pie\":[{\"automargin\":true,\"type\":\"pie\"}],\"scatter3d\":[{\"line\":{\"colorbar\":{\"outlinewidth\":0,\"ticks\":\"\"}},\"marker\":{\"colorbar\":{\"outlinewidth\":0,\"ticks\":\"\"}},\"type\":\"scatter3d\"}],\"scattercarpet\":[{\"marker\":{\"colorbar\":{\"outlinewidth\":0,\"ticks\":\"\"}},\"type\":\"scattercarpet\"}],\"scattergeo\":[{\"marker\":{\"colorbar\":{\"outlinewidth\":0,\"ticks\":\"\"}},\"type\":\"scattergeo\"}],\"scattergl\":[{\"marker\":{\"colorbar\":{\"outlinewidth\":0,\"ticks\":\"\"}},\"type\":\"scattergl\"}],\"scattermapbox\":[{\"marker\":{\"colorbar\":{\"outlinewidth\":0,\"ticks\":\"\"}},\"type\":\"scattermapbox\"}],\"scatterpolargl\":[{\"marker\":{\"colorbar\":{\"outlinewidth\":0,\"ticks\":\"\"}},\"type\":\"scatterpolargl\"}],\"scatterpolar\":[{\"marker\":{\"colorbar\":{\"outlinewidth\":0,\"ticks\":\"\"}},\"type\":\"scatterpolar\"}],\"scatter\":[{\"fillpattern\":{\"fillmode\":\"overlay\",\"size\":10,\"solidity\":0.2},\"type\":\"scatter\"}],\"scatterternary\":[{\"marker\":{\"colorbar\":{\"outlinewidth\":0,\"ticks\":\"\"}},\"type\":\"scatterternary\"}],\"surface\":[{\"colorbar\":{\"outlinewidth\":0,\"ticks\":\"\"},\"colorscale\":[[0.0,\"#0d0887\"],[0.1111111111111111,\"#46039f\"],[0.2222222222222222,\"#7201a8\"],[0.3333333333333333,\"#9c179e\"],[0.4444444444444444,\"#bd3786\"],[0.5555555555555556,\"#d8576b\"],[0.6666666666666666,\"#ed7953\"],[0.7777777777777778,\"#fb9f3a\"],[0.8888888888888888,\"#fdca26\"],[1.0,\"#f0f921\"]],\"type\":\"surface\"}],\"table\":[{\"cells\":{\"fill\":{\"color\":\"#EBF0F8\"},\"line\":{\"color\":\"white\"}},\"header\":{\"fill\":{\"color\":\"#C8D4E3\"},\"line\":{\"color\":\"white\"}},\"type\":\"table\"}]},\"layout\":{\"annotationdefaults\":{\"arrowcolor\":\"#2a3f5f\",\"arrowhead\":0,\"arrowwidth\":1},\"autotypenumbers\":\"strict\",\"coloraxis\":{\"colorbar\":{\"outlinewidth\":0,\"ticks\":\"\"}},\"colorscale\":{\"diverging\":[[0,\"#8e0152\"],[0.1,\"#c51b7d\"],[0.2,\"#de77ae\"],[0.3,\"#f1b6da\"],[0.4,\"#fde0ef\"],[0.5,\"#f7f7f7\"],[0.6,\"#e6f5d0\"],[0.7,\"#b8e186\"],[0.8,\"#7fbc41\"],[0.9,\"#4d9221\"],[1,\"#276419\"]],\"sequential\":[[0.0,\"#0d0887\"],[0.1111111111111111,\"#46039f\"],[0.2222222222222222,\"#7201a8\"],[0.3333333333333333,\"#9c179e\"],[0.4444444444444444,\"#bd3786\"],[0.5555555555555556,\"#d8576b\"],[0.6666666666666666,\"#ed7953\"],[0.7777777777777778,\"#fb9f3a\"],[0.8888888888888888,\"#fdca26\"],[1.0,\"#f0f921\"]],\"sequentialminus\":[[0.0,\"#0d0887\"],[0.1111111111111111,\"#46039f\"],[0.2222222222222222,\"#7201a8\"],[0.3333333333333333,\"#9c179e\"],[0.4444444444444444,\"#bd3786\"],[0.5555555555555556,\"#d8576b\"],[0.6666666666666666,\"#ed7953\"],[0.7777777777777778,\"#fb9f3a\"],[0.8888888888888888,\"#fdca26\"],[1.0,\"#f0f921\"]]},\"colorway\":[\"#636efa\",\"#EF553B\",\"#00cc96\",\"#ab63fa\",\"#FFA15A\",\"#19d3f3\",\"#FF6692\",\"#B6E880\",\"#FF97FF\",\"#FECB52\"],\"font\":{\"color\":\"#2a3f5f\"},\"geo\":{\"bgcolor\":\"white\",\"lakecolor\":\"white\",\"landcolor\":\"white\",\"showlakes\":true,\"showland\":true,\"subunitcolor\":\"#C8D4E3\"},\"hoverlabel\":{\"align\":\"left\"},\"hovermode\":\"closest\",\"mapbox\":{\"style\":\"light\"},\"paper_bgcolor\":\"white\",\"plot_bgcolor\":\"white\",\"polar\":{\"angularaxis\":{\"gridcolor\":\"#EBF0F8\",\"linecolor\":\"#EBF0F8\",\"ticks\":\"\"},\"bgcolor\":\"white\",\"radialaxis\":{\"gridcolor\":\"#EBF0F8\",\"linecolor\":\"#EBF0F8\",\"ticks\":\"\"}},\"scene\":{\"xaxis\":{\"backgroundcolor\":\"white\",\"gridcolor\":\"#DFE8F3\",\"gridwidth\":2,\"linecolor\":\"#EBF0F8\",\"showbackground\":true,\"ticks\":\"\",\"zerolinecolor\":\"#EBF0F8\"},\"yaxis\":{\"backgroundcolor\":\"white\",\"gridcolor\":\"#DFE8F3\",\"gridwidth\":2,\"linecolor\":\"#EBF0F8\",\"showbackground\":true,\"ticks\":\"\",\"zerolinecolor\":\"#EBF0F8\"},\"zaxis\":{\"backgroundcolor\":\"white\",\"gridcolor\":\"#DFE8F3\",\"gridwidth\":2,\"linecolor\":\"#EBF0F8\",\"showbackground\":true,\"ticks\":\"\",\"zerolinecolor\":\"#EBF0F8\"}},\"shapedefaults\":{\"line\":{\"color\":\"#2a3f5f\"}},\"ternary\":{\"aaxis\":{\"gridcolor\":\"#DFE8F3\",\"linecolor\":\"#A2B1C6\",\"ticks\":\"\"},\"baxis\":{\"gridcolor\":\"#DFE8F3\",\"linecolor\":\"#A2B1C6\",\"ticks\":\"\"},\"bgcolor\":\"white\",\"caxis\":{\"gridcolor\":\"#DFE8F3\",\"linecolor\":\"#A2B1C6\",\"ticks\":\"\"}},\"title\":{\"x\":0.05},\"xaxis\":{\"automargin\":true,\"gridcolor\":\"#EBF0F8\",\"linecolor\":\"#EBF0F8\",\"ticks\":\"\",\"title\":{\"standoff\":15},\"zerolinecolor\":\"#EBF0F8\",\"zerolinewidth\":2},\"yaxis\":{\"automargin\":true,\"gridcolor\":\"#EBF0F8\",\"linecolor\":\"#EBF0F8\",\"ticks\":\"\",\"title\":{\"standoff\":15},\"zerolinecolor\":\"#EBF0F8\",\"zerolinewidth\":2}}},\"xaxis\":{\"anchor\":\"y\",\"domain\":[0.0,0.175],\"showgrid\":true},\"yaxis\":{\"anchor\":\"x\",\"domain\":[0.6000000000000001,1.0],\"showgrid\":true},\"xaxis2\":{\"anchor\":\"y2\",\"domain\":[0.275,0.45],\"showgrid\":true},\"yaxis2\":{\"anchor\":\"x2\",\"domain\":[0.6000000000000001,1.0],\"showgrid\":true},\"xaxis3\":{\"anchor\":\"y3\",\"domain\":[0.55,0.7250000000000001],\"showgrid\":true},\"yaxis3\":{\"anchor\":\"x3\",\"domain\":[0.6000000000000001,1.0],\"showgrid\":true},\"xaxis4\":{\"anchor\":\"y4\",\"domain\":[0.825,1.0],\"showgrid\":true},\"yaxis4\":{\"anchor\":\"x4\",\"domain\":[0.6000000000000001,1.0],\"showgrid\":true},\"xaxis5\":{\"anchor\":\"y5\",\"domain\":[0.0,0.175],\"showgrid\":true},\"yaxis5\":{\"anchor\":\"x5\",\"domain\":[0.0,0.4],\"showgrid\":true},\"xaxis6\":{\"anchor\":\"y6\",\"domain\":[0.275,0.45],\"showgrid\":true},\"yaxis6\":{\"anchor\":\"x6\",\"domain\":[0.0,0.4],\"showgrid\":true},\"xaxis7\":{\"anchor\":\"y7\",\"domain\":[0.55,0.7250000000000001],\"showgrid\":true},\"yaxis7\":{\"anchor\":\"x7\",\"domain\":[0.0,0.4],\"showgrid\":true},\"xaxis8\":{\"anchor\":\"y8\",\"domain\":[0.825,1.0],\"showgrid\":true},\"yaxis8\":{\"anchor\":\"x8\",\"domain\":[0.0,0.4],\"showgrid\":true},\"annotations\":[{\"font\":{\"size\":16},\"showarrow\":false,\"text\":\"Topic 0\",\"x\":0.0875,\"xanchor\":\"center\",\"xref\":\"paper\",\"y\":1.0,\"yanchor\":\"bottom\",\"yref\":\"paper\"},{\"font\":{\"size\":16},\"showarrow\":false,\"text\":\"Topic 1\",\"x\":0.36250000000000004,\"xanchor\":\"center\",\"xref\":\"paper\",\"y\":1.0,\"yanchor\":\"bottom\",\"yref\":\"paper\"},{\"font\":{\"size\":16},\"showarrow\":false,\"text\":\"Topic 2\",\"x\":0.6375000000000001,\"xanchor\":\"center\",\"xref\":\"paper\",\"y\":1.0,\"yanchor\":\"bottom\",\"yref\":\"paper\"},{\"font\":{\"size\":16},\"showarrow\":false,\"text\":\"Topic 3\",\"x\":0.9125,\"xanchor\":\"center\",\"xref\":\"paper\",\"y\":1.0,\"yanchor\":\"bottom\",\"yref\":\"paper\"},{\"font\":{\"size\":16},\"showarrow\":false,\"text\":\"Topic 4\",\"x\":0.0875,\"xanchor\":\"center\",\"xref\":\"paper\",\"y\":0.4,\"yanchor\":\"bottom\",\"yref\":\"paper\"},{\"font\":{\"size\":16},\"showarrow\":false,\"text\":\"Topic 5\",\"x\":0.36250000000000004,\"xanchor\":\"center\",\"xref\":\"paper\",\"y\":0.4,\"yanchor\":\"bottom\",\"yref\":\"paper\"},{\"font\":{\"size\":16},\"showarrow\":false,\"text\":\"Topic 6\",\"x\":0.6375000000000001,\"xanchor\":\"center\",\"xref\":\"paper\",\"y\":0.4,\"yanchor\":\"bottom\",\"yref\":\"paper\"},{\"font\":{\"size\":16},\"showarrow\":false,\"text\":\"Topic 7\",\"x\":0.9125,\"xanchor\":\"center\",\"xref\":\"paper\",\"y\":0.4,\"yanchor\":\"bottom\",\"yref\":\"paper\"}],\"title\":{\"font\":{\"size\":22,\"color\":\"Black\"},\"text\":\"Topic Word Scores\",\"x\":0.5,\"xanchor\":\"center\",\"yanchor\":\"top\"},\"hoverlabel\":{\"font\":{\"size\":16,\"family\":\"Rockwell\"},\"bgcolor\":\"white\"},\"showlegend\":false,\"width\":1000,\"height\":500},                        {\"responsive\": true}                    )                };                            </script>        </div>"
      ],
      "text/plain": [
       "Figure({\n",
       "    'data': [{'marker': {'color': '#D55E00'},\n",
       "              'orientation': 'h',\n",
       "              'type': 'bar',\n",
       "              'x': [0.07565869594656666, 0.11574989500462039, 0.1416706408908798,\n",
       "                    0.17545301089516321, 0.21543192610683157],\n",
       "              'xaxis': 'x',\n",
       "              'y': [job  , thanks  , wow  , true  , great  ],\n",
       "              'yaxis': 'y'},\n",
       "             {'marker': {'color': '#0072B2'},\n",
       "              'orientation': 'h',\n",
       "              'type': 'bar',\n",
       "              'x': [0.0477240540442246, 0.052143408338170084, 0.08976330254451315,\n",
       "                    0.15696593854790739, 0.21106966988582274],\n",
       "              'xaxis': 'x2',\n",
       "              'y': [honor  , nice  , great  , you  , thank  ],\n",
       "              'yaxis': 'y2'},\n",
       "             {'marker': {'color': '#CC79A7'},\n",
       "              'orientation': 'h',\n",
       "              'type': 'bar',\n",
       "              'x': [0.032456916427228, 0.03431254481067215, 0.059651621593134634,\n",
       "                    0.07356566969230031, 0.10141705640475437],\n",
       "              'xaxis': 'x3',\n",
       "              'y': [president  , potus  , remarks  , delivers  , live  ],\n",
       "              'yaxis': 'y3'},\n",
       "             {'marker': {'color': '#E69F00'},\n",
       "              'orientation': 'h',\n",
       "              'type': 'bar',\n",
       "              'x': [0.15242395098175554, 0.21802043031985854, 0.3738794452492452,\n",
       "                    0.42454479982594306, 0.47069006809264363],\n",
       "              'xaxis': 'x4',\n",
       "              'y': [watcher  , great  , america  , make  , again  ],\n",
       "              'yaxis': 'y4'},\n",
       "             {'marker': {'color': '#56B4E9'},\n",
       "              'orientation': 'h',\n",
       "              'type': 'bar',\n",
       "              'x': [0.03934366533414377, 0.0476967550235159, 0.06284248072922625,\n",
       "                    0.183242110181173, 0.2889585443870146],\n",
       "              'xaxis': 'x5',\n",
       "              'y': [payrolls  , matt  , 000  , you  , thank  ],\n",
       "              'yaxis': 'y5'},\n",
       "             {'marker': {'color': '#009E73'},\n",
       "              'orientation': 'h',\n",
       "              'type': 'bar',\n",
       "              'x': [0.1447823826876693, 0.1633193533359888, 0.26781404441312173,\n",
       "                    0.3056430602917839, 0.3163532471880701],\n",
       "              'xaxis': 'x6',\n",
       "              'y': [at  , tonight  , enjoy  , 00  , interviewed  ],\n",
       "              'yaxis': 'y6'},\n",
       "             {'marker': {'color': '#F0E442'},\n",
       "              'orientation': 'h',\n",
       "              'type': 'bar',\n",
       "              'x': [0.04277717403523319, 0.04767409635866026, 0.04845908211453649,\n",
       "                    0.0498502156857567, 0.08738939702267479],\n",
       "              'xaxis': 'x7',\n",
       "              'y': [wow  , agree  , job  , usa  , great  ],\n",
       "              'yaxis': 'y7'},\n",
       "             {'marker': {'color': '#D55E00'},\n",
       "              'orientation': 'h',\n",
       "              'type': 'bar',\n",
       "              'x': [0.0441237270031217, 0.04471555314457454, 0.050310681929190484,\n",
       "                    0.057233074697706124, 0.07331188067570685],\n",
       "              'xaxis': 'x8',\n",
       "              'y': [address  , now  , enjoy  , watch  , true  ],\n",
       "              'yaxis': 'y8'}],\n",
       "    'layout': {'annotations': [{'font': {'size': 16},\n",
       "                                'showarrow': False,\n",
       "                                'text': 'Topic 0',\n",
       "                                'x': 0.0875,\n",
       "                                'xanchor': 'center',\n",
       "                                'xref': 'paper',\n",
       "                                'y': 1.0,\n",
       "                                'yanchor': 'bottom',\n",
       "                                'yref': 'paper'},\n",
       "                               {'font': {'size': 16},\n",
       "                                'showarrow': False,\n",
       "                                'text': 'Topic 1',\n",
       "                                'x': 0.36250000000000004,\n",
       "                                'xanchor': 'center',\n",
       "                                'xref': 'paper',\n",
       "                                'y': 1.0,\n",
       "                                'yanchor': 'bottom',\n",
       "                                'yref': 'paper'},\n",
       "                               {'font': {'size': 16},\n",
       "                                'showarrow': False,\n",
       "                                'text': 'Topic 2',\n",
       "                                'x': 0.6375000000000001,\n",
       "                                'xanchor': 'center',\n",
       "                                'xref': 'paper',\n",
       "                                'y': 1.0,\n",
       "                                'yanchor': 'bottom',\n",
       "                                'yref': 'paper'},\n",
       "                               {'font': {'size': 16},\n",
       "                                'showarrow': False,\n",
       "                                'text': 'Topic 3',\n",
       "                                'x': 0.9125,\n",
       "                                'xanchor': 'center',\n",
       "                                'xref': 'paper',\n",
       "                                'y': 1.0,\n",
       "                                'yanchor': 'bottom',\n",
       "                                'yref': 'paper'},\n",
       "                               {'font': {'size': 16},\n",
       "                                'showarrow': False,\n",
       "                                'text': 'Topic 4',\n",
       "                                'x': 0.0875,\n",
       "                                'xanchor': 'center',\n",
       "                                'xref': 'paper',\n",
       "                                'y': 0.4,\n",
       "                                'yanchor': 'bottom',\n",
       "                                'yref': 'paper'},\n",
       "                               {'font': {'size': 16},\n",
       "                                'showarrow': False,\n",
       "                                'text': 'Topic 5',\n",
       "                                'x': 0.36250000000000004,\n",
       "                                'xanchor': 'center',\n",
       "                                'xref': 'paper',\n",
       "                                'y': 0.4,\n",
       "                                'yanchor': 'bottom',\n",
       "                                'yref': 'paper'},\n",
       "                               {'font': {'size': 16},\n",
       "                                'showarrow': False,\n",
       "                                'text': 'Topic 6',\n",
       "                                'x': 0.6375000000000001,\n",
       "                                'xanchor': 'center',\n",
       "                                'xref': 'paper',\n",
       "                                'y': 0.4,\n",
       "                                'yanchor': 'bottom',\n",
       "                                'yref': 'paper'},\n",
       "                               {'font': {'size': 16},\n",
       "                                'showarrow': False,\n",
       "                                'text': 'Topic 7',\n",
       "                                'x': 0.9125,\n",
       "                                'xanchor': 'center',\n",
       "                                'xref': 'paper',\n",
       "                                'y': 0.4,\n",
       "                                'yanchor': 'bottom',\n",
       "                                'yref': 'paper'}],\n",
       "               'height': 500,\n",
       "               'hoverlabel': {'bgcolor': 'white', 'font': {'family': 'Rockwell', 'size': 16}},\n",
       "               'showlegend': False,\n",
       "               'template': '...',\n",
       "               'title': {'font': {'color': 'Black', 'size': 22},\n",
       "                         'text': 'Topic Word Scores',\n",
       "                         'x': 0.5,\n",
       "                         'xanchor': 'center',\n",
       "                         'yanchor': 'top'},\n",
       "               'width': 1000,\n",
       "               'xaxis': {'anchor': 'y', 'domain': [0.0, 0.175], 'showgrid': True},\n",
       "               'xaxis2': {'anchor': 'y2', 'domain': [0.275, 0.45], 'showgrid': True},\n",
       "               'xaxis3': {'anchor': 'y3', 'domain': [0.55, 0.7250000000000001], 'showgrid': True},\n",
       "               'xaxis4': {'anchor': 'y4', 'domain': [0.825, 1.0], 'showgrid': True},\n",
       "               'xaxis5': {'anchor': 'y5', 'domain': [0.0, 0.175], 'showgrid': True},\n",
       "               'xaxis6': {'anchor': 'y6', 'domain': [0.275, 0.45], 'showgrid': True},\n",
       "               'xaxis7': {'anchor': 'y7', 'domain': [0.55, 0.7250000000000001], 'showgrid': True},\n",
       "               'xaxis8': {'anchor': 'y8', 'domain': [0.825, 1.0], 'showgrid': True},\n",
       "               'yaxis': {'anchor': 'x', 'domain': [0.6000000000000001, 1.0], 'showgrid': True},\n",
       "               'yaxis2': {'anchor': 'x2', 'domain': [0.6000000000000001, 1.0], 'showgrid': True},\n",
       "               'yaxis3': {'anchor': 'x3', 'domain': [0.6000000000000001, 1.0], 'showgrid': True},\n",
       "               'yaxis4': {'anchor': 'x4', 'domain': [0.6000000000000001, 1.0], 'showgrid': True},\n",
       "               'yaxis5': {'anchor': 'x5', 'domain': [0.0, 0.4], 'showgrid': True},\n",
       "               'yaxis6': {'anchor': 'x6', 'domain': [0.0, 0.4], 'showgrid': True},\n",
       "               'yaxis7': {'anchor': 'x7', 'domain': [0.0, 0.4], 'showgrid': True},\n",
       "               'yaxis8': {'anchor': 'x8', 'domain': [0.0, 0.4], 'showgrid': True}}\n",
       "})"
      ]
     },
     "execution_count": 70,
     "metadata": {},
     "output_type": "execute_result"
    }
   ],
   "source": [
    "capitalist.visualize_barchart().write_image(\"capitalist-barchart.pdf\")\n",
    "capitalist.visualize_barchart()"
   ]
  },
  {
   "cell_type": "code",
   "execution_count": 71,
   "metadata": {},
   "outputs": [
    {
     "ename": "ValueError",
     "evalue": "Mime type rendering requires nbformat>=4.2.0 but it is not installed",
     "output_type": "error",
     "traceback": [
      "\u001b[0;31m---------------------------------------------------------------------------\u001b[0m",
      "\u001b[0;31mValueError\u001b[0m                                Traceback (most recent call last)",
      "File \u001b[0;32m~/code/marxists-llm/pyven/lib/python3.12/site-packages/IPython/core/formatters.py:925\u001b[0m, in \u001b[0;36mIPythonDisplayFormatter.__call__\u001b[0;34m(self, obj)\u001b[0m\n\u001b[1;32m    923\u001b[0m method \u001b[38;5;241m=\u001b[39m get_real_method(obj, \u001b[38;5;28mself\u001b[39m\u001b[38;5;241m.\u001b[39mprint_method)\n\u001b[1;32m    924\u001b[0m \u001b[38;5;28;01mif\u001b[39;00m method \u001b[38;5;129;01mis\u001b[39;00m \u001b[38;5;129;01mnot\u001b[39;00m \u001b[38;5;28;01mNone\u001b[39;00m:\n\u001b[0;32m--> 925\u001b[0m     \u001b[43mmethod\u001b[49m\u001b[43m(\u001b[49m\u001b[43m)\u001b[49m\n\u001b[1;32m    926\u001b[0m     \u001b[38;5;28;01mreturn\u001b[39;00m \u001b[38;5;28;01mTrue\u001b[39;00m\n",
      "File \u001b[0;32m~/code/marxists-llm/pyven/lib/python3.12/site-packages/plotly/basedatatypes.py:832\u001b[0m, in \u001b[0;36mBaseFigure._ipython_display_\u001b[0;34m(self)\u001b[0m\n\u001b[1;32m    829\u001b[0m \u001b[38;5;28;01mimport\u001b[39;00m \u001b[38;5;21;01mplotly\u001b[39;00m\u001b[38;5;21;01m.\u001b[39;00m\u001b[38;5;21;01mio\u001b[39;00m \u001b[38;5;28;01mas\u001b[39;00m \u001b[38;5;21;01mpio\u001b[39;00m\n\u001b[1;32m    831\u001b[0m \u001b[38;5;28;01mif\u001b[39;00m pio\u001b[38;5;241m.\u001b[39mrenderers\u001b[38;5;241m.\u001b[39mrender_on_display \u001b[38;5;129;01mand\u001b[39;00m pio\u001b[38;5;241m.\u001b[39mrenderers\u001b[38;5;241m.\u001b[39mdefault:\n\u001b[0;32m--> 832\u001b[0m     \u001b[43mpio\u001b[49m\u001b[38;5;241;43m.\u001b[39;49m\u001b[43mshow\u001b[49m\u001b[43m(\u001b[49m\u001b[38;5;28;43mself\u001b[39;49m\u001b[43m)\u001b[49m\n\u001b[1;32m    833\u001b[0m \u001b[38;5;28;01melse\u001b[39;00m:\n\u001b[1;32m    834\u001b[0m     \u001b[38;5;28mprint\u001b[39m(\u001b[38;5;28mrepr\u001b[39m(\u001b[38;5;28mself\u001b[39m))\n",
      "File \u001b[0;32m~/code/marxists-llm/pyven/lib/python3.12/site-packages/plotly/io/_renderers.py:394\u001b[0m, in \u001b[0;36mshow\u001b[0;34m(fig, renderer, validate, **kwargs)\u001b[0m\n\u001b[1;32m    389\u001b[0m         \u001b[38;5;28;01mraise\u001b[39;00m \u001b[38;5;167;01mValueError\u001b[39;00m(\n\u001b[1;32m    390\u001b[0m             \u001b[38;5;124m\"\u001b[39m\u001b[38;5;124mMime type rendering requires ipython but it is not installed\u001b[39m\u001b[38;5;124m\"\u001b[39m\n\u001b[1;32m    391\u001b[0m         )\n\u001b[1;32m    393\u001b[0m     \u001b[38;5;28;01mif\u001b[39;00m \u001b[38;5;129;01mnot\u001b[39;00m nbformat \u001b[38;5;129;01mor\u001b[39;00m Version(nbformat\u001b[38;5;241m.\u001b[39m__version__) \u001b[38;5;241m<\u001b[39m Version(\u001b[38;5;124m\"\u001b[39m\u001b[38;5;124m4.2.0\u001b[39m\u001b[38;5;124m\"\u001b[39m):\n\u001b[0;32m--> 394\u001b[0m         \u001b[38;5;28;01mraise\u001b[39;00m \u001b[38;5;167;01mValueError\u001b[39;00m(\n\u001b[1;32m    395\u001b[0m             \u001b[38;5;124m\"\u001b[39m\u001b[38;5;124mMime type rendering requires nbformat>=4.2.0 but it is not installed\u001b[39m\u001b[38;5;124m\"\u001b[39m\n\u001b[1;32m    396\u001b[0m         )\n\u001b[1;32m    398\u001b[0m     ipython_display\u001b[38;5;241m.\u001b[39mdisplay(bundle, raw\u001b[38;5;241m=\u001b[39m\u001b[38;5;28;01mTrue\u001b[39;00m)\n\u001b[1;32m    400\u001b[0m \u001b[38;5;66;03m# external renderers\u001b[39;00m\n",
      "\u001b[0;31mValueError\u001b[0m: Mime type rendering requires nbformat>=4.2.0 but it is not installed"
     ]
    },
    {
     "data": {
      "application/vnd.plotly.v1+json": {
       "config": {
        "plotlyServerURL": "https://plot.ly"
       },
       "data": [
        {
         "marker": {
          "color": "#D55E00"
         },
         "orientation": "h",
         "type": "bar",
         "x": [
          0.011486646669622172,
          0.012431288168237607,
          0.014032090470058071,
          0.021595620646452606,
          0.03214779482457904
         ],
         "xaxis": "x",
         "y": [
          "fbi  ",
          "election  ",
          "biden  ",
          "trump  ",
          "via  "
         ],
         "yaxis": "y"
        },
        {
         "marker": {
          "color": "#0072B2"
         },
         "orientation": "h",
         "type": "bar",
         "x": [
          0.03822231902499201,
          0.040056509434912874,
          0.06357316045692528,
          0.4032863047961809,
          0.6562604331023801
         ],
         "xaxis": "x2",
         "y": [
          "rudy  ",
          "franklin  ",
          "matt  ",
          "you  ",
          "thank  "
         ],
         "yaxis": "y2"
        },
        {
         "marker": {
          "color": "#CC79A7"
         },
         "orientation": "h",
         "type": "bar",
         "x": [
          0.13946770495253558,
          0.17732415982026678,
          0.29732439500277547,
          0.3490814714190747,
          0.5487543685666976
         ],
         "xaxis": "x3",
         "y": [
          "amazing  ",
          "great  ",
          "thanks  ",
          "wow  ",
          "true  "
         ],
         "yaxis": "y3"
        },
        {
         "marker": {
          "color": "#E69F00"
         },
         "orientation": "h",
         "type": "bar",
         "x": [
          0.1503196890088654,
          0.20902465013474367,
          0.2642754522822194,
          0.26441744667195083,
          0.3654835343169592
         ],
         "xaxis": "x4",
         "y": [
          "at  ",
          "tonight  ",
          "enjoy  ",
          "00  ",
          "interviewed  "
         ],
         "yaxis": "y4"
        },
        {
         "marker": {
          "color": "#56B4E9"
         },
         "orientation": "h",
         "type": "bar",
         "x": [
          0.06464441677646196,
          0.06526613725451473,
          0.06801523916691093,
          0.1327083304167988,
          0.13293888868930223
         ],
         "xaxis": "x5",
         "y": [
          "landed  ",
          "state  ",
          "way  ",
          "soon  ",
          "see  "
         ],
         "yaxis": "y5"
        },
        {
         "marker": {
          "color": "#009E73"
         },
         "orientation": "h",
         "type": "bar",
         "x": [
          0.06530456897197415,
          0.08793295144748492,
          0.11454182402137815,
          0.2098791374414593,
          0.2561493633649986
         ],
         "xaxis": "x6",
         "y": [
          "honor  ",
          "nice  ",
          "love  ",
          "you  ",
          "thank  "
         ],
         "yaxis": "y6"
        },
        {
         "marker": {
          "color": "#F0E442"
         },
         "orientation": "h",
         "type": "bar",
         "x": [
          0.0447877625689645,
          0.06183131995664561,
          0.21232735643600442,
          0.3027329830743231,
          0.3152837391916796
         ],
         "xaxis": "x7",
         "y": [
          "kag2020  ",
          "maga2020  ",
          "you  ",
          "maga  ",
          "thank  "
         ],
         "yaxis": "y7"
        },
        {
         "marker": {
          "color": "#D55E00"
         },
         "orientation": "h",
         "type": "bar",
         "x": [
          0.07728174779490199,
          0.2841029495572386,
          0.5026538830908789,
          0.5118266266662633,
          0.5756723631256953
         ],
         "xaxis": "x8",
         "y": [
          "keep  ",
          "great  ",
          "america  ",
          "make  ",
          "again  "
         ],
         "yaxis": "y8"
        }
       ],
       "layout": {
        "annotations": [
         {
          "font": {
           "size": 16
          },
          "showarrow": false,
          "text": "Topic 0",
          "x": 0.0875,
          "xanchor": "center",
          "xref": "paper",
          "y": 1,
          "yanchor": "bottom",
          "yref": "paper"
         },
         {
          "font": {
           "size": 16
          },
          "showarrow": false,
          "text": "Topic 1",
          "x": 0.36250000000000004,
          "xanchor": "center",
          "xref": "paper",
          "y": 1,
          "yanchor": "bottom",
          "yref": "paper"
         },
         {
          "font": {
           "size": 16
          },
          "showarrow": false,
          "text": "Topic 2",
          "x": 0.6375000000000001,
          "xanchor": "center",
          "xref": "paper",
          "y": 1,
          "yanchor": "bottom",
          "yref": "paper"
         },
         {
          "font": {
           "size": 16
          },
          "showarrow": false,
          "text": "Topic 3",
          "x": 0.9125,
          "xanchor": "center",
          "xref": "paper",
          "y": 1,
          "yanchor": "bottom",
          "yref": "paper"
         },
         {
          "font": {
           "size": 16
          },
          "showarrow": false,
          "text": "Topic 4",
          "x": 0.0875,
          "xanchor": "center",
          "xref": "paper",
          "y": 0.4,
          "yanchor": "bottom",
          "yref": "paper"
         },
         {
          "font": {
           "size": 16
          },
          "showarrow": false,
          "text": "Topic 5",
          "x": 0.36250000000000004,
          "xanchor": "center",
          "xref": "paper",
          "y": 0.4,
          "yanchor": "bottom",
          "yref": "paper"
         },
         {
          "font": {
           "size": 16
          },
          "showarrow": false,
          "text": "Topic 6",
          "x": 0.6375000000000001,
          "xanchor": "center",
          "xref": "paper",
          "y": 0.4,
          "yanchor": "bottom",
          "yref": "paper"
         },
         {
          "font": {
           "size": 16
          },
          "showarrow": false,
          "text": "Topic 7",
          "x": 0.9125,
          "xanchor": "center",
          "xref": "paper",
          "y": 0.4,
          "yanchor": "bottom",
          "yref": "paper"
         }
        ],
        "height": 500,
        "hoverlabel": {
         "bgcolor": "white",
         "font": {
          "family": "Rockwell",
          "size": 16
         }
        },
        "showlegend": false,
        "template": {
         "data": {
          "bar": [
           {
            "error_x": {
             "color": "#2a3f5f"
            },
            "error_y": {
             "color": "#2a3f5f"
            },
            "marker": {
             "line": {
              "color": "white",
              "width": 0.5
             },
             "pattern": {
              "fillmode": "overlay",
              "size": 10,
              "solidity": 0.2
             }
            },
            "type": "bar"
           }
          ],
          "barpolar": [
           {
            "marker": {
             "line": {
              "color": "white",
              "width": 0.5
             },
             "pattern": {
              "fillmode": "overlay",
              "size": 10,
              "solidity": 0.2
             }
            },
            "type": "barpolar"
           }
          ],
          "carpet": [
           {
            "aaxis": {
             "endlinecolor": "#2a3f5f",
             "gridcolor": "#C8D4E3",
             "linecolor": "#C8D4E3",
             "minorgridcolor": "#C8D4E3",
             "startlinecolor": "#2a3f5f"
            },
            "baxis": {
             "endlinecolor": "#2a3f5f",
             "gridcolor": "#C8D4E3",
             "linecolor": "#C8D4E3",
             "minorgridcolor": "#C8D4E3",
             "startlinecolor": "#2a3f5f"
            },
            "type": "carpet"
           }
          ],
          "choropleth": [
           {
            "colorbar": {
             "outlinewidth": 0,
             "ticks": ""
            },
            "type": "choropleth"
           }
          ],
          "contour": [
           {
            "colorbar": {
             "outlinewidth": 0,
             "ticks": ""
            },
            "colorscale": [
             [
              0,
              "#0d0887"
             ],
             [
              0.1111111111111111,
              "#46039f"
             ],
             [
              0.2222222222222222,
              "#7201a8"
             ],
             [
              0.3333333333333333,
              "#9c179e"
             ],
             [
              0.4444444444444444,
              "#bd3786"
             ],
             [
              0.5555555555555556,
              "#d8576b"
             ],
             [
              0.6666666666666666,
              "#ed7953"
             ],
             [
              0.7777777777777778,
              "#fb9f3a"
             ],
             [
              0.8888888888888888,
              "#fdca26"
             ],
             [
              1,
              "#f0f921"
             ]
            ],
            "type": "contour"
           }
          ],
          "contourcarpet": [
           {
            "colorbar": {
             "outlinewidth": 0,
             "ticks": ""
            },
            "type": "contourcarpet"
           }
          ],
          "heatmap": [
           {
            "colorbar": {
             "outlinewidth": 0,
             "ticks": ""
            },
            "colorscale": [
             [
              0,
              "#0d0887"
             ],
             [
              0.1111111111111111,
              "#46039f"
             ],
             [
              0.2222222222222222,
              "#7201a8"
             ],
             [
              0.3333333333333333,
              "#9c179e"
             ],
             [
              0.4444444444444444,
              "#bd3786"
             ],
             [
              0.5555555555555556,
              "#d8576b"
             ],
             [
              0.6666666666666666,
              "#ed7953"
             ],
             [
              0.7777777777777778,
              "#fb9f3a"
             ],
             [
              0.8888888888888888,
              "#fdca26"
             ],
             [
              1,
              "#f0f921"
             ]
            ],
            "type": "heatmap"
           }
          ],
          "heatmapgl": [
           {
            "colorbar": {
             "outlinewidth": 0,
             "ticks": ""
            },
            "colorscale": [
             [
              0,
              "#0d0887"
             ],
             [
              0.1111111111111111,
              "#46039f"
             ],
             [
              0.2222222222222222,
              "#7201a8"
             ],
             [
              0.3333333333333333,
              "#9c179e"
             ],
             [
              0.4444444444444444,
              "#bd3786"
             ],
             [
              0.5555555555555556,
              "#d8576b"
             ],
             [
              0.6666666666666666,
              "#ed7953"
             ],
             [
              0.7777777777777778,
              "#fb9f3a"
             ],
             [
              0.8888888888888888,
              "#fdca26"
             ],
             [
              1,
              "#f0f921"
             ]
            ],
            "type": "heatmapgl"
           }
          ],
          "histogram": [
           {
            "marker": {
             "pattern": {
              "fillmode": "overlay",
              "size": 10,
              "solidity": 0.2
             }
            },
            "type": "histogram"
           }
          ],
          "histogram2d": [
           {
            "colorbar": {
             "outlinewidth": 0,
             "ticks": ""
            },
            "colorscale": [
             [
              0,
              "#0d0887"
             ],
             [
              0.1111111111111111,
              "#46039f"
             ],
             [
              0.2222222222222222,
              "#7201a8"
             ],
             [
              0.3333333333333333,
              "#9c179e"
             ],
             [
              0.4444444444444444,
              "#bd3786"
             ],
             [
              0.5555555555555556,
              "#d8576b"
             ],
             [
              0.6666666666666666,
              "#ed7953"
             ],
             [
              0.7777777777777778,
              "#fb9f3a"
             ],
             [
              0.8888888888888888,
              "#fdca26"
             ],
             [
              1,
              "#f0f921"
             ]
            ],
            "type": "histogram2d"
           }
          ],
          "histogram2dcontour": [
           {
            "colorbar": {
             "outlinewidth": 0,
             "ticks": ""
            },
            "colorscale": [
             [
              0,
              "#0d0887"
             ],
             [
              0.1111111111111111,
              "#46039f"
             ],
             [
              0.2222222222222222,
              "#7201a8"
             ],
             [
              0.3333333333333333,
              "#9c179e"
             ],
             [
              0.4444444444444444,
              "#bd3786"
             ],
             [
              0.5555555555555556,
              "#d8576b"
             ],
             [
              0.6666666666666666,
              "#ed7953"
             ],
             [
              0.7777777777777778,
              "#fb9f3a"
             ],
             [
              0.8888888888888888,
              "#fdca26"
             ],
             [
              1,
              "#f0f921"
             ]
            ],
            "type": "histogram2dcontour"
           }
          ],
          "mesh3d": [
           {
            "colorbar": {
             "outlinewidth": 0,
             "ticks": ""
            },
            "type": "mesh3d"
           }
          ],
          "parcoords": [
           {
            "line": {
             "colorbar": {
              "outlinewidth": 0,
              "ticks": ""
             }
            },
            "type": "parcoords"
           }
          ],
          "pie": [
           {
            "automargin": true,
            "type": "pie"
           }
          ],
          "scatter": [
           {
            "fillpattern": {
             "fillmode": "overlay",
             "size": 10,
             "solidity": 0.2
            },
            "type": "scatter"
           }
          ],
          "scatter3d": [
           {
            "line": {
             "colorbar": {
              "outlinewidth": 0,
              "ticks": ""
             }
            },
            "marker": {
             "colorbar": {
              "outlinewidth": 0,
              "ticks": ""
             }
            },
            "type": "scatter3d"
           }
          ],
          "scattercarpet": [
           {
            "marker": {
             "colorbar": {
              "outlinewidth": 0,
              "ticks": ""
             }
            },
            "type": "scattercarpet"
           }
          ],
          "scattergeo": [
           {
            "marker": {
             "colorbar": {
              "outlinewidth": 0,
              "ticks": ""
             }
            },
            "type": "scattergeo"
           }
          ],
          "scattergl": [
           {
            "marker": {
             "colorbar": {
              "outlinewidth": 0,
              "ticks": ""
             }
            },
            "type": "scattergl"
           }
          ],
          "scattermapbox": [
           {
            "marker": {
             "colorbar": {
              "outlinewidth": 0,
              "ticks": ""
             }
            },
            "type": "scattermapbox"
           }
          ],
          "scatterpolar": [
           {
            "marker": {
             "colorbar": {
              "outlinewidth": 0,
              "ticks": ""
             }
            },
            "type": "scatterpolar"
           }
          ],
          "scatterpolargl": [
           {
            "marker": {
             "colorbar": {
              "outlinewidth": 0,
              "ticks": ""
             }
            },
            "type": "scatterpolargl"
           }
          ],
          "scatterternary": [
           {
            "marker": {
             "colorbar": {
              "outlinewidth": 0,
              "ticks": ""
             }
            },
            "type": "scatterternary"
           }
          ],
          "surface": [
           {
            "colorbar": {
             "outlinewidth": 0,
             "ticks": ""
            },
            "colorscale": [
             [
              0,
              "#0d0887"
             ],
             [
              0.1111111111111111,
              "#46039f"
             ],
             [
              0.2222222222222222,
              "#7201a8"
             ],
             [
              0.3333333333333333,
              "#9c179e"
             ],
             [
              0.4444444444444444,
              "#bd3786"
             ],
             [
              0.5555555555555556,
              "#d8576b"
             ],
             [
              0.6666666666666666,
              "#ed7953"
             ],
             [
              0.7777777777777778,
              "#fb9f3a"
             ],
             [
              0.8888888888888888,
              "#fdca26"
             ],
             [
              1,
              "#f0f921"
             ]
            ],
            "type": "surface"
           }
          ],
          "table": [
           {
            "cells": {
             "fill": {
              "color": "#EBF0F8"
             },
             "line": {
              "color": "white"
             }
            },
            "header": {
             "fill": {
              "color": "#C8D4E3"
             },
             "line": {
              "color": "white"
             }
            },
            "type": "table"
           }
          ]
         },
         "layout": {
          "annotationdefaults": {
           "arrowcolor": "#2a3f5f",
           "arrowhead": 0,
           "arrowwidth": 1
          },
          "autotypenumbers": "strict",
          "coloraxis": {
           "colorbar": {
            "outlinewidth": 0,
            "ticks": ""
           }
          },
          "colorscale": {
           "diverging": [
            [
             0,
             "#8e0152"
            ],
            [
             0.1,
             "#c51b7d"
            ],
            [
             0.2,
             "#de77ae"
            ],
            [
             0.3,
             "#f1b6da"
            ],
            [
             0.4,
             "#fde0ef"
            ],
            [
             0.5,
             "#f7f7f7"
            ],
            [
             0.6,
             "#e6f5d0"
            ],
            [
             0.7,
             "#b8e186"
            ],
            [
             0.8,
             "#7fbc41"
            ],
            [
             0.9,
             "#4d9221"
            ],
            [
             1,
             "#276419"
            ]
           ],
           "sequential": [
            [
             0,
             "#0d0887"
            ],
            [
             0.1111111111111111,
             "#46039f"
            ],
            [
             0.2222222222222222,
             "#7201a8"
            ],
            [
             0.3333333333333333,
             "#9c179e"
            ],
            [
             0.4444444444444444,
             "#bd3786"
            ],
            [
             0.5555555555555556,
             "#d8576b"
            ],
            [
             0.6666666666666666,
             "#ed7953"
            ],
            [
             0.7777777777777778,
             "#fb9f3a"
            ],
            [
             0.8888888888888888,
             "#fdca26"
            ],
            [
             1,
             "#f0f921"
            ]
           ],
           "sequentialminus": [
            [
             0,
             "#0d0887"
            ],
            [
             0.1111111111111111,
             "#46039f"
            ],
            [
             0.2222222222222222,
             "#7201a8"
            ],
            [
             0.3333333333333333,
             "#9c179e"
            ],
            [
             0.4444444444444444,
             "#bd3786"
            ],
            [
             0.5555555555555556,
             "#d8576b"
            ],
            [
             0.6666666666666666,
             "#ed7953"
            ],
            [
             0.7777777777777778,
             "#fb9f3a"
            ],
            [
             0.8888888888888888,
             "#fdca26"
            ],
            [
             1,
             "#f0f921"
            ]
           ]
          },
          "colorway": [
           "#636efa",
           "#EF553B",
           "#00cc96",
           "#ab63fa",
           "#FFA15A",
           "#19d3f3",
           "#FF6692",
           "#B6E880",
           "#FF97FF",
           "#FECB52"
          ],
          "font": {
           "color": "#2a3f5f"
          },
          "geo": {
           "bgcolor": "white",
           "lakecolor": "white",
           "landcolor": "white",
           "showlakes": true,
           "showland": true,
           "subunitcolor": "#C8D4E3"
          },
          "hoverlabel": {
           "align": "left"
          },
          "hovermode": "closest",
          "mapbox": {
           "style": "light"
          },
          "paper_bgcolor": "white",
          "plot_bgcolor": "white",
          "polar": {
           "angularaxis": {
            "gridcolor": "#EBF0F8",
            "linecolor": "#EBF0F8",
            "ticks": ""
           },
           "bgcolor": "white",
           "radialaxis": {
            "gridcolor": "#EBF0F8",
            "linecolor": "#EBF0F8",
            "ticks": ""
           }
          },
          "scene": {
           "xaxis": {
            "backgroundcolor": "white",
            "gridcolor": "#DFE8F3",
            "gridwidth": 2,
            "linecolor": "#EBF0F8",
            "showbackground": true,
            "ticks": "",
            "zerolinecolor": "#EBF0F8"
           },
           "yaxis": {
            "backgroundcolor": "white",
            "gridcolor": "#DFE8F3",
            "gridwidth": 2,
            "linecolor": "#EBF0F8",
            "showbackground": true,
            "ticks": "",
            "zerolinecolor": "#EBF0F8"
           },
           "zaxis": {
            "backgroundcolor": "white",
            "gridcolor": "#DFE8F3",
            "gridwidth": 2,
            "linecolor": "#EBF0F8",
            "showbackground": true,
            "ticks": "",
            "zerolinecolor": "#EBF0F8"
           }
          },
          "shapedefaults": {
           "line": {
            "color": "#2a3f5f"
           }
          },
          "ternary": {
           "aaxis": {
            "gridcolor": "#DFE8F3",
            "linecolor": "#A2B1C6",
            "ticks": ""
           },
           "baxis": {
            "gridcolor": "#DFE8F3",
            "linecolor": "#A2B1C6",
            "ticks": ""
           },
           "bgcolor": "white",
           "caxis": {
            "gridcolor": "#DFE8F3",
            "linecolor": "#A2B1C6",
            "ticks": ""
           }
          },
          "title": {
           "x": 0.05
          },
          "xaxis": {
           "automargin": true,
           "gridcolor": "#EBF0F8",
           "linecolor": "#EBF0F8",
           "ticks": "",
           "title": {
            "standoff": 15
           },
           "zerolinecolor": "#EBF0F8",
           "zerolinewidth": 2
          },
          "yaxis": {
           "automargin": true,
           "gridcolor": "#EBF0F8",
           "linecolor": "#EBF0F8",
           "ticks": "",
           "title": {
            "standoff": 15
           },
           "zerolinecolor": "#EBF0F8",
           "zerolinewidth": 2
          }
         }
        },
        "title": {
         "font": {
          "color": "Black",
          "size": 22
         },
         "text": "Topic Word Scores",
         "x": 0.5,
         "xanchor": "center",
         "yanchor": "top"
        },
        "width": 1000,
        "xaxis": {
         "anchor": "y",
         "domain": [
          0,
          0.175
         ],
         "showgrid": true
        },
        "xaxis2": {
         "anchor": "y2",
         "domain": [
          0.275,
          0.45
         ],
         "showgrid": true
        },
        "xaxis3": {
         "anchor": "y3",
         "domain": [
          0.55,
          0.7250000000000001
         ],
         "showgrid": true
        },
        "xaxis4": {
         "anchor": "y4",
         "domain": [
          0.825,
          1
         ],
         "showgrid": true
        },
        "xaxis5": {
         "anchor": "y5",
         "domain": [
          0,
          0.175
         ],
         "showgrid": true
        },
        "xaxis6": {
         "anchor": "y6",
         "domain": [
          0.275,
          0.45
         ],
         "showgrid": true
        },
        "xaxis7": {
         "anchor": "y7",
         "domain": [
          0.55,
          0.7250000000000001
         ],
         "showgrid": true
        },
        "xaxis8": {
         "anchor": "y8",
         "domain": [
          0.825,
          1
         ],
         "showgrid": true
        },
        "yaxis": {
         "anchor": "x",
         "domain": [
          0.6000000000000001,
          1
         ],
         "showgrid": true
        },
        "yaxis2": {
         "anchor": "x2",
         "domain": [
          0.6000000000000001,
          1
         ],
         "showgrid": true
        },
        "yaxis3": {
         "anchor": "x3",
         "domain": [
          0.6000000000000001,
          1
         ],
         "showgrid": true
        },
        "yaxis4": {
         "anchor": "x4",
         "domain": [
          0.6000000000000001,
          1
         ],
         "showgrid": true
        },
        "yaxis5": {
         "anchor": "x5",
         "domain": [
          0,
          0.4
         ],
         "showgrid": true
        },
        "yaxis6": {
         "anchor": "x6",
         "domain": [
          0,
          0.4
         ],
         "showgrid": true
        },
        "yaxis7": {
         "anchor": "x7",
         "domain": [
          0,
          0.4
         ],
         "showgrid": true
        },
        "yaxis8": {
         "anchor": "x8",
         "domain": [
          0,
          0.4
         ],
         "showgrid": true
        }
       }
      },
      "text/html": [
       "<div>                        <script type=\"text/javascript\">window.PlotlyConfig = {MathJaxConfig: 'local'};</script>\n",
       "        <script charset=\"utf-8\" src=\"https://cdn.plot.ly/plotly-2.32.0.min.js\"></script>                <div id=\"2bd4b571-ba47-416f-9ab3-fdc1e8c8266f\" class=\"plotly-graph-div\" style=\"height:500px; width:1000px;\"></div>            <script type=\"text/javascript\">                                    window.PLOTLYENV=window.PLOTLYENV || {};                                    if (document.getElementById(\"2bd4b571-ba47-416f-9ab3-fdc1e8c8266f\")) {                    Plotly.newPlot(                        \"2bd4b571-ba47-416f-9ab3-fdc1e8c8266f\",                        [{\"marker\":{\"color\":\"#D55E00\"},\"orientation\":\"h\",\"x\":[0.011486646669622172,0.012431288168237607,0.014032090470058071,0.021595620646452606,0.03214779482457904],\"y\":[\"fbi  \",\"election  \",\"biden  \",\"trump  \",\"via  \"],\"type\":\"bar\",\"xaxis\":\"x\",\"yaxis\":\"y\"},{\"marker\":{\"color\":\"#0072B2\"},\"orientation\":\"h\",\"x\":[0.03822231902499201,0.040056509434912874,0.06357316045692528,0.4032863047961809,0.6562604331023801],\"y\":[\"rudy  \",\"franklin  \",\"matt  \",\"you  \",\"thank  \"],\"type\":\"bar\",\"xaxis\":\"x2\",\"yaxis\":\"y2\"},{\"marker\":{\"color\":\"#CC79A7\"},\"orientation\":\"h\",\"x\":[0.13946770495253558,0.17732415982026678,0.29732439500277547,0.3490814714190747,0.5487543685666976],\"y\":[\"amazing  \",\"great  \",\"thanks  \",\"wow  \",\"true  \"],\"type\":\"bar\",\"xaxis\":\"x3\",\"yaxis\":\"y3\"},{\"marker\":{\"color\":\"#E69F00\"},\"orientation\":\"h\",\"x\":[0.1503196890088654,0.20902465013474367,0.2642754522822194,0.26441744667195083,0.3654835343169592],\"y\":[\"at  \",\"tonight  \",\"enjoy  \",\"00  \",\"interviewed  \"],\"type\":\"bar\",\"xaxis\":\"x4\",\"yaxis\":\"y4\"},{\"marker\":{\"color\":\"#56B4E9\"},\"orientation\":\"h\",\"x\":[0.06464441677646196,0.06526613725451473,0.06801523916691093,0.1327083304167988,0.13293888868930223],\"y\":[\"landed  \",\"state  \",\"way  \",\"soon  \",\"see  \"],\"type\":\"bar\",\"xaxis\":\"x5\",\"yaxis\":\"y5\"},{\"marker\":{\"color\":\"#009E73\"},\"orientation\":\"h\",\"x\":[0.06530456897197415,0.08793295144748492,0.11454182402137815,0.2098791374414593,0.2561493633649986],\"y\":[\"honor  \",\"nice  \",\"love  \",\"you  \",\"thank  \"],\"type\":\"bar\",\"xaxis\":\"x6\",\"yaxis\":\"y6\"},{\"marker\":{\"color\":\"#F0E442\"},\"orientation\":\"h\",\"x\":[0.0447877625689645,0.06183131995664561,0.21232735643600442,0.3027329830743231,0.3152837391916796],\"y\":[\"kag2020  \",\"maga2020  \",\"you  \",\"maga  \",\"thank  \"],\"type\":\"bar\",\"xaxis\":\"x7\",\"yaxis\":\"y7\"},{\"marker\":{\"color\":\"#D55E00\"},\"orientation\":\"h\",\"x\":[0.07728174779490199,0.2841029495572386,0.5026538830908789,0.5118266266662633,0.5756723631256953],\"y\":[\"keep  \",\"great  \",\"america  \",\"make  \",\"again  \"],\"type\":\"bar\",\"xaxis\":\"x8\",\"yaxis\":\"y8\"}],                        {\"template\":{\"data\":{\"barpolar\":[{\"marker\":{\"line\":{\"color\":\"white\",\"width\":0.5},\"pattern\":{\"fillmode\":\"overlay\",\"size\":10,\"solidity\":0.2}},\"type\":\"barpolar\"}],\"bar\":[{\"error_x\":{\"color\":\"#2a3f5f\"},\"error_y\":{\"color\":\"#2a3f5f\"},\"marker\":{\"line\":{\"color\":\"white\",\"width\":0.5},\"pattern\":{\"fillmode\":\"overlay\",\"size\":10,\"solidity\":0.2}},\"type\":\"bar\"}],\"carpet\":[{\"aaxis\":{\"endlinecolor\":\"#2a3f5f\",\"gridcolor\":\"#C8D4E3\",\"linecolor\":\"#C8D4E3\",\"minorgridcolor\":\"#C8D4E3\",\"startlinecolor\":\"#2a3f5f\"},\"baxis\":{\"endlinecolor\":\"#2a3f5f\",\"gridcolor\":\"#C8D4E3\",\"linecolor\":\"#C8D4E3\",\"minorgridcolor\":\"#C8D4E3\",\"startlinecolor\":\"#2a3f5f\"},\"type\":\"carpet\"}],\"choropleth\":[{\"colorbar\":{\"outlinewidth\":0,\"ticks\":\"\"},\"type\":\"choropleth\"}],\"contourcarpet\":[{\"colorbar\":{\"outlinewidth\":0,\"ticks\":\"\"},\"type\":\"contourcarpet\"}],\"contour\":[{\"colorbar\":{\"outlinewidth\":0,\"ticks\":\"\"},\"colorscale\":[[0.0,\"#0d0887\"],[0.1111111111111111,\"#46039f\"],[0.2222222222222222,\"#7201a8\"],[0.3333333333333333,\"#9c179e\"],[0.4444444444444444,\"#bd3786\"],[0.5555555555555556,\"#d8576b\"],[0.6666666666666666,\"#ed7953\"],[0.7777777777777778,\"#fb9f3a\"],[0.8888888888888888,\"#fdca26\"],[1.0,\"#f0f921\"]],\"type\":\"contour\"}],\"heatmapgl\":[{\"colorbar\":{\"outlinewidth\":0,\"ticks\":\"\"},\"colorscale\":[[0.0,\"#0d0887\"],[0.1111111111111111,\"#46039f\"],[0.2222222222222222,\"#7201a8\"],[0.3333333333333333,\"#9c179e\"],[0.4444444444444444,\"#bd3786\"],[0.5555555555555556,\"#d8576b\"],[0.6666666666666666,\"#ed7953\"],[0.7777777777777778,\"#fb9f3a\"],[0.8888888888888888,\"#fdca26\"],[1.0,\"#f0f921\"]],\"type\":\"heatmapgl\"}],\"heatmap\":[{\"colorbar\":{\"outlinewidth\":0,\"ticks\":\"\"},\"colorscale\":[[0.0,\"#0d0887\"],[0.1111111111111111,\"#46039f\"],[0.2222222222222222,\"#7201a8\"],[0.3333333333333333,\"#9c179e\"],[0.4444444444444444,\"#bd3786\"],[0.5555555555555556,\"#d8576b\"],[0.6666666666666666,\"#ed7953\"],[0.7777777777777778,\"#fb9f3a\"],[0.8888888888888888,\"#fdca26\"],[1.0,\"#f0f921\"]],\"type\":\"heatmap\"}],\"histogram2dcontour\":[{\"colorbar\":{\"outlinewidth\":0,\"ticks\":\"\"},\"colorscale\":[[0.0,\"#0d0887\"],[0.1111111111111111,\"#46039f\"],[0.2222222222222222,\"#7201a8\"],[0.3333333333333333,\"#9c179e\"],[0.4444444444444444,\"#bd3786\"],[0.5555555555555556,\"#d8576b\"],[0.6666666666666666,\"#ed7953\"],[0.7777777777777778,\"#fb9f3a\"],[0.8888888888888888,\"#fdca26\"],[1.0,\"#f0f921\"]],\"type\":\"histogram2dcontour\"}],\"histogram2d\":[{\"colorbar\":{\"outlinewidth\":0,\"ticks\":\"\"},\"colorscale\":[[0.0,\"#0d0887\"],[0.1111111111111111,\"#46039f\"],[0.2222222222222222,\"#7201a8\"],[0.3333333333333333,\"#9c179e\"],[0.4444444444444444,\"#bd3786\"],[0.5555555555555556,\"#d8576b\"],[0.6666666666666666,\"#ed7953\"],[0.7777777777777778,\"#fb9f3a\"],[0.8888888888888888,\"#fdca26\"],[1.0,\"#f0f921\"]],\"type\":\"histogram2d\"}],\"histogram\":[{\"marker\":{\"pattern\":{\"fillmode\":\"overlay\",\"size\":10,\"solidity\":0.2}},\"type\":\"histogram\"}],\"mesh3d\":[{\"colorbar\":{\"outlinewidth\":0,\"ticks\":\"\"},\"type\":\"mesh3d\"}],\"parcoords\":[{\"line\":{\"colorbar\":{\"outlinewidth\":0,\"ticks\":\"\"}},\"type\":\"parcoords\"}],\"pie\":[{\"automargin\":true,\"type\":\"pie\"}],\"scatter3d\":[{\"line\":{\"colorbar\":{\"outlinewidth\":0,\"ticks\":\"\"}},\"marker\":{\"colorbar\":{\"outlinewidth\":0,\"ticks\":\"\"}},\"type\":\"scatter3d\"}],\"scattercarpet\":[{\"marker\":{\"colorbar\":{\"outlinewidth\":0,\"ticks\":\"\"}},\"type\":\"scattercarpet\"}],\"scattergeo\":[{\"marker\":{\"colorbar\":{\"outlinewidth\":0,\"ticks\":\"\"}},\"type\":\"scattergeo\"}],\"scattergl\":[{\"marker\":{\"colorbar\":{\"outlinewidth\":0,\"ticks\":\"\"}},\"type\":\"scattergl\"}],\"scattermapbox\":[{\"marker\":{\"colorbar\":{\"outlinewidth\":0,\"ticks\":\"\"}},\"type\":\"scattermapbox\"}],\"scatterpolargl\":[{\"marker\":{\"colorbar\":{\"outlinewidth\":0,\"ticks\":\"\"}},\"type\":\"scatterpolargl\"}],\"scatterpolar\":[{\"marker\":{\"colorbar\":{\"outlinewidth\":0,\"ticks\":\"\"}},\"type\":\"scatterpolar\"}],\"scatter\":[{\"fillpattern\":{\"fillmode\":\"overlay\",\"size\":10,\"solidity\":0.2},\"type\":\"scatter\"}],\"scatterternary\":[{\"marker\":{\"colorbar\":{\"outlinewidth\":0,\"ticks\":\"\"}},\"type\":\"scatterternary\"}],\"surface\":[{\"colorbar\":{\"outlinewidth\":0,\"ticks\":\"\"},\"colorscale\":[[0.0,\"#0d0887\"],[0.1111111111111111,\"#46039f\"],[0.2222222222222222,\"#7201a8\"],[0.3333333333333333,\"#9c179e\"],[0.4444444444444444,\"#bd3786\"],[0.5555555555555556,\"#d8576b\"],[0.6666666666666666,\"#ed7953\"],[0.7777777777777778,\"#fb9f3a\"],[0.8888888888888888,\"#fdca26\"],[1.0,\"#f0f921\"]],\"type\":\"surface\"}],\"table\":[{\"cells\":{\"fill\":{\"color\":\"#EBF0F8\"},\"line\":{\"color\":\"white\"}},\"header\":{\"fill\":{\"color\":\"#C8D4E3\"},\"line\":{\"color\":\"white\"}},\"type\":\"table\"}]},\"layout\":{\"annotationdefaults\":{\"arrowcolor\":\"#2a3f5f\",\"arrowhead\":0,\"arrowwidth\":1},\"autotypenumbers\":\"strict\",\"coloraxis\":{\"colorbar\":{\"outlinewidth\":0,\"ticks\":\"\"}},\"colorscale\":{\"diverging\":[[0,\"#8e0152\"],[0.1,\"#c51b7d\"],[0.2,\"#de77ae\"],[0.3,\"#f1b6da\"],[0.4,\"#fde0ef\"],[0.5,\"#f7f7f7\"],[0.6,\"#e6f5d0\"],[0.7,\"#b8e186\"],[0.8,\"#7fbc41\"],[0.9,\"#4d9221\"],[1,\"#276419\"]],\"sequential\":[[0.0,\"#0d0887\"],[0.1111111111111111,\"#46039f\"],[0.2222222222222222,\"#7201a8\"],[0.3333333333333333,\"#9c179e\"],[0.4444444444444444,\"#bd3786\"],[0.5555555555555556,\"#d8576b\"],[0.6666666666666666,\"#ed7953\"],[0.7777777777777778,\"#fb9f3a\"],[0.8888888888888888,\"#fdca26\"],[1.0,\"#f0f921\"]],\"sequentialminus\":[[0.0,\"#0d0887\"],[0.1111111111111111,\"#46039f\"],[0.2222222222222222,\"#7201a8\"],[0.3333333333333333,\"#9c179e\"],[0.4444444444444444,\"#bd3786\"],[0.5555555555555556,\"#d8576b\"],[0.6666666666666666,\"#ed7953\"],[0.7777777777777778,\"#fb9f3a\"],[0.8888888888888888,\"#fdca26\"],[1.0,\"#f0f921\"]]},\"colorway\":[\"#636efa\",\"#EF553B\",\"#00cc96\",\"#ab63fa\",\"#FFA15A\",\"#19d3f3\",\"#FF6692\",\"#B6E880\",\"#FF97FF\",\"#FECB52\"],\"font\":{\"color\":\"#2a3f5f\"},\"geo\":{\"bgcolor\":\"white\",\"lakecolor\":\"white\",\"landcolor\":\"white\",\"showlakes\":true,\"showland\":true,\"subunitcolor\":\"#C8D4E3\"},\"hoverlabel\":{\"align\":\"left\"},\"hovermode\":\"closest\",\"mapbox\":{\"style\":\"light\"},\"paper_bgcolor\":\"white\",\"plot_bgcolor\":\"white\",\"polar\":{\"angularaxis\":{\"gridcolor\":\"#EBF0F8\",\"linecolor\":\"#EBF0F8\",\"ticks\":\"\"},\"bgcolor\":\"white\",\"radialaxis\":{\"gridcolor\":\"#EBF0F8\",\"linecolor\":\"#EBF0F8\",\"ticks\":\"\"}},\"scene\":{\"xaxis\":{\"backgroundcolor\":\"white\",\"gridcolor\":\"#DFE8F3\",\"gridwidth\":2,\"linecolor\":\"#EBF0F8\",\"showbackground\":true,\"ticks\":\"\",\"zerolinecolor\":\"#EBF0F8\"},\"yaxis\":{\"backgroundcolor\":\"white\",\"gridcolor\":\"#DFE8F3\",\"gridwidth\":2,\"linecolor\":\"#EBF0F8\",\"showbackground\":true,\"ticks\":\"\",\"zerolinecolor\":\"#EBF0F8\"},\"zaxis\":{\"backgroundcolor\":\"white\",\"gridcolor\":\"#DFE8F3\",\"gridwidth\":2,\"linecolor\":\"#EBF0F8\",\"showbackground\":true,\"ticks\":\"\",\"zerolinecolor\":\"#EBF0F8\"}},\"shapedefaults\":{\"line\":{\"color\":\"#2a3f5f\"}},\"ternary\":{\"aaxis\":{\"gridcolor\":\"#DFE8F3\",\"linecolor\":\"#A2B1C6\",\"ticks\":\"\"},\"baxis\":{\"gridcolor\":\"#DFE8F3\",\"linecolor\":\"#A2B1C6\",\"ticks\":\"\"},\"bgcolor\":\"white\",\"caxis\":{\"gridcolor\":\"#DFE8F3\",\"linecolor\":\"#A2B1C6\",\"ticks\":\"\"}},\"title\":{\"x\":0.05},\"xaxis\":{\"automargin\":true,\"gridcolor\":\"#EBF0F8\",\"linecolor\":\"#EBF0F8\",\"ticks\":\"\",\"title\":{\"standoff\":15},\"zerolinecolor\":\"#EBF0F8\",\"zerolinewidth\":2},\"yaxis\":{\"automargin\":true,\"gridcolor\":\"#EBF0F8\",\"linecolor\":\"#EBF0F8\",\"ticks\":\"\",\"title\":{\"standoff\":15},\"zerolinecolor\":\"#EBF0F8\",\"zerolinewidth\":2}}},\"xaxis\":{\"anchor\":\"y\",\"domain\":[0.0,0.175],\"showgrid\":true},\"yaxis\":{\"anchor\":\"x\",\"domain\":[0.6000000000000001,1.0],\"showgrid\":true},\"xaxis2\":{\"anchor\":\"y2\",\"domain\":[0.275,0.45],\"showgrid\":true},\"yaxis2\":{\"anchor\":\"x2\",\"domain\":[0.6000000000000001,1.0],\"showgrid\":true},\"xaxis3\":{\"anchor\":\"y3\",\"domain\":[0.55,0.7250000000000001],\"showgrid\":true},\"yaxis3\":{\"anchor\":\"x3\",\"domain\":[0.6000000000000001,1.0],\"showgrid\":true},\"xaxis4\":{\"anchor\":\"y4\",\"domain\":[0.825,1.0],\"showgrid\":true},\"yaxis4\":{\"anchor\":\"x4\",\"domain\":[0.6000000000000001,1.0],\"showgrid\":true},\"xaxis5\":{\"anchor\":\"y5\",\"domain\":[0.0,0.175],\"showgrid\":true},\"yaxis5\":{\"anchor\":\"x5\",\"domain\":[0.0,0.4],\"showgrid\":true},\"xaxis6\":{\"anchor\":\"y6\",\"domain\":[0.275,0.45],\"showgrid\":true},\"yaxis6\":{\"anchor\":\"x6\",\"domain\":[0.0,0.4],\"showgrid\":true},\"xaxis7\":{\"anchor\":\"y7\",\"domain\":[0.55,0.7250000000000001],\"showgrid\":true},\"yaxis7\":{\"anchor\":\"x7\",\"domain\":[0.0,0.4],\"showgrid\":true},\"xaxis8\":{\"anchor\":\"y8\",\"domain\":[0.825,1.0],\"showgrid\":true},\"yaxis8\":{\"anchor\":\"x8\",\"domain\":[0.0,0.4],\"showgrid\":true},\"annotations\":[{\"font\":{\"size\":16},\"showarrow\":false,\"text\":\"Topic 0\",\"x\":0.0875,\"xanchor\":\"center\",\"xref\":\"paper\",\"y\":1.0,\"yanchor\":\"bottom\",\"yref\":\"paper\"},{\"font\":{\"size\":16},\"showarrow\":false,\"text\":\"Topic 1\",\"x\":0.36250000000000004,\"xanchor\":\"center\",\"xref\":\"paper\",\"y\":1.0,\"yanchor\":\"bottom\",\"yref\":\"paper\"},{\"font\":{\"size\":16},\"showarrow\":false,\"text\":\"Topic 2\",\"x\":0.6375000000000001,\"xanchor\":\"center\",\"xref\":\"paper\",\"y\":1.0,\"yanchor\":\"bottom\",\"yref\":\"paper\"},{\"font\":{\"size\":16},\"showarrow\":false,\"text\":\"Topic 3\",\"x\":0.9125,\"xanchor\":\"center\",\"xref\":\"paper\",\"y\":1.0,\"yanchor\":\"bottom\",\"yref\":\"paper\"},{\"font\":{\"size\":16},\"showarrow\":false,\"text\":\"Topic 4\",\"x\":0.0875,\"xanchor\":\"center\",\"xref\":\"paper\",\"y\":0.4,\"yanchor\":\"bottom\",\"yref\":\"paper\"},{\"font\":{\"size\":16},\"showarrow\":false,\"text\":\"Topic 5\",\"x\":0.36250000000000004,\"xanchor\":\"center\",\"xref\":\"paper\",\"y\":0.4,\"yanchor\":\"bottom\",\"yref\":\"paper\"},{\"font\":{\"size\":16},\"showarrow\":false,\"text\":\"Topic 6\",\"x\":0.6375000000000001,\"xanchor\":\"center\",\"xref\":\"paper\",\"y\":0.4,\"yanchor\":\"bottom\",\"yref\":\"paper\"},{\"font\":{\"size\":16},\"showarrow\":false,\"text\":\"Topic 7\",\"x\":0.9125,\"xanchor\":\"center\",\"xref\":\"paper\",\"y\":0.4,\"yanchor\":\"bottom\",\"yref\":\"paper\"}],\"title\":{\"font\":{\"size\":22,\"color\":\"Black\"},\"text\":\"Topic Word Scores\",\"x\":0.5,\"xanchor\":\"center\",\"yanchor\":\"top\"},\"hoverlabel\":{\"font\":{\"size\":16,\"family\":\"Rockwell\"},\"bgcolor\":\"white\"},\"showlegend\":false,\"width\":1000,\"height\":500},                        {\"responsive\": true}                    )                };                            </script>        </div>"
      ],
      "text/plain": [
       "Figure({\n",
       "    'data': [{'marker': {'color': '#D55E00'},\n",
       "              'orientation': 'h',\n",
       "              'type': 'bar',\n",
       "              'x': [0.011486646669622172, 0.012431288168237607,\n",
       "                    0.014032090470058071, 0.021595620646452606,\n",
       "                    0.03214779482457904],\n",
       "              'xaxis': 'x',\n",
       "              'y': [fbi  , election  , biden  , trump  , via  ],\n",
       "              'yaxis': 'y'},\n",
       "             {'marker': {'color': '#0072B2'},\n",
       "              'orientation': 'h',\n",
       "              'type': 'bar',\n",
       "              'x': [0.03822231902499201, 0.040056509434912874,\n",
       "                    0.06357316045692528, 0.4032863047961809, 0.6562604331023801],\n",
       "              'xaxis': 'x2',\n",
       "              'y': [rudy  , franklin  , matt  , you  , thank  ],\n",
       "              'yaxis': 'y2'},\n",
       "             {'marker': {'color': '#CC79A7'},\n",
       "              'orientation': 'h',\n",
       "              'type': 'bar',\n",
       "              'x': [0.13946770495253558, 0.17732415982026678, 0.29732439500277547,\n",
       "                    0.3490814714190747, 0.5487543685666976],\n",
       "              'xaxis': 'x3',\n",
       "              'y': [amazing  , great  , thanks  , wow  , true  ],\n",
       "              'yaxis': 'y3'},\n",
       "             {'marker': {'color': '#E69F00'},\n",
       "              'orientation': 'h',\n",
       "              'type': 'bar',\n",
       "              'x': [0.1503196890088654, 0.20902465013474367, 0.2642754522822194,\n",
       "                    0.26441744667195083, 0.3654835343169592],\n",
       "              'xaxis': 'x4',\n",
       "              'y': [at  , tonight  , enjoy  , 00  , interviewed  ],\n",
       "              'yaxis': 'y4'},\n",
       "             {'marker': {'color': '#56B4E9'},\n",
       "              'orientation': 'h',\n",
       "              'type': 'bar',\n",
       "              'x': [0.06464441677646196, 0.06526613725451473, 0.06801523916691093,\n",
       "                    0.1327083304167988, 0.13293888868930223],\n",
       "              'xaxis': 'x5',\n",
       "              'y': [landed  , state  , way  , soon  , see  ],\n",
       "              'yaxis': 'y5'},\n",
       "             {'marker': {'color': '#009E73'},\n",
       "              'orientation': 'h',\n",
       "              'type': 'bar',\n",
       "              'x': [0.06530456897197415, 0.08793295144748492, 0.11454182402137815,\n",
       "                    0.2098791374414593, 0.2561493633649986],\n",
       "              'xaxis': 'x6',\n",
       "              'y': [honor  , nice  , love  , you  , thank  ],\n",
       "              'yaxis': 'y6'},\n",
       "             {'marker': {'color': '#F0E442'},\n",
       "              'orientation': 'h',\n",
       "              'type': 'bar',\n",
       "              'x': [0.0447877625689645, 0.06183131995664561, 0.21232735643600442,\n",
       "                    0.3027329830743231, 0.3152837391916796],\n",
       "              'xaxis': 'x7',\n",
       "              'y': [kag2020  , maga2020  , you  , maga  , thank  ],\n",
       "              'yaxis': 'y7'},\n",
       "             {'marker': {'color': '#D55E00'},\n",
       "              'orientation': 'h',\n",
       "              'type': 'bar',\n",
       "              'x': [0.07728174779490199, 0.2841029495572386, 0.5026538830908789,\n",
       "                    0.5118266266662633, 0.5756723631256953],\n",
       "              'xaxis': 'x8',\n",
       "              'y': [keep  , great  , america  , make  , again  ],\n",
       "              'yaxis': 'y8'}],\n",
       "    'layout': {'annotations': [{'font': {'size': 16},\n",
       "                                'showarrow': False,\n",
       "                                'text': 'Topic 0',\n",
       "                                'x': 0.0875,\n",
       "                                'xanchor': 'center',\n",
       "                                'xref': 'paper',\n",
       "                                'y': 1.0,\n",
       "                                'yanchor': 'bottom',\n",
       "                                'yref': 'paper'},\n",
       "                               {'font': {'size': 16},\n",
       "                                'showarrow': False,\n",
       "                                'text': 'Topic 1',\n",
       "                                'x': 0.36250000000000004,\n",
       "                                'xanchor': 'center',\n",
       "                                'xref': 'paper',\n",
       "                                'y': 1.0,\n",
       "                                'yanchor': 'bottom',\n",
       "                                'yref': 'paper'},\n",
       "                               {'font': {'size': 16},\n",
       "                                'showarrow': False,\n",
       "                                'text': 'Topic 2',\n",
       "                                'x': 0.6375000000000001,\n",
       "                                'xanchor': 'center',\n",
       "                                'xref': 'paper',\n",
       "                                'y': 1.0,\n",
       "                                'yanchor': 'bottom',\n",
       "                                'yref': 'paper'},\n",
       "                               {'font': {'size': 16},\n",
       "                                'showarrow': False,\n",
       "                                'text': 'Topic 3',\n",
       "                                'x': 0.9125,\n",
       "                                'xanchor': 'center',\n",
       "                                'xref': 'paper',\n",
       "                                'y': 1.0,\n",
       "                                'yanchor': 'bottom',\n",
       "                                'yref': 'paper'},\n",
       "                               {'font': {'size': 16},\n",
       "                                'showarrow': False,\n",
       "                                'text': 'Topic 4',\n",
       "                                'x': 0.0875,\n",
       "                                'xanchor': 'center',\n",
       "                                'xref': 'paper',\n",
       "                                'y': 0.4,\n",
       "                                'yanchor': 'bottom',\n",
       "                                'yref': 'paper'},\n",
       "                               {'font': {'size': 16},\n",
       "                                'showarrow': False,\n",
       "                                'text': 'Topic 5',\n",
       "                                'x': 0.36250000000000004,\n",
       "                                'xanchor': 'center',\n",
       "                                'xref': 'paper',\n",
       "                                'y': 0.4,\n",
       "                                'yanchor': 'bottom',\n",
       "                                'yref': 'paper'},\n",
       "                               {'font': {'size': 16},\n",
       "                                'showarrow': False,\n",
       "                                'text': 'Topic 6',\n",
       "                                'x': 0.6375000000000001,\n",
       "                                'xanchor': 'center',\n",
       "                                'xref': 'paper',\n",
       "                                'y': 0.4,\n",
       "                                'yanchor': 'bottom',\n",
       "                                'yref': 'paper'},\n",
       "                               {'font': {'size': 16},\n",
       "                                'showarrow': False,\n",
       "                                'text': 'Topic 7',\n",
       "                                'x': 0.9125,\n",
       "                                'xanchor': 'center',\n",
       "                                'xref': 'paper',\n",
       "                                'y': 0.4,\n",
       "                                'yanchor': 'bottom',\n",
       "                                'yref': 'paper'}],\n",
       "               'height': 500,\n",
       "               'hoverlabel': {'bgcolor': 'white', 'font': {'family': 'Rockwell', 'size': 16}},\n",
       "               'showlegend': False,\n",
       "               'template': '...',\n",
       "               'title': {'font': {'color': 'Black', 'size': 22},\n",
       "                         'text': 'Topic Word Scores',\n",
       "                         'x': 0.5,\n",
       "                         'xanchor': 'center',\n",
       "                         'yanchor': 'top'},\n",
       "               'width': 1000,\n",
       "               'xaxis': {'anchor': 'y', 'domain': [0.0, 0.175], 'showgrid': True},\n",
       "               'xaxis2': {'anchor': 'y2', 'domain': [0.275, 0.45], 'showgrid': True},\n",
       "               'xaxis3': {'anchor': 'y3', 'domain': [0.55, 0.7250000000000001], 'showgrid': True},\n",
       "               'xaxis4': {'anchor': 'y4', 'domain': [0.825, 1.0], 'showgrid': True},\n",
       "               'xaxis5': {'anchor': 'y5', 'domain': [0.0, 0.175], 'showgrid': True},\n",
       "               'xaxis6': {'anchor': 'y6', 'domain': [0.275, 0.45], 'showgrid': True},\n",
       "               'xaxis7': {'anchor': 'y7', 'domain': [0.55, 0.7250000000000001], 'showgrid': True},\n",
       "               'xaxis8': {'anchor': 'y8', 'domain': [0.825, 1.0], 'showgrid': True},\n",
       "               'yaxis': {'anchor': 'x', 'domain': [0.6000000000000001, 1.0], 'showgrid': True},\n",
       "               'yaxis2': {'anchor': 'x2', 'domain': [0.6000000000000001, 1.0], 'showgrid': True},\n",
       "               'yaxis3': {'anchor': 'x3', 'domain': [0.6000000000000001, 1.0], 'showgrid': True},\n",
       "               'yaxis4': {'anchor': 'x4', 'domain': [0.6000000000000001, 1.0], 'showgrid': True},\n",
       "               'yaxis5': {'anchor': 'x5', 'domain': [0.0, 0.4], 'showgrid': True},\n",
       "               'yaxis6': {'anchor': 'x6', 'domain': [0.0, 0.4], 'showgrid': True},\n",
       "               'yaxis7': {'anchor': 'x7', 'domain': [0.0, 0.4], 'showgrid': True},\n",
       "               'yaxis8': {'anchor': 'x8', 'domain': [0.0, 0.4], 'showgrid': True}}\n",
       "})"
      ]
     },
     "execution_count": 71,
     "metadata": {},
     "output_type": "execute_result"
    }
   ],
   "source": [
    "marxist.visualize_barchart().write_image(\"marxist-barchart.pdf\")\n",
    "marxist.visualize_barchart()"
   ]
  },
  {
   "cell_type": "code",
   "execution_count": 72,
   "metadata": {},
   "outputs": [
    {
     "data": {
      "text/plain": [
       "['Will be interviewed by  tonight at 9:00 P.M. on  Enjoy!!!',\n",
       " 'I will be interviewed by  tonight at 9:00 P.M. on  Enjoy!',\n",
       " 'Will be interviewed by  on  tonight at 8:00 P.M. Enjoy!']"
      ]
     },
     "execution_count": 72,
     "metadata": {},
     "output_type": "execute_result"
    }
   ],
   "source": [
    "marxist.get_representative_docs(3)"
   ]
  },
  {
   "cell_type": "markdown",
   "metadata": {},
   "source": [
    "## Focus on the Nasdaq topic as an example"
   ]
  },
  {
   "cell_type": "code",
   "execution_count": 100,
   "metadata": {},
   "outputs": [
    {
     "data": {
      "text/plain": [
       "['DOW, S&amp;P 500 and NASDAQ close at record highs! #MAGA',\n",
       " '“DOW, NASDAQ, S&amp;P 500 CLOSE AT RECORD HIGHS”',\n",
       " '“DOW, NASDAQ, S&amp;P 500 CLOSE AT RECORD HIGHS”']"
      ]
     },
     "execution_count": 100,
     "metadata": {},
     "output_type": "execute_result"
    }
   ],
   "source": [
    "marxist.get_representative_docs(55)"
   ]
  },
  {
   "cell_type": "code",
   "execution_count": 109,
   "metadata": {},
   "outputs": [
    {
     "name": "stderr",
     "output_type": "stream",
     "text": [
      "2024-06-25 13:43:42,889 - BERTopic - WARNING: There are more than 100 unique timestamps (i.e., 18613) which significantly slows down the application. Consider setting `nr_bins` to a value lower than 100 to speed up calculation. \n"
     ]
    }
   ],
   "source": [
    "topics_over_time = marxist.topics_over_time( data['Tweet.Text'], data['Time'], nr_bins = 50  )\n",
    "marxist.visualize_topics_over_time(topics_over_time, topics = [55 ])"
   ]
  },
  {
   "cell_type": "code",
   "execution_count": null,
   "metadata": {},
   "outputs": [],
   "source": []
  },
  {
   "cell_type": "code",
   "execution_count": 107,
   "metadata": {},
   "outputs": [
    {
     "name": "stdout",
     "output_type": "stream",
     "text": [
      "32\n",
      "['Congratulations', 'Congratulations', 'Congratulations']\n",
      "2\n",
      "['So true!', 'So true!', 'So true']\n",
      "49\n",
      "['OBAMAGATE!', 'OBAMAGATE!', 'OBAMAGATE!']\n",
      "43\n",
      "['Presidential Harassment!', 'Presidential Harassment!', 'Presidential Harassment!']\n",
      "20\n",
      "['READ THE TRANSCRIPTS!', 'Read the transcripts!', 'Read the Transcripts!']\n"
     ]
    }
   ],
   "source": [
    "for topic in capitalist.find_topics('NASDAQ')[0]:\n",
    "    print( topic )\n",
    "    print( capitalist.get_representative_docs( topic ) )"
   ]
  },
  {
   "cell_type": "code",
   "execution_count": null,
   "metadata": {},
   "outputs": [],
   "source": []
  },
  {
   "cell_type": "code",
   "execution_count": null,
   "metadata": {},
   "outputs": [],
   "source": []
  }
 ],
 "metadata": {
  "kernelspec": {
   "display_name": "Python 3",
   "language": "python",
   "name": "python3"
  },
  "language_info": {
   "codemirror_mode": {
    "name": "ipython",
    "version": 3
   },
   "file_extension": ".py",
   "mimetype": "text/x-python",
   "name": "python",
   "nbconvert_exporter": "python",
   "pygments_lexer": "ipython3",
   "version": "3.12.4"
  }
 },
 "nbformat": 4,
 "nbformat_minor": 2
}
